{
  "nbformat": 4,
  "nbformat_minor": 0,
  "metadata": {
    "colab": {
      "provenance": [],
      "gpuType": "T4",
      "toc_visible": true
    },
    "kernelspec": {
      "name": "python3",
      "display_name": "Python 3"
    },
    "language_info": {
      "name": "python"
    },
    "accelerator": "GPU"
  },
  "cells": [
    {
      "cell_type": "markdown",
      "source": [
        "# 7.2"
      ],
      "metadata": {
        "id": "5uw-UdJ53YZo"
      }
    },
    {
      "cell_type": "code",
      "execution_count": null,
      "metadata": {
        "id": "-GExL5uRUihi"
      },
      "outputs": [],
      "source": [
        "import torch\n",
        "from torch import nn\n",
        "from d2l import torch as d2l"
      ]
    },
    {
      "cell_type": "code",
      "source": [
        "def corr2d(X, K):  #@save\n",
        "    \"\"\"Compute 2D cross-correlation.\"\"\"\n",
        "    h, w = K.shape\n",
        "    Y = torch.zeros((X.shape[0] - h + 1, X.shape[1] - w + 1))\n",
        "    for i in range(Y.shape[0]):\n",
        "        for j in range(Y.shape[1]):\n",
        "            Y[i, j] = (X[i:i + h, j:j + w] * K).sum()\n",
        "    return Y"
      ],
      "metadata": {
        "id": "FRtZTn2S5Nyl"
      },
      "execution_count": null,
      "outputs": []
    },
    {
      "cell_type": "code",
      "source": [
        "X = torch.tensor([[0.0, 1.0, 2.0], [3.0, 4.0, 5.0], [6.0, 7.0, 8.0]])\n",
        "K = torch.tensor([[0.0, 1.0], [2.0, 3.0]])\n",
        "corr2d(X, K)"
      ],
      "metadata": {
        "colab": {
          "base_uri": "https://localhost:8080/"
        },
        "id": "fzJp4gw35VAk",
        "outputId": "6829b0ba-587b-4a2a-bfff-88c165c7063a"
      },
      "execution_count": null,
      "outputs": [
        {
          "output_type": "execute_result",
          "data": {
            "text/plain": [
              "tensor([[19., 25.],\n",
              "        [37., 43.]])"
            ]
          },
          "metadata": {},
          "execution_count": 3
        }
      ]
    },
    {
      "cell_type": "code",
      "source": [
        "class Conv2D(nn.Module):\n",
        "    def __init__(self, kernel_size):\n",
        "        super().__init__()\n",
        "        self.weight = nn.Parameter(torch.rand(kernel_size))\n",
        "        self.bias = nn.Parameter(torch.zeros(1))\n",
        "\n",
        "    def forward(self, x):\n",
        "        return corr2d(x, self.weight) + self.bias"
      ],
      "metadata": {
        "id": "RRwgeHhX5YZT"
      },
      "execution_count": null,
      "outputs": []
    },
    {
      "cell_type": "code",
      "source": [
        "X = torch.ones((6, 8))\n",
        "X[:, 2:6] = 0\n",
        "X"
      ],
      "metadata": {
        "colab": {
          "base_uri": "https://localhost:8080/"
        },
        "id": "CkrAvuKo5bGa",
        "outputId": "d19ea15a-c88c-47ae-9e0c-0527e4d220c7"
      },
      "execution_count": null,
      "outputs": [
        {
          "output_type": "execute_result",
          "data": {
            "text/plain": [
              "tensor([[1., 1., 0., 0., 0., 0., 1., 1.],\n",
              "        [1., 1., 0., 0., 0., 0., 1., 1.],\n",
              "        [1., 1., 0., 0., 0., 0., 1., 1.],\n",
              "        [1., 1., 0., 0., 0., 0., 1., 1.],\n",
              "        [1., 1., 0., 0., 0., 0., 1., 1.],\n",
              "        [1., 1., 0., 0., 0., 0., 1., 1.]])"
            ]
          },
          "metadata": {},
          "execution_count": 5
        }
      ]
    },
    {
      "cell_type": "code",
      "source": [
        "K = torch.tensor([[1.0, -1.0]])"
      ],
      "metadata": {
        "id": "RgLZgPrA5lUY"
      },
      "execution_count": null,
      "outputs": []
    },
    {
      "cell_type": "code",
      "source": [
        "Y = corr2d(X, K)\n",
        "Y"
      ],
      "metadata": {
        "colab": {
          "base_uri": "https://localhost:8080/"
        },
        "id": "0SOfJD2O5yr2",
        "outputId": "cf96445a-eca6-4bc9-8190-fae7cebf35a4"
      },
      "execution_count": null,
      "outputs": [
        {
          "output_type": "execute_result",
          "data": {
            "text/plain": [
              "tensor([[ 0.,  1.,  0.,  0.,  0., -1.,  0.],\n",
              "        [ 0.,  1.,  0.,  0.,  0., -1.,  0.],\n",
              "        [ 0.,  1.,  0.,  0.,  0., -1.,  0.],\n",
              "        [ 0.,  1.,  0.,  0.,  0., -1.,  0.],\n",
              "        [ 0.,  1.,  0.,  0.,  0., -1.,  0.],\n",
              "        [ 0.,  1.,  0.,  0.,  0., -1.,  0.]])"
            ]
          },
          "metadata": {},
          "execution_count": 7
        }
      ]
    },
    {
      "cell_type": "code",
      "source": [
        "corr2d(X.t(), K)"
      ],
      "metadata": {
        "colab": {
          "base_uri": "https://localhost:8080/"
        },
        "id": "y8d9_Q5H5172",
        "outputId": "3f581f50-e121-480a-db7f-54a39b66b8b4"
      },
      "execution_count": null,
      "outputs": [
        {
          "output_type": "execute_result",
          "data": {
            "text/plain": [
              "tensor([[0., 0., 0., 0., 0.],\n",
              "        [0., 0., 0., 0., 0.],\n",
              "        [0., 0., 0., 0., 0.],\n",
              "        [0., 0., 0., 0., 0.],\n",
              "        [0., 0., 0., 0., 0.],\n",
              "        [0., 0., 0., 0., 0.],\n",
              "        [0., 0., 0., 0., 0.],\n",
              "        [0., 0., 0., 0., 0.]])"
            ]
          },
          "metadata": {},
          "execution_count": 8
        }
      ]
    },
    {
      "cell_type": "code",
      "source": [
        "\n",
        "conv2d = nn.LazyConv2d(1, kernel_size=(1, 2), bias=False)\n",
        "\n",
        "\n",
        "X = X.reshape((1, 1, 6, 8))\n",
        "Y = Y.reshape((1, 1, 6, 7))\n",
        "lr = 3e-2\n",
        "for i in range(10):\n",
        "    Y_hat = conv2d(X)\n",
        "    l = (Y_hat - Y) ** 2\n",
        "    conv2d.zero_grad()\n",
        "    l.sum().backward()\n",
        "    conv2d.weight.data[:] -= lr * conv2d.weight.grad\n",
        "    if (i + 1) % 2 == 0:\n",
        "        print(f'epoch {i + 1}, loss {l.sum():.3f}')"
      ],
      "metadata": {
        "colab": {
          "base_uri": "https://localhost:8080/"
        },
        "id": "seGHEgDv5_eA",
        "outputId": "a40a3742-cb38-47a0-88ce-a6b4ed29f242"
      },
      "execution_count": null,
      "outputs": [
        {
          "output_type": "stream",
          "name": "stdout",
          "text": [
            "epoch 2, loss 8.373\n",
            "epoch 4, loss 2.157\n",
            "epoch 6, loss 0.670\n",
            "epoch 8, loss 0.239\n",
            "epoch 10, loss 0.092\n"
          ]
        }
      ]
    },
    {
      "cell_type": "code",
      "source": [
        "conv2d.weight.data.reshape((1, 2))"
      ],
      "metadata": {
        "colab": {
          "base_uri": "https://localhost:8080/"
        },
        "id": "X7bUFeQN64_U",
        "outputId": "f49a89df-7614-44fe-e66e-9f221292813f"
      },
      "execution_count": null,
      "outputs": [
        {
          "output_type": "execute_result",
          "data": {
            "text/plain": [
              "tensor([[ 0.9575, -1.0186]])"
            ]
          },
          "metadata": {},
          "execution_count": 10
        }
      ]
    },
    {
      "cell_type": "markdown",
      "source": [
        "# Discussions\n",
        "\n",
        "커널 사이즈는 합성곱 신경망(CNN)에서 중요한 요소로, 필터가 입력 이미지에서 한 번에 처리하는 영역의 크기를 나타낸다. 작은 커널(예: 3x3)은 이미지의 세밀한 특징을 포착하는 데 효과적이며, 큰 커널(예: 7x7)은 더 넓은 범위의 정보를 추출하는 데 유리하다. 커널 사이즈는 모델의 성능에 영향을 미치며, 큰 커널은 계산 비용이 증가하지만 더 많은 정보를 얻을 수 있다는 장점이 있다."
      ],
      "metadata": {
        "id": "x74LlEa5bdq3"
      }
    },
    {
      "cell_type": "markdown",
      "source": [
        "# 7.3"
      ],
      "metadata": {
        "id": "omGRGArj7EnP"
      }
    },
    {
      "cell_type": "code",
      "source": [
        "import torch\n",
        "from torch import nn"
      ],
      "metadata": {
        "id": "h0AJ_40p7NXl"
      },
      "execution_count": null,
      "outputs": []
    },
    {
      "cell_type": "code",
      "source": [
        "# We define a helper function to calculate convolutions. It initializes the\n",
        "# convolutional layer weights and performs corresponding dimensionality\n",
        "# elevations and reductions on the input and output\n",
        "def comp_conv2d(conv2d, X):\n",
        "    # (1, 1) indicates that batch size and the number of channels are both 1\n",
        "    X = X.reshape((1, 1) + X.shape)\n",
        "    Y = conv2d(X)\n",
        "    # Strip the first two dimensions: examples and channels\n",
        "    return Y.reshape(Y.shape[2:])\n",
        "\n",
        "# 1 row and column is padded on either side, so a total of 2 rows or columns\n",
        "# are added\n",
        "conv2d = nn.LazyConv2d(1, kernel_size=3, padding=1)\n",
        "X = torch.rand(size=(8, 8))\n",
        "comp_conv2d(conv2d, X).shape"
      ],
      "metadata": {
        "colab": {
          "base_uri": "https://localhost:8080/"
        },
        "id": "gw4X3TRn8SZn",
        "outputId": "c7404857-019b-4d54-e423-17a6afa3b3b4"
      },
      "execution_count": null,
      "outputs": [
        {
          "output_type": "execute_result",
          "data": {
            "text/plain": [
              "torch.Size([8, 8])"
            ]
          },
          "metadata": {},
          "execution_count": 12
        }
      ]
    },
    {
      "cell_type": "code",
      "source": [
        "\n",
        "conv2d = nn.LazyConv2d(1, kernel_size=(5, 3), padding=(2, 1))\n",
        "comp_conv2d(conv2d, X).shape"
      ],
      "metadata": {
        "colab": {
          "base_uri": "https://localhost:8080/"
        },
        "id": "J7IuAJD38Ukn",
        "outputId": "eabebb19-4774-4171-fdfb-b200e32fb7d8"
      },
      "execution_count": null,
      "outputs": [
        {
          "output_type": "execute_result",
          "data": {
            "text/plain": [
              "torch.Size([8, 8])"
            ]
          },
          "metadata": {},
          "execution_count": 13
        }
      ]
    },
    {
      "cell_type": "code",
      "source": [
        "conv2d = nn.LazyConv2d(1, kernel_size=3, padding=1, stride=2)\n",
        "comp_conv2d(conv2d, X).shape"
      ],
      "metadata": {
        "colab": {
          "base_uri": "https://localhost:8080/"
        },
        "id": "DdstVsqu8Xli",
        "outputId": "fa30f9a9-8517-40f0-961b-fbe27cdda4f4"
      },
      "execution_count": null,
      "outputs": [
        {
          "output_type": "execute_result",
          "data": {
            "text/plain": [
              "torch.Size([4, 4])"
            ]
          },
          "metadata": {},
          "execution_count": 14
        }
      ]
    },
    {
      "cell_type": "code",
      "source": [
        "conv2d = nn.LazyConv2d(1, kernel_size=(3, 5), padding=(0, 1), stride=(3, 4))\n",
        "comp_conv2d(conv2d, X).shape"
      ],
      "metadata": {
        "colab": {
          "base_uri": "https://localhost:8080/"
        },
        "id": "6xT8ZE8H8e1M",
        "outputId": "ba013bc6-3d8c-4632-c0cd-8b608c6146f1"
      },
      "execution_count": null,
      "outputs": [
        {
          "output_type": "execute_result",
          "data": {
            "text/plain": [
              "torch.Size([2, 2])"
            ]
          },
          "metadata": {},
          "execution_count": 15
        }
      ]
    },
    {
      "cell_type": "markdown",
      "source": [
        "# Discussions\n",
        "이전 레이어와 같은 크기의 출력을 만들기 위해서는 패딩(padding)과 커널 크기(kernel size)가 중요하다. 패딩을 적절히 설정하면 입력과 동일한 크기의 출력을 만들 수 있다. 커널 크기가k*k일 때, 패딩 크기(k-1)/2로 설정해야 한다. 예를 들어, 커널 크기가 3x3이면 패딩을 1로 설정하면 된다."
      ],
      "metadata": {
        "id": "3nKxA_ynL1Xl"
      }
    },
    {
      "cell_type": "markdown",
      "source": [
        "# 7.4"
      ],
      "metadata": {
        "id": "AUyKnCGe8i7f"
      }
    },
    {
      "cell_type": "code",
      "source": [
        "import torch\n",
        "from d2l import torch as d2l"
      ],
      "metadata": {
        "id": "70xrM3qH8ku1"
      },
      "execution_count": null,
      "outputs": []
    },
    {
      "cell_type": "code",
      "source": [
        "def corr2d_multi_in(X, K):\n",
        "    # Iterate through the 0th dimension (channel) of K first, then add them up\n",
        "    return sum(d2l.corr2d(x, k) for x, k in zip(X, K))"
      ],
      "metadata": {
        "id": "-giBBrUn8ndy"
      },
      "execution_count": null,
      "outputs": []
    },
    {
      "cell_type": "code",
      "source": [
        "X = torch.tensor([[[0.0, 1.0, 2.0], [3.0, 4.0, 5.0], [6.0, 7.0, 8.0]],\n",
        "               [[1.0, 2.0, 3.0], [4.0, 5.0, 6.0], [7.0, 8.0, 9.0]]])\n",
        "K = torch.tensor([[[0.0, 1.0], [2.0, 3.0]], [[1.0, 2.0], [3.0, 4.0]]])\n",
        "\n",
        "corr2d_multi_in(X, K)"
      ],
      "metadata": {
        "colab": {
          "base_uri": "https://localhost:8080/"
        },
        "id": "iJqy0OYO8o54",
        "outputId": "e7d20ae6-b53b-4ac7-e1b1-f30564a44214"
      },
      "execution_count": null,
      "outputs": [
        {
          "output_type": "execute_result",
          "data": {
            "text/plain": [
              "tensor([[ 56.,  72.],\n",
              "        [104., 120.]])"
            ]
          },
          "metadata": {},
          "execution_count": 18
        }
      ]
    },
    {
      "cell_type": "code",
      "source": [
        "def corr2d_multi_in_out(X, K):\n",
        "    # Iterate through the 0th dimension of K, and each time, perform\n",
        "    # cross-correlation operations with input X. All of the results are\n",
        "    # stacked together\n",
        "    return torch.stack([corr2d_multi_in(X, k) for k in K], 0)"
      ],
      "metadata": {
        "id": "kCwJ3Nxd8q_I"
      },
      "execution_count": null,
      "outputs": []
    },
    {
      "cell_type": "code",
      "source": [
        "K = torch.stack((K, K + 1, K + 2), 0)\n",
        "K.shape"
      ],
      "metadata": {
        "colab": {
          "base_uri": "https://localhost:8080/"
        },
        "id": "BO5p3JXw8sxK",
        "outputId": "846713f6-c526-4678-c01a-a11761360636"
      },
      "execution_count": null,
      "outputs": [
        {
          "output_type": "execute_result",
          "data": {
            "text/plain": [
              "torch.Size([3, 2, 2, 2])"
            ]
          },
          "metadata": {},
          "execution_count": 20
        }
      ]
    },
    {
      "cell_type": "code",
      "source": [
        "corr2d_multi_in_out(X, K)"
      ],
      "metadata": {
        "colab": {
          "base_uri": "https://localhost:8080/"
        },
        "id": "JE16yJOh8t3l",
        "outputId": "91c4256c-2fef-44d0-a412-fc244fa13026"
      },
      "execution_count": null,
      "outputs": [
        {
          "output_type": "execute_result",
          "data": {
            "text/plain": [
              "tensor([[[ 56.,  72.],\n",
              "         [104., 120.]],\n",
              "\n",
              "        [[ 76., 100.],\n",
              "         [148., 172.]],\n",
              "\n",
              "        [[ 96., 128.],\n",
              "         [192., 224.]]])"
            ]
          },
          "metadata": {},
          "execution_count": 21
        }
      ]
    },
    {
      "cell_type": "code",
      "source": [
        "def corr2d_multi_in_out_1x1(X, K):\n",
        "    c_i, h, w = X.shape\n",
        "    c_o = K.shape[0]\n",
        "    X = X.reshape((c_i, h * w))\n",
        "    K = K.reshape((c_o, c_i))\n",
        "    # Matrix multiplication in the fully connected layer\n",
        "    Y = torch.matmul(K, X)\n",
        "    return Y.reshape((c_o, h, w))"
      ],
      "metadata": {
        "id": "vIitSwnp8vsh"
      },
      "execution_count": null,
      "outputs": []
    },
    {
      "cell_type": "code",
      "source": [
        "X = torch.normal(0, 1, (3, 3, 3))\n",
        "K = torch.normal(0, 1, (2, 3, 1, 1))\n",
        "Y1 = corr2d_multi_in_out_1x1(X, K)\n",
        "Y2 = corr2d_multi_in_out(X, K)\n",
        "assert float(torch.abs(Y1 - Y2).sum()) < 1e-6"
      ],
      "metadata": {
        "id": "02ZDPCVf8xSy"
      },
      "execution_count": null,
      "outputs": []
    },
    {
      "cell_type": "markdown",
      "source": [
        "# 7.5"
      ],
      "metadata": {
        "id": "CgeFmJOX822k"
      }
    },
    {
      "cell_type": "code",
      "source": [
        "import torch\n",
        "from torch import nn\n",
        "from d2l import torch as d2l"
      ],
      "metadata": {
        "id": "F1EyinlT84Tr"
      },
      "execution_count": null,
      "outputs": []
    },
    {
      "cell_type": "code",
      "source": [
        "def pool2d(X, pool_size, mode='max'):\n",
        "    p_h, p_w = pool_size\n",
        "    Y = torch.zeros((X.shape[0] - p_h + 1, X.shape[1] - p_w + 1))\n",
        "    for i in range(Y.shape[0]):\n",
        "        for j in range(Y.shape[1]):\n",
        "            if mode == 'max':\n",
        "                Y[i, j] = X[i: i + p_h, j: j + p_w].max()\n",
        "            elif mode == 'avg':\n",
        "                Y[i, j] = X[i: i + p_h, j: j + p_w].mean()\n",
        "    return Y"
      ],
      "metadata": {
        "id": "J1RYVALz86KR"
      },
      "execution_count": null,
      "outputs": []
    },
    {
      "cell_type": "code",
      "source": [
        "X = torch.tensor([[0.0, 1.0, 2.0], [3.0, 4.0, 5.0], [6.0, 7.0, 8.0]])\n",
        "pool2d(X, (2, 2))"
      ],
      "metadata": {
        "colab": {
          "base_uri": "https://localhost:8080/"
        },
        "id": "l_TJU0r987yR",
        "outputId": "5b12a6fe-d372-49a9-86f9-9345504c5870"
      },
      "execution_count": null,
      "outputs": [
        {
          "output_type": "execute_result",
          "data": {
            "text/plain": [
              "tensor([[4., 5.],\n",
              "        [7., 8.]])"
            ]
          },
          "metadata": {},
          "execution_count": 26
        }
      ]
    },
    {
      "cell_type": "code",
      "source": [
        "pool2d(X, (2, 2), 'avg')"
      ],
      "metadata": {
        "colab": {
          "base_uri": "https://localhost:8080/"
        },
        "id": "yjB85dnd89EI",
        "outputId": "cddaa75f-6bcf-48a6-9b1e-e9f4c69807c8"
      },
      "execution_count": null,
      "outputs": [
        {
          "output_type": "execute_result",
          "data": {
            "text/plain": [
              "tensor([[2., 3.],\n",
              "        [5., 6.]])"
            ]
          },
          "metadata": {},
          "execution_count": 27
        }
      ]
    },
    {
      "cell_type": "code",
      "source": [
        "X = torch.arange(16, dtype=torch.float32).reshape((1, 1, 4, 4))\n",
        "X"
      ],
      "metadata": {
        "colab": {
          "base_uri": "https://localhost:8080/"
        },
        "id": "-otgRvKm8-j8",
        "outputId": "9daf03e7-36e2-41c7-c32f-12a0c0ec2e31"
      },
      "execution_count": null,
      "outputs": [
        {
          "output_type": "execute_result",
          "data": {
            "text/plain": [
              "tensor([[[[ 0.,  1.,  2.,  3.],\n",
              "          [ 4.,  5.,  6.,  7.],\n",
              "          [ 8.,  9., 10., 11.],\n",
              "          [12., 13., 14., 15.]]]])"
            ]
          },
          "metadata": {},
          "execution_count": 28
        }
      ]
    },
    {
      "cell_type": "code",
      "source": [
        "pool2d = nn.MaxPool2d(3)\n",
        "# Pooling has no model parameters, hence it needs no initialization\n",
        "pool2d(X)"
      ],
      "metadata": {
        "colab": {
          "base_uri": "https://localhost:8080/"
        },
        "id": "_YaaTEyX9AHd",
        "outputId": "9b1f49f2-8c4b-492a-acfa-ae183e485545"
      },
      "execution_count": null,
      "outputs": [
        {
          "output_type": "execute_result",
          "data": {
            "text/plain": [
              "tensor([[[[10.]]]])"
            ]
          },
          "metadata": {},
          "execution_count": 29
        }
      ]
    },
    {
      "cell_type": "code",
      "source": [
        "pool2d = nn.MaxPool2d(3, padding=1, stride=2)\n",
        "pool2d(X)"
      ],
      "metadata": {
        "colab": {
          "base_uri": "https://localhost:8080/"
        },
        "id": "NShNhBTs9Bu1",
        "outputId": "e37d404b-c701-4937-9634-e2cd508f9e2d"
      },
      "execution_count": null,
      "outputs": [
        {
          "output_type": "execute_result",
          "data": {
            "text/plain": [
              "tensor([[[[ 5.,  7.],\n",
              "          [13., 15.]]]])"
            ]
          },
          "metadata": {},
          "execution_count": 30
        }
      ]
    },
    {
      "cell_type": "code",
      "source": [
        "pool2d = nn.MaxPool2d((2, 3), stride=(2, 3), padding=(0, 1))\n",
        "pool2d(X)"
      ],
      "metadata": {
        "colab": {
          "base_uri": "https://localhost:8080/"
        },
        "id": "6DTy8brh9Di5",
        "outputId": "c9f61eb7-7acb-4698-ef0a-898f7f828cf2"
      },
      "execution_count": null,
      "outputs": [
        {
          "output_type": "execute_result",
          "data": {
            "text/plain": [
              "tensor([[[[ 5.,  7.],\n",
              "          [13., 15.]]]])"
            ]
          },
          "metadata": {},
          "execution_count": 31
        }
      ]
    },
    {
      "cell_type": "code",
      "source": [
        "X = torch.cat((X, X + 1), 1)\n",
        "X"
      ],
      "metadata": {
        "colab": {
          "base_uri": "https://localhost:8080/"
        },
        "id": "Xtex26YH9FD-",
        "outputId": "322b4a49-28be-48b8-b0a4-31b93a59438d"
      },
      "execution_count": null,
      "outputs": [
        {
          "output_type": "execute_result",
          "data": {
            "text/plain": [
              "tensor([[[[ 0.,  1.,  2.,  3.],\n",
              "          [ 4.,  5.,  6.,  7.],\n",
              "          [ 8.,  9., 10., 11.],\n",
              "          [12., 13., 14., 15.]],\n",
              "\n",
              "         [[ 1.,  2.,  3.,  4.],\n",
              "          [ 5.,  6.,  7.,  8.],\n",
              "          [ 9., 10., 11., 12.],\n",
              "          [13., 14., 15., 16.]]]])"
            ]
          },
          "metadata": {},
          "execution_count": 32
        }
      ]
    },
    {
      "cell_type": "code",
      "source": [
        "pool2d = nn.MaxPool2d(3, padding=1, stride=2)\n",
        "pool2d(X)"
      ],
      "metadata": {
        "colab": {
          "base_uri": "https://localhost:8080/"
        },
        "id": "EVSyBgbC9Gph",
        "outputId": "3ae0b2ee-0917-442c-9f78-5c39f7722b67"
      },
      "execution_count": null,
      "outputs": [
        {
          "output_type": "execute_result",
          "data": {
            "text/plain": [
              "tensor([[[[ 5.,  7.],\n",
              "          [13., 15.]],\n",
              "\n",
              "         [[ 6.,  8.],\n",
              "          [14., 16.]]]])"
            ]
          },
          "metadata": {},
          "execution_count": 33
        }
      ]
    },
    {
      "cell_type": "markdown",
      "source": [
        "# Discussions and Exercises\n",
        "We could use the softmax operation for pooling. Why might it not be so popular?\n",
        "\n",
        "소프트맥스 연산을 풀링에 사용하는 것이 인기 없는 이유는 여러 가지가 있다. 첫째, 소프트맥스는 입력 값들의 지수 함수를 계산한 후 이를 정규화하여 가중치를 부여하는 방식으로 작동하기 때문에, 입력 값에 매우 민감하게 반응하여 특정 값에 과도하게 집중하는 경향이 있다. 이로 인해 모델의 일반화 능력이 저하될 수 있다. 둘째, 소프트맥스는 max pooling이나 average pooling에 비해 계산 복잡도가 높다. 마지막으로, 단순한 풀링 방식에 비해 추가적인 연산이 필요하여 학습 속도가 느려진다. 이러한 이유로 소프트맥스 풀링은 실용성이 떨어진다."
      ],
      "metadata": {
        "id": "YUU5jIO-Ngh_"
      }
    },
    {
      "cell_type": "markdown",
      "source": [
        "# 7.6"
      ],
      "metadata": {
        "id": "4nU1uXvZ9PZy"
      }
    },
    {
      "cell_type": "code",
      "source": [
        "import torch\n",
        "from torch import nn\n",
        "from d2l import torch as d2l"
      ],
      "metadata": {
        "id": "eNEbV04t9RFV"
      },
      "execution_count": null,
      "outputs": []
    },
    {
      "cell_type": "code",
      "source": [
        "def init_cnn(module):  #@save\n",
        "    \"\"\"Initialize weights for CNNs.\"\"\"\n",
        "    if type(module) == nn.Linear or type(module) == nn.Conv2d:\n",
        "        nn.init.xavier_uniform_(module.weight)\n",
        "\n",
        "class LeNet(d2l.Classifier):  #@save\n",
        "    \"\"\"The LeNet-5 model.\"\"\"\n",
        "    def __init__(self, lr=0.1, num_classes=10):\n",
        "        super().__init__()\n",
        "        self.save_hyperparameters()\n",
        "        self.net = nn.Sequential(\n",
        "            nn.LazyConv2d(6, kernel_size=5, padding=2), nn.Sigmoid(),\n",
        "            nn.AvgPool2d(kernel_size=2, stride=2),\n",
        "            nn.LazyConv2d(16, kernel_size=5), nn.Sigmoid(),\n",
        "            nn.AvgPool2d(kernel_size=2, stride=2),\n",
        "            nn.Flatten(),\n",
        "            nn.LazyLinear(120), nn.Sigmoid(),\n",
        "            nn.LazyLinear(84), nn.Sigmoid(),\n",
        "            nn.LazyLinear(num_classes))"
      ],
      "metadata": {
        "id": "glGEZb7n9Sie"
      },
      "execution_count": null,
      "outputs": []
    },
    {
      "cell_type": "code",
      "source": [
        "@d2l.add_to_class(d2l.Classifier)  #@save\n",
        "def layer_summary(self, X_shape):\n",
        "    X = torch.randn(*X_shape)\n",
        "    for layer in self.net:\n",
        "        X = layer(X)\n",
        "        print(layer.__class__.__name__, 'output shape:\\t', X.shape)\n",
        "\n",
        "model = LeNet()\n",
        "model.layer_summary((1, 1, 28, 28))"
      ],
      "metadata": {
        "colab": {
          "base_uri": "https://localhost:8080/"
        },
        "id": "thCUxOUk9UpY",
        "outputId": "da473c9b-b2cc-4d1e-a574-7bd79979ef28"
      },
      "execution_count": null,
      "outputs": [
        {
          "output_type": "stream",
          "name": "stdout",
          "text": [
            "Conv2d output shape:\t torch.Size([1, 6, 28, 28])\n",
            "Sigmoid output shape:\t torch.Size([1, 6, 28, 28])\n",
            "AvgPool2d output shape:\t torch.Size([1, 6, 14, 14])\n",
            "Conv2d output shape:\t torch.Size([1, 16, 10, 10])\n",
            "Sigmoid output shape:\t torch.Size([1, 16, 10, 10])\n",
            "AvgPool2d output shape:\t torch.Size([1, 16, 5, 5])\n",
            "Flatten output shape:\t torch.Size([1, 400])\n",
            "Linear output shape:\t torch.Size([1, 120])\n",
            "Sigmoid output shape:\t torch.Size([1, 120])\n",
            "Linear output shape:\t torch.Size([1, 84])\n",
            "Sigmoid output shape:\t torch.Size([1, 84])\n",
            "Linear output shape:\t torch.Size([1, 10])\n"
          ]
        }
      ]
    },
    {
      "cell_type": "code",
      "source": [
        "trainer = d2l.Trainer(max_epochs=10, num_gpus=1)\n",
        "data = d2l.FashionMNIST(batch_size=128)\n",
        "model = LeNet(lr=0.1)\n",
        "model.apply_init([next(iter(data.get_dataloader(True)))[0]], init_cnn)\n",
        "trainer.fit(model, data)"
      ],
      "metadata": {
        "colab": {
          "base_uri": "https://localhost:8080/",
          "height": 265
        },
        "id": "9FEDQEOcRWh7",
        "outputId": "e157ea56-e7a3-484b-f93a-e2c3538d9ab3"
      },
      "execution_count": null,
      "outputs": [
        {
          "output_type": "display_data",
          "data": {
            "text/plain": [
              "<Figure size 350x250 with 1 Axes>"
            ],
            "image/svg+xml": "<?xml version=\"1.0\" encoding=\"utf-8\" standalone=\"no\"?>\n<!DOCTYPE svg PUBLIC \"-//W3C//DTD SVG 1.1//EN\"\n  \"http://www.w3.org/Graphics/SVG/1.1/DTD/svg11.dtd\">\n<svg xmlns:xlink=\"http://www.w3.org/1999/xlink\" width=\"238.965625pt\" height=\"183.35625pt\" viewBox=\"0 0 238.965625 183.35625\" xmlns=\"http://www.w3.org/2000/svg\" version=\"1.1\">\n <metadata>\n  <rdf:RDF xmlns:dc=\"http://purl.org/dc/elements/1.1/\" xmlns:cc=\"http://creativecommons.org/ns#\" xmlns:rdf=\"http://www.w3.org/1999/02/22-rdf-syntax-ns#\">\n   <cc:Work>\n    <dc:type rdf:resource=\"http://purl.org/dc/dcmitype/StillImage\"/>\n    <dc:date>2024-10-09T17:15:37.238808</dc:date>\n    <dc:format>image/svg+xml</dc:format>\n    <dc:creator>\n     <cc:Agent>\n      <dc:title>Matplotlib v3.7.1, https://matplotlib.org/</dc:title>\n     </cc:Agent>\n    </dc:creator>\n   </cc:Work>\n  </rdf:RDF>\n </metadata>\n <defs>\n  <style type=\"text/css\">*{stroke-linejoin: round; stroke-linecap: butt}</style>\n </defs>\n <g id=\"figure_1\">\n  <g id=\"patch_1\">\n   <path d=\"M 0 183.35625 \nL 238.965625 183.35625 \nL 238.965625 0 \nL 0 0 \nz\n\" style=\"fill: #ffffff\"/>\n  </g>\n  <g id=\"axes_1\">\n   <g id=\"patch_2\">\n    <path d=\"M 30.103125 145.8 \nL 225.403125 145.8 \nL 225.403125 7.2 \nL 30.103125 7.2 \nz\n\" style=\"fill: #ffffff\"/>\n   </g>\n   <g id=\"matplotlib.axis_1\">\n    <g id=\"xtick_1\">\n     <g id=\"line2d_1\">\n      <defs>\n       <path id=\"m0e5cd89c38\" d=\"M 0 0 \nL 0 3.5 \n\" style=\"stroke: #000000; stroke-width: 0.8\"/>\n      </defs>\n      <g>\n       <use xlink:href=\"#m0e5cd89c38\" x=\"30.103125\" y=\"145.8\" style=\"stroke: #000000; stroke-width: 0.8\"/>\n      </g>\n     </g>\n     <g id=\"text_1\">\n      <!-- 0 -->\n      <g transform=\"translate(26.921875 160.398438) scale(0.1 -0.1)\">\n       <defs>\n        <path id=\"DejaVuSans-30\" d=\"M 2034 4250 \nQ 1547 4250 1301 3770 \nQ 1056 3291 1056 2328 \nQ 1056 1369 1301 889 \nQ 1547 409 2034 409 \nQ 2525 409 2770 889 \nQ 3016 1369 3016 2328 \nQ 3016 3291 2770 3770 \nQ 2525 4250 2034 4250 \nz\nM 2034 4750 \nQ 2819 4750 3233 4129 \nQ 3647 3509 3647 2328 \nQ 3647 1150 3233 529 \nQ 2819 -91 2034 -91 \nQ 1250 -91 836 529 \nQ 422 1150 422 2328 \nQ 422 3509 836 4129 \nQ 1250 4750 2034 4750 \nz\n\" transform=\"scale(0.015625)\"/>\n       </defs>\n       <use xlink:href=\"#DejaVuSans-30\"/>\n      </g>\n     </g>\n    </g>\n    <g id=\"xtick_2\">\n     <g id=\"line2d_2\">\n      <g>\n       <use xlink:href=\"#m0e5cd89c38\" x=\"69.163125\" y=\"145.8\" style=\"stroke: #000000; stroke-width: 0.8\"/>\n      </g>\n     </g>\n     <g id=\"text_2\">\n      <!-- 2 -->\n      <g transform=\"translate(65.981875 160.398438) scale(0.1 -0.1)\">\n       <defs>\n        <path id=\"DejaVuSans-32\" d=\"M 1228 531 \nL 3431 531 \nL 3431 0 \nL 469 0 \nL 469 531 \nQ 828 903 1448 1529 \nQ 2069 2156 2228 2338 \nQ 2531 2678 2651 2914 \nQ 2772 3150 2772 3378 \nQ 2772 3750 2511 3984 \nQ 2250 4219 1831 4219 \nQ 1534 4219 1204 4116 \nQ 875 4013 500 3803 \nL 500 4441 \nQ 881 4594 1212 4672 \nQ 1544 4750 1819 4750 \nQ 2544 4750 2975 4387 \nQ 3406 4025 3406 3419 \nQ 3406 3131 3298 2873 \nQ 3191 2616 2906 2266 \nQ 2828 2175 2409 1742 \nQ 1991 1309 1228 531 \nz\n\" transform=\"scale(0.015625)\"/>\n       </defs>\n       <use xlink:href=\"#DejaVuSans-32\"/>\n      </g>\n     </g>\n    </g>\n    <g id=\"xtick_3\">\n     <g id=\"line2d_3\">\n      <g>\n       <use xlink:href=\"#m0e5cd89c38\" x=\"108.223125\" y=\"145.8\" style=\"stroke: #000000; stroke-width: 0.8\"/>\n      </g>\n     </g>\n     <g id=\"text_3\">\n      <!-- 4 -->\n      <g transform=\"translate(105.041875 160.398438) scale(0.1 -0.1)\">\n       <defs>\n        <path id=\"DejaVuSans-34\" d=\"M 2419 4116 \nL 825 1625 \nL 2419 1625 \nL 2419 4116 \nz\nM 2253 4666 \nL 3047 4666 \nL 3047 1625 \nL 3713 1625 \nL 3713 1100 \nL 3047 1100 \nL 3047 0 \nL 2419 0 \nL 2419 1100 \nL 313 1100 \nL 313 1709 \nL 2253 4666 \nz\n\" transform=\"scale(0.015625)\"/>\n       </defs>\n       <use xlink:href=\"#DejaVuSans-34\"/>\n      </g>\n     </g>\n    </g>\n    <g id=\"xtick_4\">\n     <g id=\"line2d_4\">\n      <g>\n       <use xlink:href=\"#m0e5cd89c38\" x=\"147.283125\" y=\"145.8\" style=\"stroke: #000000; stroke-width: 0.8\"/>\n      </g>\n     </g>\n     <g id=\"text_4\">\n      <!-- 6 -->\n      <g transform=\"translate(144.101875 160.398438) scale(0.1 -0.1)\">\n       <defs>\n        <path id=\"DejaVuSans-36\" d=\"M 2113 2584 \nQ 1688 2584 1439 2293 \nQ 1191 2003 1191 1497 \nQ 1191 994 1439 701 \nQ 1688 409 2113 409 \nQ 2538 409 2786 701 \nQ 3034 994 3034 1497 \nQ 3034 2003 2786 2293 \nQ 2538 2584 2113 2584 \nz\nM 3366 4563 \nL 3366 3988 \nQ 3128 4100 2886 4159 \nQ 2644 4219 2406 4219 \nQ 1781 4219 1451 3797 \nQ 1122 3375 1075 2522 \nQ 1259 2794 1537 2939 \nQ 1816 3084 2150 3084 \nQ 2853 3084 3261 2657 \nQ 3669 2231 3669 1497 \nQ 3669 778 3244 343 \nQ 2819 -91 2113 -91 \nQ 1303 -91 875 529 \nQ 447 1150 447 2328 \nQ 447 3434 972 4092 \nQ 1497 4750 2381 4750 \nQ 2619 4750 2861 4703 \nQ 3103 4656 3366 4563 \nz\n\" transform=\"scale(0.015625)\"/>\n       </defs>\n       <use xlink:href=\"#DejaVuSans-36\"/>\n      </g>\n     </g>\n    </g>\n    <g id=\"xtick_5\">\n     <g id=\"line2d_5\">\n      <g>\n       <use xlink:href=\"#m0e5cd89c38\" x=\"186.343125\" y=\"145.8\" style=\"stroke: #000000; stroke-width: 0.8\"/>\n      </g>\n     </g>\n     <g id=\"text_5\">\n      <!-- 8 -->\n      <g transform=\"translate(183.161875 160.398438) scale(0.1 -0.1)\">\n       <defs>\n        <path id=\"DejaVuSans-38\" d=\"M 2034 2216 \nQ 1584 2216 1326 1975 \nQ 1069 1734 1069 1313 \nQ 1069 891 1326 650 \nQ 1584 409 2034 409 \nQ 2484 409 2743 651 \nQ 3003 894 3003 1313 \nQ 3003 1734 2745 1975 \nQ 2488 2216 2034 2216 \nz\nM 1403 2484 \nQ 997 2584 770 2862 \nQ 544 3141 544 3541 \nQ 544 4100 942 4425 \nQ 1341 4750 2034 4750 \nQ 2731 4750 3128 4425 \nQ 3525 4100 3525 3541 \nQ 3525 3141 3298 2862 \nQ 3072 2584 2669 2484 \nQ 3125 2378 3379 2068 \nQ 3634 1759 3634 1313 \nQ 3634 634 3220 271 \nQ 2806 -91 2034 -91 \nQ 1263 -91 848 271 \nQ 434 634 434 1313 \nQ 434 1759 690 2068 \nQ 947 2378 1403 2484 \nz\nM 1172 3481 \nQ 1172 3119 1398 2916 \nQ 1625 2713 2034 2713 \nQ 2441 2713 2670 2916 \nQ 2900 3119 2900 3481 \nQ 2900 3844 2670 4047 \nQ 2441 4250 2034 4250 \nQ 1625 4250 1398 4047 \nQ 1172 3844 1172 3481 \nz\n\" transform=\"scale(0.015625)\"/>\n       </defs>\n       <use xlink:href=\"#DejaVuSans-38\"/>\n      </g>\n     </g>\n    </g>\n    <g id=\"xtick_6\">\n     <g id=\"line2d_6\">\n      <g>\n       <use xlink:href=\"#m0e5cd89c38\" x=\"225.403125\" y=\"145.8\" style=\"stroke: #000000; stroke-width: 0.8\"/>\n      </g>\n     </g>\n     <g id=\"text_6\">\n      <!-- 10 -->\n      <g transform=\"translate(219.040625 160.398438) scale(0.1 -0.1)\">\n       <defs>\n        <path id=\"DejaVuSans-31\" d=\"M 794 531 \nL 1825 531 \nL 1825 4091 \nL 703 3866 \nL 703 4441 \nL 1819 4666 \nL 2450 4666 \nL 2450 531 \nL 3481 531 \nL 3481 0 \nL 794 0 \nL 794 531 \nz\n\" transform=\"scale(0.015625)\"/>\n       </defs>\n       <use xlink:href=\"#DejaVuSans-31\"/>\n       <use xlink:href=\"#DejaVuSans-30\" x=\"63.623047\"/>\n      </g>\n     </g>\n    </g>\n    <g id=\"text_7\">\n     <!-- epoch -->\n     <g transform=\"translate(112.525 174.076563) scale(0.1 -0.1)\">\n      <defs>\n       <path id=\"DejaVuSans-65\" d=\"M 3597 1894 \nL 3597 1613 \nL 953 1613 \nQ 991 1019 1311 708 \nQ 1631 397 2203 397 \nQ 2534 397 2845 478 \nQ 3156 559 3463 722 \nL 3463 178 \nQ 3153 47 2828 -22 \nQ 2503 -91 2169 -91 \nQ 1331 -91 842 396 \nQ 353 884 353 1716 \nQ 353 2575 817 3079 \nQ 1281 3584 2069 3584 \nQ 2775 3584 3186 3129 \nQ 3597 2675 3597 1894 \nz\nM 3022 2063 \nQ 3016 2534 2758 2815 \nQ 2500 3097 2075 3097 \nQ 1594 3097 1305 2825 \nQ 1016 2553 972 2059 \nL 3022 2063 \nz\n\" transform=\"scale(0.015625)\"/>\n       <path id=\"DejaVuSans-70\" d=\"M 1159 525 \nL 1159 -1331 \nL 581 -1331 \nL 581 3500 \nL 1159 3500 \nL 1159 2969 \nQ 1341 3281 1617 3432 \nQ 1894 3584 2278 3584 \nQ 2916 3584 3314 3078 \nQ 3713 2572 3713 1747 \nQ 3713 922 3314 415 \nQ 2916 -91 2278 -91 \nQ 1894 -91 1617 61 \nQ 1341 213 1159 525 \nz\nM 3116 1747 \nQ 3116 2381 2855 2742 \nQ 2594 3103 2138 3103 \nQ 1681 3103 1420 2742 \nQ 1159 2381 1159 1747 \nQ 1159 1113 1420 752 \nQ 1681 391 2138 391 \nQ 2594 391 2855 752 \nQ 3116 1113 3116 1747 \nz\n\" transform=\"scale(0.015625)\"/>\n       <path id=\"DejaVuSans-6f\" d=\"M 1959 3097 \nQ 1497 3097 1228 2736 \nQ 959 2375 959 1747 \nQ 959 1119 1226 758 \nQ 1494 397 1959 397 \nQ 2419 397 2687 759 \nQ 2956 1122 2956 1747 \nQ 2956 2369 2687 2733 \nQ 2419 3097 1959 3097 \nz\nM 1959 3584 \nQ 2709 3584 3137 3096 \nQ 3566 2609 3566 1747 \nQ 3566 888 3137 398 \nQ 2709 -91 1959 -91 \nQ 1206 -91 779 398 \nQ 353 888 353 1747 \nQ 353 2609 779 3096 \nQ 1206 3584 1959 3584 \nz\n\" transform=\"scale(0.015625)\"/>\n       <path id=\"DejaVuSans-63\" d=\"M 3122 3366 \nL 3122 2828 \nQ 2878 2963 2633 3030 \nQ 2388 3097 2138 3097 \nQ 1578 3097 1268 2742 \nQ 959 2388 959 1747 \nQ 959 1106 1268 751 \nQ 1578 397 2138 397 \nQ 2388 397 2633 464 \nQ 2878 531 3122 666 \nL 3122 134 \nQ 2881 22 2623 -34 \nQ 2366 -91 2075 -91 \nQ 1284 -91 818 406 \nQ 353 903 353 1747 \nQ 353 2603 823 3093 \nQ 1294 3584 2113 3584 \nQ 2378 3584 2631 3529 \nQ 2884 3475 3122 3366 \nz\n\" transform=\"scale(0.015625)\"/>\n       <path id=\"DejaVuSans-68\" d=\"M 3513 2113 \nL 3513 0 \nL 2938 0 \nL 2938 2094 \nQ 2938 2591 2744 2837 \nQ 2550 3084 2163 3084 \nQ 1697 3084 1428 2787 \nQ 1159 2491 1159 1978 \nL 1159 0 \nL 581 0 \nL 581 4863 \nL 1159 4863 \nL 1159 2956 \nQ 1366 3272 1645 3428 \nQ 1925 3584 2291 3584 \nQ 2894 3584 3203 3211 \nQ 3513 2838 3513 2113 \nz\n\" transform=\"scale(0.015625)\"/>\n      </defs>\n      <use xlink:href=\"#DejaVuSans-65\"/>\n      <use xlink:href=\"#DejaVuSans-70\" x=\"61.523438\"/>\n      <use xlink:href=\"#DejaVuSans-6f\" x=\"125\"/>\n      <use xlink:href=\"#DejaVuSans-63\" x=\"186.181641\"/>\n      <use xlink:href=\"#DejaVuSans-68\" x=\"241.162109\"/>\n     </g>\n    </g>\n   </g>\n   <g id=\"matplotlib.axis_2\">\n    <g id=\"ytick_1\">\n     <g id=\"line2d_7\">\n      <defs>\n       <path id=\"m1e2d6be53c\" d=\"M 0 0 \nL -3.5 0 \n\" style=\"stroke: #000000; stroke-width: 0.8\"/>\n      </defs>\n      <g>\n       <use xlink:href=\"#m1e2d6be53c\" x=\"30.103125\" y=\"145.130756\" style=\"stroke: #000000; stroke-width: 0.8\"/>\n      </g>\n     </g>\n     <g id=\"text_8\">\n      <!-- 0.0 -->\n      <g transform=\"translate(7.2 148.929975) scale(0.1 -0.1)\">\n       <defs>\n        <path id=\"DejaVuSans-2e\" d=\"M 684 794 \nL 1344 794 \nL 1344 0 \nL 684 0 \nL 684 794 \nz\n\" transform=\"scale(0.015625)\"/>\n       </defs>\n       <use xlink:href=\"#DejaVuSans-30\"/>\n       <use xlink:href=\"#DejaVuSans-2e\" x=\"63.623047\"/>\n       <use xlink:href=\"#DejaVuSans-30\" x=\"95.410156\"/>\n      </g>\n     </g>\n    </g>\n    <g id=\"ytick_2\">\n     <g id=\"line2d_8\">\n      <g>\n       <use xlink:href=\"#m1e2d6be53c\" x=\"30.103125\" y=\"116.661653\" style=\"stroke: #000000; stroke-width: 0.8\"/>\n      </g>\n     </g>\n     <g id=\"text_9\">\n      <!-- 0.5 -->\n      <g transform=\"translate(7.2 120.460871) scale(0.1 -0.1)\">\n       <defs>\n        <path id=\"DejaVuSans-35\" d=\"M 691 4666 \nL 3169 4666 \nL 3169 4134 \nL 1269 4134 \nL 1269 2991 \nQ 1406 3038 1543 3061 \nQ 1681 3084 1819 3084 \nQ 2600 3084 3056 2656 \nQ 3513 2228 3513 1497 \nQ 3513 744 3044 326 \nQ 2575 -91 1722 -91 \nQ 1428 -91 1123 -41 \nQ 819 9 494 109 \nL 494 744 \nQ 775 591 1075 516 \nQ 1375 441 1709 441 \nQ 2250 441 2565 725 \nQ 2881 1009 2881 1497 \nQ 2881 1984 2565 2268 \nQ 2250 2553 1709 2553 \nQ 1456 2553 1204 2497 \nQ 953 2441 691 2322 \nL 691 4666 \nz\n\" transform=\"scale(0.015625)\"/>\n       </defs>\n       <use xlink:href=\"#DejaVuSans-30\"/>\n       <use xlink:href=\"#DejaVuSans-2e\" x=\"63.623047\"/>\n       <use xlink:href=\"#DejaVuSans-35\" x=\"95.410156\"/>\n      </g>\n     </g>\n    </g>\n    <g id=\"ytick_3\">\n     <g id=\"line2d_9\">\n      <g>\n       <use xlink:href=\"#m1e2d6be53c\" x=\"30.103125\" y=\"88.192549\" style=\"stroke: #000000; stroke-width: 0.8\"/>\n      </g>\n     </g>\n     <g id=\"text_10\">\n      <!-- 1.0 -->\n      <g transform=\"translate(7.2 91.991768) scale(0.1 -0.1)\">\n       <use xlink:href=\"#DejaVuSans-31\"/>\n       <use xlink:href=\"#DejaVuSans-2e\" x=\"63.623047\"/>\n       <use xlink:href=\"#DejaVuSans-30\" x=\"95.410156\"/>\n      </g>\n     </g>\n    </g>\n    <g id=\"ytick_4\">\n     <g id=\"line2d_10\">\n      <g>\n       <use xlink:href=\"#m1e2d6be53c\" x=\"30.103125\" y=\"59.723445\" style=\"stroke: #000000; stroke-width: 0.8\"/>\n      </g>\n     </g>\n     <g id=\"text_11\">\n      <!-- 1.5 -->\n      <g transform=\"translate(7.2 63.522664) scale(0.1 -0.1)\">\n       <use xlink:href=\"#DejaVuSans-31\"/>\n       <use xlink:href=\"#DejaVuSans-2e\" x=\"63.623047\"/>\n       <use xlink:href=\"#DejaVuSans-35\" x=\"95.410156\"/>\n      </g>\n     </g>\n    </g>\n    <g id=\"ytick_5\">\n     <g id=\"line2d_11\">\n      <g>\n       <use xlink:href=\"#m1e2d6be53c\" x=\"30.103125\" y=\"31.254341\" style=\"stroke: #000000; stroke-width: 0.8\"/>\n      </g>\n     </g>\n     <g id=\"text_12\">\n      <!-- 2.0 -->\n      <g transform=\"translate(7.2 35.05356) scale(0.1 -0.1)\">\n       <use xlink:href=\"#DejaVuSans-32\"/>\n       <use xlink:href=\"#DejaVuSans-2e\" x=\"63.623047\"/>\n       <use xlink:href=\"#DejaVuSans-30\" x=\"95.410156\"/>\n      </g>\n     </g>\n    </g>\n   </g>\n   <g id=\"line2d_12\">\n    <path d=\"M 34.954394 13.5 \n\" clip-path=\"url(#p3375430c9e)\" style=\"fill: none; stroke: #1f77b4; stroke-width: 1.5; stroke-linecap: square\"/>\n   </g>\n   <g id=\"line2d_13\">\n    <path d=\"M 34.954394 13.5 \nL 44.698573 13.782199 \n\" clip-path=\"url(#p3375430c9e)\" style=\"fill: none; stroke: #1f77b4; stroke-width: 1.5; stroke-linecap: square\"/>\n   </g>\n   <g id=\"line2d_14\">\n    <path d=\"M 34.954394 13.5 \nL 44.698573 13.782199 \n\" clip-path=\"url(#p3375430c9e)\" style=\"fill: none; stroke: #1f77b4; stroke-width: 1.5; stroke-linecap: square\"/>\n   </g>\n   <g id=\"line2d_15\">\n    <path d=\"M 49.633125 13.974061 \n\" clip-path=\"url(#p3375430c9e)\" style=\"fill: none; stroke-dasharray: 5.55,2.4; stroke-dashoffset: 0; stroke: #ff7f0e; stroke-width: 1.5\"/>\n   </g>\n   <g id=\"line2d_16\"/>\n   <g id=\"line2d_17\">\n    <path d=\"M 34.954394 13.5 \nL 44.698573 13.782199 \n\" clip-path=\"url(#p3375430c9e)\" style=\"fill: none; stroke: #1f77b4; stroke-width: 1.5; stroke-linecap: square\"/>\n   </g>\n   <g id=\"line2d_18\">\n    <path d=\"M 49.633125 13.974061 \n\" clip-path=\"url(#p3375430c9e)\" style=\"fill: none; stroke-dasharray: 5.55,2.4; stroke-dashoffset: 0; stroke: #ff7f0e; stroke-width: 1.5\"/>\n   </g>\n   <g id=\"line2d_19\">\n    <path d=\"M 49.633125 139.381754 \n\" clip-path=\"url(#p3375430c9e)\" style=\"fill: none; stroke-dasharray: 9.6,2.4,1.5,2.4; stroke-dashoffset: 0; stroke: #2ca02c; stroke-width: 1.5\"/>\n   </g>\n   <g id=\"line2d_20\">\n    <path d=\"M 34.954394 13.5 \nL 44.698573 13.782199 \nL 54.442752 13.843441 \n\" clip-path=\"url(#p3375430c9e)\" style=\"fill: none; stroke: #1f77b4; stroke-width: 1.5; stroke-linecap: square\"/>\n   </g>\n   <g id=\"line2d_21\">\n    <path d=\"M 49.633125 13.974061 \n\" clip-path=\"url(#p3375430c9e)\" style=\"fill: none; stroke-dasharray: 5.55,2.4; stroke-dashoffset: 0; stroke: #ff7f0e; stroke-width: 1.5\"/>\n   </g>\n   <g id=\"line2d_22\">\n    <path d=\"M 49.633125 139.381754 \n\" clip-path=\"url(#p3375430c9e)\" style=\"fill: none; stroke-dasharray: 9.6,2.4,1.5,2.4; stroke-dashoffset: 0; stroke: #2ca02c; stroke-width: 1.5\"/>\n   </g>\n   <g id=\"line2d_23\">\n    <path d=\"M 34.954394 13.5 \nL 44.698573 13.782199 \nL 54.442752 13.843441 \nL 64.186931 13.974703 \n\" clip-path=\"url(#p3375430c9e)\" style=\"fill: none; stroke: #1f77b4; stroke-width: 1.5; stroke-linecap: square\"/>\n   </g>\n   <g id=\"line2d_24\">\n    <path d=\"M 49.633125 13.974061 \n\" clip-path=\"url(#p3375430c9e)\" style=\"fill: none; stroke-dasharray: 5.55,2.4; stroke-dashoffset: 0; stroke: #ff7f0e; stroke-width: 1.5\"/>\n   </g>\n   <g id=\"line2d_25\">\n    <path d=\"M 49.633125 139.381754 \n\" clip-path=\"url(#p3375430c9e)\" style=\"fill: none; stroke-dasharray: 9.6,2.4,1.5,2.4; stroke-dashoffset: 0; stroke: #2ca02c; stroke-width: 1.5\"/>\n   </g>\n   <g id=\"line2d_26\">\n    <path d=\"M 34.954394 13.5 \nL 44.698573 13.782199 \nL 54.442752 13.843441 \nL 64.186931 13.974703 \n\" clip-path=\"url(#p3375430c9e)\" style=\"fill: none; stroke: #1f77b4; stroke-width: 1.5; stroke-linecap: square\"/>\n   </g>\n   <g id=\"line2d_27\">\n    <path d=\"M 49.633125 13.974061 \nL 69.163125 14.233638 \n\" clip-path=\"url(#p3375430c9e)\" style=\"fill: none; stroke-dasharray: 5.55,2.4; stroke-dashoffset: 0; stroke: #ff7f0e; stroke-width: 1.5\"/>\n   </g>\n   <g id=\"line2d_28\">\n    <path d=\"M 49.633125 139.381754 \n\" clip-path=\"url(#p3375430c9e)\" style=\"fill: none; stroke-dasharray: 9.6,2.4,1.5,2.4; stroke-dashoffset: 0; stroke: #2ca02c; stroke-width: 1.5\"/>\n   </g>\n   <g id=\"line2d_29\">\n    <path d=\"M 34.954394 13.5 \nL 44.698573 13.782199 \nL 54.442752 13.843441 \nL 64.186931 13.974703 \n\" clip-path=\"url(#p3375430c9e)\" style=\"fill: none; stroke: #1f77b4; stroke-width: 1.5; stroke-linecap: square\"/>\n   </g>\n   <g id=\"line2d_30\">\n    <path d=\"M 49.633125 13.974061 \nL 69.163125 14.233638 \n\" clip-path=\"url(#p3375430c9e)\" style=\"fill: none; stroke-dasharray: 5.55,2.4; stroke-dashoffset: 0; stroke: #ff7f0e; stroke-width: 1.5\"/>\n   </g>\n   <g id=\"line2d_31\">\n    <path d=\"M 49.633125 139.381754 \nL 69.163125 139.5 \n\" clip-path=\"url(#p3375430c9e)\" style=\"fill: none; stroke-dasharray: 9.6,2.4,1.5,2.4; stroke-dashoffset: 0; stroke: #2ca02c; stroke-width: 1.5\"/>\n   </g>\n   <g id=\"line2d_32\">\n    <path d=\"M 34.954394 13.5 \nL 44.698573 13.782199 \nL 54.442752 13.843441 \nL 64.186931 13.974703 \nL 73.93111 14.470843 \n\" clip-path=\"url(#p3375430c9e)\" style=\"fill: none; stroke: #1f77b4; stroke-width: 1.5; stroke-linecap: square\"/>\n   </g>\n   <g id=\"line2d_33\">\n    <path d=\"M 49.633125 13.974061 \nL 69.163125 14.233638 \n\" clip-path=\"url(#p3375430c9e)\" style=\"fill: none; stroke-dasharray: 5.55,2.4; stroke-dashoffset: 0; stroke: #ff7f0e; stroke-width: 1.5\"/>\n   </g>\n   <g id=\"line2d_34\">\n    <path d=\"M 49.633125 139.381754 \nL 69.163125 139.5 \n\" clip-path=\"url(#p3375430c9e)\" style=\"fill: none; stroke-dasharray: 9.6,2.4,1.5,2.4; stroke-dashoffset: 0; stroke: #2ca02c; stroke-width: 1.5\"/>\n   </g>\n   <g id=\"line2d_35\">\n    <path d=\"M 34.954394 13.5 \nL 44.698573 13.782199 \nL 54.442752 13.843441 \nL 64.186931 13.974703 \nL 73.93111 14.470843 \nL 83.675289 18.904373 \n\" clip-path=\"url(#p3375430c9e)\" style=\"fill: none; stroke: #1f77b4; stroke-width: 1.5; stroke-linecap: square\"/>\n   </g>\n   <g id=\"line2d_36\">\n    <path d=\"M 49.633125 13.974061 \nL 69.163125 14.233638 \n\" clip-path=\"url(#p3375430c9e)\" style=\"fill: none; stroke-dasharray: 5.55,2.4; stroke-dashoffset: 0; stroke: #ff7f0e; stroke-width: 1.5\"/>\n   </g>\n   <g id=\"line2d_37\">\n    <path d=\"M 49.633125 139.381754 \nL 69.163125 139.5 \n\" clip-path=\"url(#p3375430c9e)\" style=\"fill: none; stroke-dasharray: 9.6,2.4,1.5,2.4; stroke-dashoffset: 0; stroke: #2ca02c; stroke-width: 1.5\"/>\n   </g>\n   <g id=\"line2d_38\">\n    <path d=\"M 34.954394 13.5 \nL 44.698573 13.782199 \nL 54.442752 13.843441 \nL 64.186931 13.974703 \nL 73.93111 14.470843 \nL 83.675289 18.904373 \n\" clip-path=\"url(#p3375430c9e)\" style=\"fill: none; stroke: #1f77b4; stroke-width: 1.5; stroke-linecap: square\"/>\n   </g>\n   <g id=\"line2d_39\">\n    <path d=\"M 49.633125 13.974061 \nL 69.163125 14.233638 \nL 88.693125 28.855114 \n\" clip-path=\"url(#p3375430c9e)\" style=\"fill: none; stroke-dasharray: 5.55,2.4; stroke-dashoffset: 0; stroke: #ff7f0e; stroke-width: 1.5\"/>\n   </g>\n   <g id=\"line2d_40\">\n    <path d=\"M 49.633125 139.381754 \nL 69.163125 139.5 \n\" clip-path=\"url(#p3375430c9e)\" style=\"fill: none; stroke-dasharray: 9.6,2.4,1.5,2.4; stroke-dashoffset: 0; stroke: #2ca02c; stroke-width: 1.5\"/>\n   </g>\n   <g id=\"line2d_41\">\n    <path d=\"M 34.954394 13.5 \nL 44.698573 13.782199 \nL 54.442752 13.843441 \nL 64.186931 13.974703 \nL 73.93111 14.470843 \nL 83.675289 18.904373 \n\" clip-path=\"url(#p3375430c9e)\" style=\"fill: none; stroke: #1f77b4; stroke-width: 1.5; stroke-linecap: square\"/>\n   </g>\n   <g id=\"line2d_42\">\n    <path d=\"M 49.633125 13.974061 \nL 69.163125 14.233638 \nL 88.693125 28.855114 \n\" clip-path=\"url(#p3375430c9e)\" style=\"fill: none; stroke-dasharray: 5.55,2.4; stroke-dashoffset: 0; stroke: #ff7f0e; stroke-width: 1.5\"/>\n   </g>\n   <g id=\"line2d_43\">\n    <path d=\"M 49.633125 139.381754 \nL 69.163125 139.5 \nL 88.693125 125.603294 \n\" clip-path=\"url(#p3375430c9e)\" style=\"fill: none; stroke-dasharray: 9.6,2.4,1.5,2.4; stroke-dashoffset: 0; stroke: #2ca02c; stroke-width: 1.5\"/>\n   </g>\n   <g id=\"line2d_44\">\n    <path d=\"M 34.954394 13.5 \nL 44.698573 13.782199 \nL 54.442752 13.843441 \nL 64.186931 13.974703 \nL 73.93111 14.470843 \nL 83.675289 18.904373 \nL 93.419468 49.05367 \n\" clip-path=\"url(#p3375430c9e)\" style=\"fill: none; stroke: #1f77b4; stroke-width: 1.5; stroke-linecap: square\"/>\n   </g>\n   <g id=\"line2d_45\">\n    <path d=\"M 49.633125 13.974061 \nL 69.163125 14.233638 \nL 88.693125 28.855114 \n\" clip-path=\"url(#p3375430c9e)\" style=\"fill: none; stroke-dasharray: 5.55,2.4; stroke-dashoffset: 0; stroke: #ff7f0e; stroke-width: 1.5\"/>\n   </g>\n   <g id=\"line2d_46\">\n    <path d=\"M 49.633125 139.381754 \nL 69.163125 139.5 \nL 88.693125 125.603294 \n\" clip-path=\"url(#p3375430c9e)\" style=\"fill: none; stroke-dasharray: 9.6,2.4,1.5,2.4; stroke-dashoffset: 0; stroke: #2ca02c; stroke-width: 1.5\"/>\n   </g>\n   <g id=\"line2d_47\">\n    <path d=\"M 34.954394 13.5 \nL 44.698573 13.782199 \nL 54.442752 13.843441 \nL 64.186931 13.974703 \nL 73.93111 14.470843 \nL 83.675289 18.904373 \nL 93.419468 49.05367 \nL 103.163647 72.361398 \n\" clip-path=\"url(#p3375430c9e)\" style=\"fill: none; stroke: #1f77b4; stroke-width: 1.5; stroke-linecap: square\"/>\n   </g>\n   <g id=\"line2d_48\">\n    <path d=\"M 49.633125 13.974061 \nL 69.163125 14.233638 \nL 88.693125 28.855114 \n\" clip-path=\"url(#p3375430c9e)\" style=\"fill: none; stroke-dasharray: 5.55,2.4; stroke-dashoffset: 0; stroke: #ff7f0e; stroke-width: 1.5\"/>\n   </g>\n   <g id=\"line2d_49\">\n    <path d=\"M 49.633125 139.381754 \nL 69.163125 139.5 \nL 88.693125 125.603294 \n\" clip-path=\"url(#p3375430c9e)\" style=\"fill: none; stroke-dasharray: 9.6,2.4,1.5,2.4; stroke-dashoffset: 0; stroke: #2ca02c; stroke-width: 1.5\"/>\n   </g>\n   <g id=\"line2d_50\">\n    <path d=\"M 34.954394 13.5 \nL 44.698573 13.782199 \nL 54.442752 13.843441 \nL 64.186931 13.974703 \nL 73.93111 14.470843 \nL 83.675289 18.904373 \nL 93.419468 49.05367 \nL 103.163647 72.361398 \n\" clip-path=\"url(#p3375430c9e)\" style=\"fill: none; stroke: #1f77b4; stroke-width: 1.5; stroke-linecap: square\"/>\n   </g>\n   <g id=\"line2d_51\">\n    <path d=\"M 49.633125 13.974061 \nL 69.163125 14.233638 \nL 88.693125 28.855114 \nL 108.223125 77.732254 \n\" clip-path=\"url(#p3375430c9e)\" style=\"fill: none; stroke-dasharray: 5.55,2.4; stroke-dashoffset: 0; stroke: #ff7f0e; stroke-width: 1.5\"/>\n   </g>\n   <g id=\"line2d_52\">\n    <path d=\"M 49.633125 139.381754 \nL 69.163125 139.5 \nL 88.693125 125.603294 \n\" clip-path=\"url(#p3375430c9e)\" style=\"fill: none; stroke-dasharray: 9.6,2.4,1.5,2.4; stroke-dashoffset: 0; stroke: #2ca02c; stroke-width: 1.5\"/>\n   </g>\n   <g id=\"line2d_53\">\n    <path d=\"M 34.954394 13.5 \nL 44.698573 13.782199 \nL 54.442752 13.843441 \nL 64.186931 13.974703 \nL 73.93111 14.470843 \nL 83.675289 18.904373 \nL 93.419468 49.05367 \nL 103.163647 72.361398 \n\" clip-path=\"url(#p3375430c9e)\" style=\"fill: none; stroke: #1f77b4; stroke-width: 1.5; stroke-linecap: square\"/>\n   </g>\n   <g id=\"line2d_54\">\n    <path d=\"M 49.633125 13.974061 \nL 69.163125 14.233638 \nL 88.693125 28.855114 \nL 108.223125 77.732254 \n\" clip-path=\"url(#p3375430c9e)\" style=\"fill: none; stroke-dasharray: 5.55,2.4; stroke-dashoffset: 0; stroke: #ff7f0e; stroke-width: 1.5\"/>\n   </g>\n   <g id=\"line2d_55\">\n    <path d=\"M 49.633125 139.381754 \nL 69.163125 139.5 \nL 88.693125 125.603294 \nL 108.223125 112.534308 \n\" clip-path=\"url(#p3375430c9e)\" style=\"fill: none; stroke-dasharray: 9.6,2.4,1.5,2.4; stroke-dashoffset: 0; stroke: #2ca02c; stroke-width: 1.5\"/>\n   </g>\n   <g id=\"line2d_56\">\n    <path d=\"M 34.954394 13.5 \nL 44.698573 13.782199 \nL 54.442752 13.843441 \nL 64.186931 13.974703 \nL 73.93111 14.470843 \nL 83.675289 18.904373 \nL 93.419468 49.05367 \nL 103.163647 72.361398 \nL 112.907826 80.995975 \n\" clip-path=\"url(#p3375430c9e)\" style=\"fill: none; stroke: #1f77b4; stroke-width: 1.5; stroke-linecap: square\"/>\n   </g>\n   <g id=\"line2d_57\">\n    <path d=\"M 49.633125 13.974061 \nL 69.163125 14.233638 \nL 88.693125 28.855114 \nL 108.223125 77.732254 \n\" clip-path=\"url(#p3375430c9e)\" style=\"fill: none; stroke-dasharray: 5.55,2.4; stroke-dashoffset: 0; stroke: #ff7f0e; stroke-width: 1.5\"/>\n   </g>\n   <g id=\"line2d_58\">\n    <path d=\"M 49.633125 139.381754 \nL 69.163125 139.5 \nL 88.693125 125.603294 \nL 108.223125 112.534308 \n\" clip-path=\"url(#p3375430c9e)\" style=\"fill: none; stroke-dasharray: 9.6,2.4,1.5,2.4; stroke-dashoffset: 0; stroke: #2ca02c; stroke-width: 1.5\"/>\n   </g>\n   <g id=\"line2d_59\">\n    <path d=\"M 34.954394 13.5 \nL 44.698573 13.782199 \nL 54.442752 13.843441 \nL 64.186931 13.974703 \nL 73.93111 14.470843 \nL 83.675289 18.904373 \nL 93.419468 49.05367 \nL 103.163647 72.361398 \nL 112.907826 80.995975 \nL 122.652006 86.451041 \n\" clip-path=\"url(#p3375430c9e)\" style=\"fill: none; stroke: #1f77b4; stroke-width: 1.5; stroke-linecap: square\"/>\n   </g>\n   <g id=\"line2d_60\">\n    <path d=\"M 49.633125 13.974061 \nL 69.163125 14.233638 \nL 88.693125 28.855114 \nL 108.223125 77.732254 \n\" clip-path=\"url(#p3375430c9e)\" style=\"fill: none; stroke-dasharray: 5.55,2.4; stroke-dashoffset: 0; stroke: #ff7f0e; stroke-width: 1.5\"/>\n   </g>\n   <g id=\"line2d_61\">\n    <path d=\"M 49.633125 139.381754 \nL 69.163125 139.5 \nL 88.693125 125.603294 \nL 108.223125 112.534308 \n\" clip-path=\"url(#p3375430c9e)\" style=\"fill: none; stroke-dasharray: 9.6,2.4,1.5,2.4; stroke-dashoffset: 0; stroke: #2ca02c; stroke-width: 1.5\"/>\n   </g>\n   <g id=\"line2d_62\">\n    <path d=\"M 34.954394 13.5 \nL 44.698573 13.782199 \nL 54.442752 13.843441 \nL 64.186931 13.974703 \nL 73.93111 14.470843 \nL 83.675289 18.904373 \nL 93.419468 49.05367 \nL 103.163647 72.361398 \nL 112.907826 80.995975 \nL 122.652006 86.451041 \n\" clip-path=\"url(#p3375430c9e)\" style=\"fill: none; stroke: #1f77b4; stroke-width: 1.5; stroke-linecap: square\"/>\n   </g>\n   <g id=\"line2d_63\">\n    <path d=\"M 49.633125 13.974061 \nL 69.163125 14.233638 \nL 88.693125 28.855114 \nL 108.223125 77.732254 \nL 127.753125 88.74125 \n\" clip-path=\"url(#p3375430c9e)\" style=\"fill: none; stroke-dasharray: 5.55,2.4; stroke-dashoffset: 0; stroke: #ff7f0e; stroke-width: 1.5\"/>\n   </g>\n   <g id=\"line2d_64\">\n    <path d=\"M 49.633125 139.381754 \nL 69.163125 139.5 \nL 88.693125 125.603294 \nL 108.223125 112.534308 \n\" clip-path=\"url(#p3375430c9e)\" style=\"fill: none; stroke-dasharray: 9.6,2.4,1.5,2.4; stroke-dashoffset: 0; stroke: #2ca02c; stroke-width: 1.5\"/>\n   </g>\n   <g id=\"line2d_65\">\n    <path d=\"M 34.954394 13.5 \nL 44.698573 13.782199 \nL 54.442752 13.843441 \nL 64.186931 13.974703 \nL 73.93111 14.470843 \nL 83.675289 18.904373 \nL 93.419468 49.05367 \nL 103.163647 72.361398 \nL 112.907826 80.995975 \nL 122.652006 86.451041 \n\" clip-path=\"url(#p3375430c9e)\" style=\"fill: none; stroke: #1f77b4; stroke-width: 1.5; stroke-linecap: square\"/>\n   </g>\n   <g id=\"line2d_66\">\n    <path d=\"M 49.633125 13.974061 \nL 69.163125 14.233638 \nL 88.693125 28.855114 \nL 108.223125 77.732254 \nL 127.753125 88.74125 \n\" clip-path=\"url(#p3375430c9e)\" style=\"fill: none; stroke-dasharray: 5.55,2.4; stroke-dashoffset: 0; stroke: #ff7f0e; stroke-width: 1.5\"/>\n   </g>\n   <g id=\"line2d_67\">\n    <path d=\"M 49.633125 139.381754 \nL 69.163125 139.5 \nL 88.693125 125.603294 \nL 108.223125 112.534308 \nL 127.753125 110.259483 \n\" clip-path=\"url(#p3375430c9e)\" style=\"fill: none; stroke-dasharray: 9.6,2.4,1.5,2.4; stroke-dashoffset: 0; stroke: #2ca02c; stroke-width: 1.5\"/>\n   </g>\n   <g id=\"line2d_68\">\n    <path d=\"M 34.954394 13.5 \nL 44.698573 13.782199 \nL 54.442752 13.843441 \nL 64.186931 13.974703 \nL 73.93111 14.470843 \nL 83.675289 18.904373 \nL 93.419468 49.05367 \nL 103.163647 72.361398 \nL 112.907826 80.995975 \nL 122.652006 86.451041 \nL 132.396185 90.704182 \n\" clip-path=\"url(#p3375430c9e)\" style=\"fill: none; stroke: #1f77b4; stroke-width: 1.5; stroke-linecap: square\"/>\n   </g>\n   <g id=\"line2d_69\">\n    <path d=\"M 49.633125 13.974061 \nL 69.163125 14.233638 \nL 88.693125 28.855114 \nL 108.223125 77.732254 \nL 127.753125 88.74125 \n\" clip-path=\"url(#p3375430c9e)\" style=\"fill: none; stroke-dasharray: 5.55,2.4; stroke-dashoffset: 0; stroke: #ff7f0e; stroke-width: 1.5\"/>\n   </g>\n   <g id=\"line2d_70\">\n    <path d=\"M 49.633125 139.381754 \nL 69.163125 139.5 \nL 88.693125 125.603294 \nL 108.223125 112.534308 \nL 127.753125 110.259483 \n\" clip-path=\"url(#p3375430c9e)\" style=\"fill: none; stroke-dasharray: 9.6,2.4,1.5,2.4; stroke-dashoffset: 0; stroke: #2ca02c; stroke-width: 1.5\"/>\n   </g>\n   <g id=\"line2d_71\">\n    <path d=\"M 34.954394 13.5 \nL 44.698573 13.782199 \nL 54.442752 13.843441 \nL 64.186931 13.974703 \nL 73.93111 14.470843 \nL 83.675289 18.904373 \nL 93.419468 49.05367 \nL 103.163647 72.361398 \nL 112.907826 80.995975 \nL 122.652006 86.451041 \nL 132.396185 90.704182 \nL 142.140364 93.126364 \n\" clip-path=\"url(#p3375430c9e)\" style=\"fill: none; stroke: #1f77b4; stroke-width: 1.5; stroke-linecap: square\"/>\n   </g>\n   <g id=\"line2d_72\">\n    <path d=\"M 49.633125 13.974061 \nL 69.163125 14.233638 \nL 88.693125 28.855114 \nL 108.223125 77.732254 \nL 127.753125 88.74125 \n\" clip-path=\"url(#p3375430c9e)\" style=\"fill: none; stroke-dasharray: 5.55,2.4; stroke-dashoffset: 0; stroke: #ff7f0e; stroke-width: 1.5\"/>\n   </g>\n   <g id=\"line2d_73\">\n    <path d=\"M 49.633125 139.381754 \nL 69.163125 139.5 \nL 88.693125 125.603294 \nL 108.223125 112.534308 \nL 127.753125 110.259483 \n\" clip-path=\"url(#p3375430c9e)\" style=\"fill: none; stroke-dasharray: 9.6,2.4,1.5,2.4; stroke-dashoffset: 0; stroke: #2ca02c; stroke-width: 1.5\"/>\n   </g>\n   <g id=\"line2d_74\">\n    <path d=\"M 34.954394 13.5 \nL 44.698573 13.782199 \nL 54.442752 13.843441 \nL 64.186931 13.974703 \nL 73.93111 14.470843 \nL 83.675289 18.904373 \nL 93.419468 49.05367 \nL 103.163647 72.361398 \nL 112.907826 80.995975 \nL 122.652006 86.451041 \nL 132.396185 90.704182 \nL 142.140364 93.126364 \n\" clip-path=\"url(#p3375430c9e)\" style=\"fill: none; stroke: #1f77b4; stroke-width: 1.5; stroke-linecap: square\"/>\n   </g>\n   <g id=\"line2d_75\">\n    <path d=\"M 49.633125 13.974061 \nL 69.163125 14.233638 \nL 88.693125 28.855114 \nL 108.223125 77.732254 \nL 127.753125 88.74125 \nL 147.283125 94.063574 \n\" clip-path=\"url(#p3375430c9e)\" style=\"fill: none; stroke-dasharray: 5.55,2.4; stroke-dashoffset: 0; stroke: #ff7f0e; stroke-width: 1.5\"/>\n   </g>\n   <g id=\"line2d_76\">\n    <path d=\"M 49.633125 139.381754 \nL 69.163125 139.5 \nL 88.693125 125.603294 \nL 108.223125 112.534308 \nL 127.753125 110.259483 \n\" clip-path=\"url(#p3375430c9e)\" style=\"fill: none; stroke-dasharray: 9.6,2.4,1.5,2.4; stroke-dashoffset: 0; stroke: #2ca02c; stroke-width: 1.5\"/>\n   </g>\n   <g id=\"line2d_77\">\n    <path d=\"M 34.954394 13.5 \nL 44.698573 13.782199 \nL 54.442752 13.843441 \nL 64.186931 13.974703 \nL 73.93111 14.470843 \nL 83.675289 18.904373 \nL 93.419468 49.05367 \nL 103.163647 72.361398 \nL 112.907826 80.995975 \nL 122.652006 86.451041 \nL 132.396185 90.704182 \nL 142.140364 93.126364 \n\" clip-path=\"url(#p3375430c9e)\" style=\"fill: none; stroke: #1f77b4; stroke-width: 1.5; stroke-linecap: square\"/>\n   </g>\n   <g id=\"line2d_78\">\n    <path d=\"M 49.633125 13.974061 \nL 69.163125 14.233638 \nL 88.693125 28.855114 \nL 108.223125 77.732254 \nL 127.753125 88.74125 \nL 147.283125 94.063574 \n\" clip-path=\"url(#p3375430c9e)\" style=\"fill: none; stroke-dasharray: 5.55,2.4; stroke-dashoffset: 0; stroke: #ff7f0e; stroke-width: 1.5\"/>\n   </g>\n   <g id=\"line2d_79\">\n    <path d=\"M 49.633125 139.381754 \nL 69.163125 139.5 \nL 88.693125 125.603294 \nL 108.223125 112.534308 \nL 127.753125 110.259483 \nL 147.283125 107.427212 \n\" clip-path=\"url(#p3375430c9e)\" style=\"fill: none; stroke-dasharray: 9.6,2.4,1.5,2.4; stroke-dashoffset: 0; stroke: #2ca02c; stroke-width: 1.5\"/>\n   </g>\n   <g id=\"line2d_80\">\n    <path d=\"M 34.954394 13.5 \nL 44.698573 13.782199 \nL 54.442752 13.843441 \nL 64.186931 13.974703 \nL 73.93111 14.470843 \nL 83.675289 18.904373 \nL 93.419468 49.05367 \nL 103.163647 72.361398 \nL 112.907826 80.995975 \nL 122.652006 86.451041 \nL 132.396185 90.704182 \nL 142.140364 93.126364 \nL 151.884543 95.245446 \n\" clip-path=\"url(#p3375430c9e)\" style=\"fill: none; stroke: #1f77b4; stroke-width: 1.5; stroke-linecap: square\"/>\n   </g>\n   <g id=\"line2d_81\">\n    <path d=\"M 49.633125 13.974061 \nL 69.163125 14.233638 \nL 88.693125 28.855114 \nL 108.223125 77.732254 \nL 127.753125 88.74125 \nL 147.283125 94.063574 \n\" clip-path=\"url(#p3375430c9e)\" style=\"fill: none; stroke-dasharray: 5.55,2.4; stroke-dashoffset: 0; stroke: #ff7f0e; stroke-width: 1.5\"/>\n   </g>\n   <g id=\"line2d_82\">\n    <path d=\"M 49.633125 139.381754 \nL 69.163125 139.5 \nL 88.693125 125.603294 \nL 108.223125 112.534308 \nL 127.753125 110.259483 \nL 147.283125 107.427212 \n\" clip-path=\"url(#p3375430c9e)\" style=\"fill: none; stroke-dasharray: 9.6,2.4,1.5,2.4; stroke-dashoffset: 0; stroke: #2ca02c; stroke-width: 1.5\"/>\n   </g>\n   <g id=\"line2d_83\">\n    <path d=\"M 34.954394 13.5 \nL 44.698573 13.782199 \nL 54.442752 13.843441 \nL 64.186931 13.974703 \nL 73.93111 14.470843 \nL 83.675289 18.904373 \nL 93.419468 49.05367 \nL 103.163647 72.361398 \nL 112.907826 80.995975 \nL 122.652006 86.451041 \nL 132.396185 90.704182 \nL 142.140364 93.126364 \nL 151.884543 95.245446 \nL 161.628722 97.009413 \n\" clip-path=\"url(#p3375430c9e)\" style=\"fill: none; stroke: #1f77b4; stroke-width: 1.5; stroke-linecap: square\"/>\n   </g>\n   <g id=\"line2d_84\">\n    <path d=\"M 49.633125 13.974061 \nL 69.163125 14.233638 \nL 88.693125 28.855114 \nL 108.223125 77.732254 \nL 127.753125 88.74125 \nL 147.283125 94.063574 \n\" clip-path=\"url(#p3375430c9e)\" style=\"fill: none; stroke-dasharray: 5.55,2.4; stroke-dashoffset: 0; stroke: #ff7f0e; stroke-width: 1.5\"/>\n   </g>\n   <g id=\"line2d_85\">\n    <path d=\"M 49.633125 139.381754 \nL 69.163125 139.5 \nL 88.693125 125.603294 \nL 108.223125 112.534308 \nL 127.753125 110.259483 \nL 147.283125 107.427212 \n\" clip-path=\"url(#p3375430c9e)\" style=\"fill: none; stroke-dasharray: 9.6,2.4,1.5,2.4; stroke-dashoffset: 0; stroke: #2ca02c; stroke-width: 1.5\"/>\n   </g>\n   <g id=\"line2d_86\">\n    <path d=\"M 34.954394 13.5 \nL 44.698573 13.782199 \nL 54.442752 13.843441 \nL 64.186931 13.974703 \nL 73.93111 14.470843 \nL 83.675289 18.904373 \nL 93.419468 49.05367 \nL 103.163647 72.361398 \nL 112.907826 80.995975 \nL 122.652006 86.451041 \nL 132.396185 90.704182 \nL 142.140364 93.126364 \nL 151.884543 95.245446 \nL 161.628722 97.009413 \n\" clip-path=\"url(#p3375430c9e)\" style=\"fill: none; stroke: #1f77b4; stroke-width: 1.5; stroke-linecap: square\"/>\n   </g>\n   <g id=\"line2d_87\">\n    <path d=\"M 49.633125 13.974061 \nL 69.163125 14.233638 \nL 88.693125 28.855114 \nL 108.223125 77.732254 \nL 127.753125 88.74125 \nL 147.283125 94.063574 \nL 166.813125 97.176444 \n\" clip-path=\"url(#p3375430c9e)\" style=\"fill: none; stroke-dasharray: 5.55,2.4; stroke-dashoffset: 0; stroke: #ff7f0e; stroke-width: 1.5\"/>\n   </g>\n   <g id=\"line2d_88\">\n    <path d=\"M 49.633125 139.381754 \nL 69.163125 139.5 \nL 88.693125 125.603294 \nL 108.223125 112.534308 \nL 127.753125 110.259483 \nL 147.283125 107.427212 \n\" clip-path=\"url(#p3375430c9e)\" style=\"fill: none; stroke-dasharray: 9.6,2.4,1.5,2.4; stroke-dashoffset: 0; stroke: #2ca02c; stroke-width: 1.5\"/>\n   </g>\n   <g id=\"line2d_89\">\n    <path d=\"M 34.954394 13.5 \nL 44.698573 13.782199 \nL 54.442752 13.843441 \nL 64.186931 13.974703 \nL 73.93111 14.470843 \nL 83.675289 18.904373 \nL 93.419468 49.05367 \nL 103.163647 72.361398 \nL 112.907826 80.995975 \nL 122.652006 86.451041 \nL 132.396185 90.704182 \nL 142.140364 93.126364 \nL 151.884543 95.245446 \nL 161.628722 97.009413 \n\" clip-path=\"url(#p3375430c9e)\" style=\"fill: none; stroke: #1f77b4; stroke-width: 1.5; stroke-linecap: square\"/>\n   </g>\n   <g id=\"line2d_90\">\n    <path d=\"M 49.633125 13.974061 \nL 69.163125 14.233638 \nL 88.693125 28.855114 \nL 108.223125 77.732254 \nL 127.753125 88.74125 \nL 147.283125 94.063574 \nL 166.813125 97.176444 \n\" clip-path=\"url(#p3375430c9e)\" style=\"fill: none; stroke-dasharray: 5.55,2.4; stroke-dashoffset: 0; stroke: #ff7f0e; stroke-width: 1.5\"/>\n   </g>\n   <g id=\"line2d_91\">\n    <path d=\"M 49.633125 139.381754 \nL 69.163125 139.5 \nL 88.693125 125.603294 \nL 108.223125 112.534308 \nL 127.753125 110.259483 \nL 147.283125 107.427212 \nL 166.813125 105.9238 \n\" clip-path=\"url(#p3375430c9e)\" style=\"fill: none; stroke-dasharray: 9.6,2.4,1.5,2.4; stroke-dashoffset: 0; stroke: #2ca02c; stroke-width: 1.5\"/>\n   </g>\n   <g id=\"line2d_92\">\n    <path d=\"M 34.954394 13.5 \nL 44.698573 13.782199 \nL 54.442752 13.843441 \nL 64.186931 13.974703 \nL 73.93111 14.470843 \nL 83.675289 18.904373 \nL 93.419468 49.05367 \nL 103.163647 72.361398 \nL 112.907826 80.995975 \nL 122.652006 86.451041 \nL 132.396185 90.704182 \nL 142.140364 93.126364 \nL 151.884543 95.245446 \nL 161.628722 97.009413 \nL 171.372901 97.734644 \n\" clip-path=\"url(#p3375430c9e)\" style=\"fill: none; stroke: #1f77b4; stroke-width: 1.5; stroke-linecap: square\"/>\n   </g>\n   <g id=\"line2d_93\">\n    <path d=\"M 49.633125 13.974061 \nL 69.163125 14.233638 \nL 88.693125 28.855114 \nL 108.223125 77.732254 \nL 127.753125 88.74125 \nL 147.283125 94.063574 \nL 166.813125 97.176444 \n\" clip-path=\"url(#p3375430c9e)\" style=\"fill: none; stroke-dasharray: 5.55,2.4; stroke-dashoffset: 0; stroke: #ff7f0e; stroke-width: 1.5\"/>\n   </g>\n   <g id=\"line2d_94\">\n    <path d=\"M 49.633125 139.381754 \nL 69.163125 139.5 \nL 88.693125 125.603294 \nL 108.223125 112.534308 \nL 127.753125 110.259483 \nL 147.283125 107.427212 \nL 166.813125 105.9238 \n\" clip-path=\"url(#p3375430c9e)\" style=\"fill: none; stroke-dasharray: 9.6,2.4,1.5,2.4; stroke-dashoffset: 0; stroke: #2ca02c; stroke-width: 1.5\"/>\n   </g>\n   <g id=\"line2d_95\">\n    <path d=\"M 34.954394 13.5 \nL 44.698573 13.782199 \nL 54.442752 13.843441 \nL 64.186931 13.974703 \nL 73.93111 14.470843 \nL 83.675289 18.904373 \nL 93.419468 49.05367 \nL 103.163647 72.361398 \nL 112.907826 80.995975 \nL 122.652006 86.451041 \nL 132.396185 90.704182 \nL 142.140364 93.126364 \nL 151.884543 95.245446 \nL 161.628722 97.009413 \nL 171.372901 97.734644 \nL 181.11708 99.63093 \n\" clip-path=\"url(#p3375430c9e)\" style=\"fill: none; stroke: #1f77b4; stroke-width: 1.5; stroke-linecap: square\"/>\n   </g>\n   <g id=\"line2d_96\">\n    <path d=\"M 49.633125 13.974061 \nL 69.163125 14.233638 \nL 88.693125 28.855114 \nL 108.223125 77.732254 \nL 127.753125 88.74125 \nL 147.283125 94.063574 \nL 166.813125 97.176444 \n\" clip-path=\"url(#p3375430c9e)\" style=\"fill: none; stroke-dasharray: 5.55,2.4; stroke-dashoffset: 0; stroke: #ff7f0e; stroke-width: 1.5\"/>\n   </g>\n   <g id=\"line2d_97\">\n    <path d=\"M 49.633125 139.381754 \nL 69.163125 139.5 \nL 88.693125 125.603294 \nL 108.223125 112.534308 \nL 127.753125 110.259483 \nL 147.283125 107.427212 \nL 166.813125 105.9238 \n\" clip-path=\"url(#p3375430c9e)\" style=\"fill: none; stroke-dasharray: 9.6,2.4,1.5,2.4; stroke-dashoffset: 0; stroke: #2ca02c; stroke-width: 1.5\"/>\n   </g>\n   <g id=\"line2d_98\">\n    <path d=\"M 34.954394 13.5 \nL 44.698573 13.782199 \nL 54.442752 13.843441 \nL 64.186931 13.974703 \nL 73.93111 14.470843 \nL 83.675289 18.904373 \nL 93.419468 49.05367 \nL 103.163647 72.361398 \nL 112.907826 80.995975 \nL 122.652006 86.451041 \nL 132.396185 90.704182 \nL 142.140364 93.126364 \nL 151.884543 95.245446 \nL 161.628722 97.009413 \nL 171.372901 97.734644 \nL 181.11708 99.63093 \n\" clip-path=\"url(#p3375430c9e)\" style=\"fill: none; stroke: #1f77b4; stroke-width: 1.5; stroke-linecap: square\"/>\n   </g>\n   <g id=\"line2d_99\">\n    <path d=\"M 49.633125 13.974061 \nL 69.163125 14.233638 \nL 88.693125 28.855114 \nL 108.223125 77.732254 \nL 127.753125 88.74125 \nL 147.283125 94.063574 \nL 166.813125 97.176444 \nL 186.343125 99.256084 \n\" clip-path=\"url(#p3375430c9e)\" style=\"fill: none; stroke-dasharray: 5.55,2.4; stroke-dashoffset: 0; stroke: #ff7f0e; stroke-width: 1.5\"/>\n   </g>\n   <g id=\"line2d_100\">\n    <path d=\"M 49.633125 139.381754 \nL 69.163125 139.5 \nL 88.693125 125.603294 \nL 108.223125 112.534308 \nL 127.753125 110.259483 \nL 147.283125 107.427212 \nL 166.813125 105.9238 \n\" clip-path=\"url(#p3375430c9e)\" style=\"fill: none; stroke-dasharray: 9.6,2.4,1.5,2.4; stroke-dashoffset: 0; stroke: #2ca02c; stroke-width: 1.5\"/>\n   </g>\n   <g id=\"line2d_101\">\n    <path d=\"M 34.954394 13.5 \nL 44.698573 13.782199 \nL 54.442752 13.843441 \nL 64.186931 13.974703 \nL 73.93111 14.470843 \nL 83.675289 18.904373 \nL 93.419468 49.05367 \nL 103.163647 72.361398 \nL 112.907826 80.995975 \nL 122.652006 86.451041 \nL 132.396185 90.704182 \nL 142.140364 93.126364 \nL 151.884543 95.245446 \nL 161.628722 97.009413 \nL 171.372901 97.734644 \nL 181.11708 99.63093 \n\" clip-path=\"url(#p3375430c9e)\" style=\"fill: none; stroke: #1f77b4; stroke-width: 1.5; stroke-linecap: square\"/>\n   </g>\n   <g id=\"line2d_102\">\n    <path d=\"M 49.633125 13.974061 \nL 69.163125 14.233638 \nL 88.693125 28.855114 \nL 108.223125 77.732254 \nL 127.753125 88.74125 \nL 147.283125 94.063574 \nL 166.813125 97.176444 \nL 186.343125 99.256084 \n\" clip-path=\"url(#p3375430c9e)\" style=\"fill: none; stroke-dasharray: 5.55,2.4; stroke-dashoffset: 0; stroke: #ff7f0e; stroke-width: 1.5\"/>\n   </g>\n   <g id=\"line2d_103\">\n    <path d=\"M 49.633125 139.381754 \nL 69.163125 139.5 \nL 88.693125 125.603294 \nL 108.223125 112.534308 \nL 127.753125 110.259483 \nL 147.283125 107.427212 \nL 166.813125 105.9238 \nL 186.343125 105.10171 \n\" clip-path=\"url(#p3375430c9e)\" style=\"fill: none; stroke-dasharray: 9.6,2.4,1.5,2.4; stroke-dashoffset: 0; stroke: #2ca02c; stroke-width: 1.5\"/>\n   </g>\n   <g id=\"line2d_104\">\n    <path d=\"M 34.954394 13.5 \nL 44.698573 13.782199 \nL 54.442752 13.843441 \nL 64.186931 13.974703 \nL 73.93111 14.470843 \nL 83.675289 18.904373 \nL 93.419468 49.05367 \nL 103.163647 72.361398 \nL 112.907826 80.995975 \nL 122.652006 86.451041 \nL 132.396185 90.704182 \nL 142.140364 93.126364 \nL 151.884543 95.245446 \nL 161.628722 97.009413 \nL 171.372901 97.734644 \nL 181.11708 99.63093 \nL 190.861259 100.428361 \n\" clip-path=\"url(#p3375430c9e)\" style=\"fill: none; stroke: #1f77b4; stroke-width: 1.5; stroke-linecap: square\"/>\n   </g>\n   <g id=\"line2d_105\">\n    <path d=\"M 49.633125 13.974061 \nL 69.163125 14.233638 \nL 88.693125 28.855114 \nL 108.223125 77.732254 \nL 127.753125 88.74125 \nL 147.283125 94.063574 \nL 166.813125 97.176444 \nL 186.343125 99.256084 \n\" clip-path=\"url(#p3375430c9e)\" style=\"fill: none; stroke-dasharray: 5.55,2.4; stroke-dashoffset: 0; stroke: #ff7f0e; stroke-width: 1.5\"/>\n   </g>\n   <g id=\"line2d_106\">\n    <path d=\"M 49.633125 139.381754 \nL 69.163125 139.5 \nL 88.693125 125.603294 \nL 108.223125 112.534308 \nL 127.753125 110.259483 \nL 147.283125 107.427212 \nL 166.813125 105.9238 \nL 186.343125 105.10171 \n\" clip-path=\"url(#p3375430c9e)\" style=\"fill: none; stroke-dasharray: 9.6,2.4,1.5,2.4; stroke-dashoffset: 0; stroke: #2ca02c; stroke-width: 1.5\"/>\n   </g>\n   <g id=\"line2d_107\">\n    <path d=\"M 34.954394 13.5 \nL 44.698573 13.782199 \nL 54.442752 13.843441 \nL 64.186931 13.974703 \nL 73.93111 14.470843 \nL 83.675289 18.904373 \nL 93.419468 49.05367 \nL 103.163647 72.361398 \nL 112.907826 80.995975 \nL 122.652006 86.451041 \nL 132.396185 90.704182 \nL 142.140364 93.126364 \nL 151.884543 95.245446 \nL 161.628722 97.009413 \nL 171.372901 97.734644 \nL 181.11708 99.63093 \nL 190.861259 100.428361 \nL 200.605438 101.943757 \n\" clip-path=\"url(#p3375430c9e)\" style=\"fill: none; stroke: #1f77b4; stroke-width: 1.5; stroke-linecap: square\"/>\n   </g>\n   <g id=\"line2d_108\">\n    <path d=\"M 49.633125 13.974061 \nL 69.163125 14.233638 \nL 88.693125 28.855114 \nL 108.223125 77.732254 \nL 127.753125 88.74125 \nL 147.283125 94.063574 \nL 166.813125 97.176444 \nL 186.343125 99.256084 \n\" clip-path=\"url(#p3375430c9e)\" style=\"fill: none; stroke-dasharray: 5.55,2.4; stroke-dashoffset: 0; stroke: #ff7f0e; stroke-width: 1.5\"/>\n   </g>\n   <g id=\"line2d_109\">\n    <path d=\"M 49.633125 139.381754 \nL 69.163125 139.5 \nL 88.693125 125.603294 \nL 108.223125 112.534308 \nL 127.753125 110.259483 \nL 147.283125 107.427212 \nL 166.813125 105.9238 \nL 186.343125 105.10171 \n\" clip-path=\"url(#p3375430c9e)\" style=\"fill: none; stroke-dasharray: 9.6,2.4,1.5,2.4; stroke-dashoffset: 0; stroke: #2ca02c; stroke-width: 1.5\"/>\n   </g>\n   <g id=\"line2d_110\">\n    <path d=\"M 34.954394 13.5 \nL 44.698573 13.782199 \nL 54.442752 13.843441 \nL 64.186931 13.974703 \nL 73.93111 14.470843 \nL 83.675289 18.904373 \nL 93.419468 49.05367 \nL 103.163647 72.361398 \nL 112.907826 80.995975 \nL 122.652006 86.451041 \nL 132.396185 90.704182 \nL 142.140364 93.126364 \nL 151.884543 95.245446 \nL 161.628722 97.009413 \nL 171.372901 97.734644 \nL 181.11708 99.63093 \nL 190.861259 100.428361 \nL 200.605438 101.943757 \n\" clip-path=\"url(#p3375430c9e)\" style=\"fill: none; stroke: #1f77b4; stroke-width: 1.5; stroke-linecap: square\"/>\n   </g>\n   <g id=\"line2d_111\">\n    <path d=\"M 49.633125 13.974061 \nL 69.163125 14.233638 \nL 88.693125 28.855114 \nL 108.223125 77.732254 \nL 127.753125 88.74125 \nL 147.283125 94.063574 \nL 166.813125 97.176444 \nL 186.343125 99.256084 \nL 205.873125 101.022854 \n\" clip-path=\"url(#p3375430c9e)\" style=\"fill: none; stroke-dasharray: 5.55,2.4; stroke-dashoffset: 0; stroke: #ff7f0e; stroke-width: 1.5\"/>\n   </g>\n   <g id=\"line2d_112\">\n    <path d=\"M 49.633125 139.381754 \nL 69.163125 139.5 \nL 88.693125 125.603294 \nL 108.223125 112.534308 \nL 127.753125 110.259483 \nL 147.283125 107.427212 \nL 166.813125 105.9238 \nL 186.343125 105.10171 \n\" clip-path=\"url(#p3375430c9e)\" style=\"fill: none; stroke-dasharray: 9.6,2.4,1.5,2.4; stroke-dashoffset: 0; stroke: #2ca02c; stroke-width: 1.5\"/>\n   </g>\n   <g id=\"line2d_113\">\n    <path d=\"M 34.954394 13.5 \nL 44.698573 13.782199 \nL 54.442752 13.843441 \nL 64.186931 13.974703 \nL 73.93111 14.470843 \nL 83.675289 18.904373 \nL 93.419468 49.05367 \nL 103.163647 72.361398 \nL 112.907826 80.995975 \nL 122.652006 86.451041 \nL 132.396185 90.704182 \nL 142.140364 93.126364 \nL 151.884543 95.245446 \nL 161.628722 97.009413 \nL 171.372901 97.734644 \nL 181.11708 99.63093 \nL 190.861259 100.428361 \nL 200.605438 101.943757 \n\" clip-path=\"url(#p3375430c9e)\" style=\"fill: none; stroke: #1f77b4; stroke-width: 1.5; stroke-linecap: square\"/>\n   </g>\n   <g id=\"line2d_114\">\n    <path d=\"M 49.633125 13.974061 \nL 69.163125 14.233638 \nL 88.693125 28.855114 \nL 108.223125 77.732254 \nL 127.753125 88.74125 \nL 147.283125 94.063574 \nL 166.813125 97.176444 \nL 186.343125 99.256084 \nL 205.873125 101.022854 \n\" clip-path=\"url(#p3375430c9e)\" style=\"fill: none; stroke-dasharray: 5.55,2.4; stroke-dashoffset: 0; stroke: #ff7f0e; stroke-width: 1.5\"/>\n   </g>\n   <g id=\"line2d_115\">\n    <path d=\"M 49.633125 139.381754 \nL 69.163125 139.5 \nL 88.693125 125.603294 \nL 108.223125 112.534308 \nL 127.753125 110.259483 \nL 147.283125 107.427212 \nL 166.813125 105.9238 \nL 186.343125 105.10171 \nL 205.873125 104.589311 \n\" clip-path=\"url(#p3375430c9e)\" style=\"fill: none; stroke-dasharray: 9.6,2.4,1.5,2.4; stroke-dashoffset: 0; stroke: #2ca02c; stroke-width: 1.5\"/>\n   </g>\n   <g id=\"line2d_116\">\n    <path d=\"M 34.954394 13.5 \nL 44.698573 13.782199 \nL 54.442752 13.843441 \nL 64.186931 13.974703 \nL 73.93111 14.470843 \nL 83.675289 18.904373 \nL 93.419468 49.05367 \nL 103.163647 72.361398 \nL 112.907826 80.995975 \nL 122.652006 86.451041 \nL 132.396185 90.704182 \nL 142.140364 93.126364 \nL 151.884543 95.245446 \nL 161.628722 97.009413 \nL 171.372901 97.734644 \nL 181.11708 99.63093 \nL 190.861259 100.428361 \nL 200.605438 101.943757 \nL 210.349618 102.67501 \n\" clip-path=\"url(#p3375430c9e)\" style=\"fill: none; stroke: #1f77b4; stroke-width: 1.5; stroke-linecap: square\"/>\n   </g>\n   <g id=\"line2d_117\">\n    <path d=\"M 49.633125 13.974061 \nL 69.163125 14.233638 \nL 88.693125 28.855114 \nL 108.223125 77.732254 \nL 127.753125 88.74125 \nL 147.283125 94.063574 \nL 166.813125 97.176444 \nL 186.343125 99.256084 \nL 205.873125 101.022854 \n\" clip-path=\"url(#p3375430c9e)\" style=\"fill: none; stroke-dasharray: 5.55,2.4; stroke-dashoffset: 0; stroke: #ff7f0e; stroke-width: 1.5\"/>\n   </g>\n   <g id=\"line2d_118\">\n    <path d=\"M 49.633125 139.381754 \nL 69.163125 139.5 \nL 88.693125 125.603294 \nL 108.223125 112.534308 \nL 127.753125 110.259483 \nL 147.283125 107.427212 \nL 166.813125 105.9238 \nL 186.343125 105.10171 \nL 205.873125 104.589311 \n\" clip-path=\"url(#p3375430c9e)\" style=\"fill: none; stroke-dasharray: 9.6,2.4,1.5,2.4; stroke-dashoffset: 0; stroke: #2ca02c; stroke-width: 1.5\"/>\n   </g>\n   <g id=\"line2d_119\">\n    <path d=\"M 34.954394 13.5 \nL 44.698573 13.782199 \nL 54.442752 13.843441 \nL 64.186931 13.974703 \nL 73.93111 14.470843 \nL 83.675289 18.904373 \nL 93.419468 49.05367 \nL 103.163647 72.361398 \nL 112.907826 80.995975 \nL 122.652006 86.451041 \nL 132.396185 90.704182 \nL 142.140364 93.126364 \nL 151.884543 95.245446 \nL 161.628722 97.009413 \nL 171.372901 97.734644 \nL 181.11708 99.63093 \nL 190.861259 100.428361 \nL 200.605438 101.943757 \nL 210.349618 102.67501 \nL 220.093797 104.493782 \n\" clip-path=\"url(#p3375430c9e)\" style=\"fill: none; stroke: #1f77b4; stroke-width: 1.5; stroke-linecap: square\"/>\n   </g>\n   <g id=\"line2d_120\">\n    <path d=\"M 49.633125 13.974061 \nL 69.163125 14.233638 \nL 88.693125 28.855114 \nL 108.223125 77.732254 \nL 127.753125 88.74125 \nL 147.283125 94.063574 \nL 166.813125 97.176444 \nL 186.343125 99.256084 \nL 205.873125 101.022854 \n\" clip-path=\"url(#p3375430c9e)\" style=\"fill: none; stroke-dasharray: 5.55,2.4; stroke-dashoffset: 0; stroke: #ff7f0e; stroke-width: 1.5\"/>\n   </g>\n   <g id=\"line2d_121\">\n    <path d=\"M 49.633125 139.381754 \nL 69.163125 139.5 \nL 88.693125 125.603294 \nL 108.223125 112.534308 \nL 127.753125 110.259483 \nL 147.283125 107.427212 \nL 166.813125 105.9238 \nL 186.343125 105.10171 \nL 205.873125 104.589311 \n\" clip-path=\"url(#p3375430c9e)\" style=\"fill: none; stroke-dasharray: 9.6,2.4,1.5,2.4; stroke-dashoffset: 0; stroke: #2ca02c; stroke-width: 1.5\"/>\n   </g>\n   <g id=\"line2d_122\">\n    <path d=\"M 34.954394 13.5 \nL 44.698573 13.782199 \nL 54.442752 13.843441 \nL 64.186931 13.974703 \nL 73.93111 14.470843 \nL 83.675289 18.904373 \nL 93.419468 49.05367 \nL 103.163647 72.361398 \nL 112.907826 80.995975 \nL 122.652006 86.451041 \nL 132.396185 90.704182 \nL 142.140364 93.126364 \nL 151.884543 95.245446 \nL 161.628722 97.009413 \nL 171.372901 97.734644 \nL 181.11708 99.63093 \nL 190.861259 100.428361 \nL 200.605438 101.943757 \nL 210.349618 102.67501 \nL 220.093797 104.493782 \n\" clip-path=\"url(#p3375430c9e)\" style=\"fill: none; stroke: #1f77b4; stroke-width: 1.5; stroke-linecap: square\"/>\n   </g>\n   <g id=\"line2d_123\">\n    <path d=\"M 49.633125 13.974061 \nL 69.163125 14.233638 \nL 88.693125 28.855114 \nL 108.223125 77.732254 \nL 127.753125 88.74125 \nL 147.283125 94.063574 \nL 166.813125 97.176444 \nL 186.343125 99.256084 \nL 205.873125 101.022854 \nL 225.403125 104.277009 \n\" clip-path=\"url(#p3375430c9e)\" style=\"fill: none; stroke-dasharray: 5.55,2.4; stroke-dashoffset: 0; stroke: #ff7f0e; stroke-width: 1.5\"/>\n   </g>\n   <g id=\"line2d_124\">\n    <path d=\"M 49.633125 139.381754 \nL 69.163125 139.5 \nL 88.693125 125.603294 \nL 108.223125 112.534308 \nL 127.753125 110.259483 \nL 147.283125 107.427212 \nL 166.813125 105.9238 \nL 186.343125 105.10171 \nL 205.873125 104.589311 \n\" clip-path=\"url(#p3375430c9e)\" style=\"fill: none; stroke-dasharray: 9.6,2.4,1.5,2.4; stroke-dashoffset: 0; stroke: #2ca02c; stroke-width: 1.5\"/>\n   </g>\n   <g id=\"line2d_125\">\n    <path d=\"M 34.954394 13.5 \nL 44.698573 13.782199 \nL 54.442752 13.843441 \nL 64.186931 13.974703 \nL 73.93111 14.470843 \nL 83.675289 18.904373 \nL 93.419468 49.05367 \nL 103.163647 72.361398 \nL 112.907826 80.995975 \nL 122.652006 86.451041 \nL 132.396185 90.704182 \nL 142.140364 93.126364 \nL 151.884543 95.245446 \nL 161.628722 97.009413 \nL 171.372901 97.734644 \nL 181.11708 99.63093 \nL 190.861259 100.428361 \nL 200.605438 101.943757 \nL 210.349618 102.67501 \nL 220.093797 104.493782 \n\" clip-path=\"url(#p3375430c9e)\" style=\"fill: none; stroke: #1f77b4; stroke-width: 1.5; stroke-linecap: square\"/>\n   </g>\n   <g id=\"line2d_126\">\n    <path d=\"M 49.633125 13.974061 \nL 69.163125 14.233638 \nL 88.693125 28.855114 \nL 108.223125 77.732254 \nL 127.753125 88.74125 \nL 147.283125 94.063574 \nL 166.813125 97.176444 \nL 186.343125 99.256084 \nL 205.873125 101.022854 \nL 225.403125 104.277009 \n\" clip-path=\"url(#p3375430c9e)\" style=\"fill: none; stroke-dasharray: 5.55,2.4; stroke-dashoffset: 0; stroke: #ff7f0e; stroke-width: 1.5\"/>\n   </g>\n   <g id=\"line2d_127\">\n    <path d=\"M 49.633125 139.381754 \nL 69.163125 139.5 \nL 88.693125 125.603294 \nL 108.223125 112.534308 \nL 127.753125 110.259483 \nL 147.283125 107.427212 \nL 166.813125 105.9238 \nL 186.343125 105.10171 \nL 205.873125 104.589311 \nL 225.403125 103.46316 \n\" clip-path=\"url(#p3375430c9e)\" style=\"fill: none; stroke-dasharray: 9.6,2.4,1.5,2.4; stroke-dashoffset: 0; stroke: #2ca02c; stroke-width: 1.5\"/>\n   </g>\n   <g id=\"patch_3\">\n    <path d=\"M 30.103125 145.8 \nL 30.103125 7.2 \n\" style=\"fill: none; stroke: #000000; stroke-width: 0.8; stroke-linejoin: miter; stroke-linecap: square\"/>\n   </g>\n   <g id=\"patch_4\">\n    <path d=\"M 225.403125 145.8 \nL 225.403125 7.2 \n\" style=\"fill: none; stroke: #000000; stroke-width: 0.8; stroke-linejoin: miter; stroke-linecap: square\"/>\n   </g>\n   <g id=\"patch_5\">\n    <path d=\"M 30.103125 145.8 \nL 225.403125 145.8 \n\" style=\"fill: none; stroke: #000000; stroke-width: 0.8; stroke-linejoin: miter; stroke-linecap: square\"/>\n   </g>\n   <g id=\"patch_6\">\n    <path d=\"M 30.103125 7.2 \nL 225.403125 7.2 \n\" style=\"fill: none; stroke: #000000; stroke-width: 0.8; stroke-linejoin: miter; stroke-linecap: square\"/>\n   </g>\n   <g id=\"legend_1\">\n    <g id=\"patch_7\">\n     <path d=\"M 138.8125 60.06875 \nL 218.403125 60.06875 \nQ 220.403125 60.06875 220.403125 58.06875 \nL 220.403125 14.2 \nQ 220.403125 12.2 218.403125 12.2 \nL 138.8125 12.2 \nQ 136.8125 12.2 136.8125 14.2 \nL 136.8125 58.06875 \nQ 136.8125 60.06875 138.8125 60.06875 \nz\n\" style=\"fill: #ffffff; opacity: 0.8; stroke: #cccccc; stroke-linejoin: miter\"/>\n    </g>\n    <g id=\"line2d_128\">\n     <path d=\"M 140.8125 20.298438 \nL 150.8125 20.298438 \nL 160.8125 20.298438 \n\" style=\"fill: none; stroke: #1f77b4; stroke-width: 1.5; stroke-linecap: square\"/>\n    </g>\n    <g id=\"text_13\">\n     <!-- train_loss -->\n     <g transform=\"translate(168.8125 23.798438) scale(0.1 -0.1)\">\n      <defs>\n       <path id=\"DejaVuSans-74\" d=\"M 1172 4494 \nL 1172 3500 \nL 2356 3500 \nL 2356 3053 \nL 1172 3053 \nL 1172 1153 \nQ 1172 725 1289 603 \nQ 1406 481 1766 481 \nL 2356 481 \nL 2356 0 \nL 1766 0 \nQ 1100 0 847 248 \nQ 594 497 594 1153 \nL 594 3053 \nL 172 3053 \nL 172 3500 \nL 594 3500 \nL 594 4494 \nL 1172 4494 \nz\n\" transform=\"scale(0.015625)\"/>\n       <path id=\"DejaVuSans-72\" d=\"M 2631 2963 \nQ 2534 3019 2420 3045 \nQ 2306 3072 2169 3072 \nQ 1681 3072 1420 2755 \nQ 1159 2438 1159 1844 \nL 1159 0 \nL 581 0 \nL 581 3500 \nL 1159 3500 \nL 1159 2956 \nQ 1341 3275 1631 3429 \nQ 1922 3584 2338 3584 \nQ 2397 3584 2469 3576 \nQ 2541 3569 2628 3553 \nL 2631 2963 \nz\n\" transform=\"scale(0.015625)\"/>\n       <path id=\"DejaVuSans-61\" d=\"M 2194 1759 \nQ 1497 1759 1228 1600 \nQ 959 1441 959 1056 \nQ 959 750 1161 570 \nQ 1363 391 1709 391 \nQ 2188 391 2477 730 \nQ 2766 1069 2766 1631 \nL 2766 1759 \nL 2194 1759 \nz\nM 3341 1997 \nL 3341 0 \nL 2766 0 \nL 2766 531 \nQ 2569 213 2275 61 \nQ 1981 -91 1556 -91 \nQ 1019 -91 701 211 \nQ 384 513 384 1019 \nQ 384 1609 779 1909 \nQ 1175 2209 1959 2209 \nL 2766 2209 \nL 2766 2266 \nQ 2766 2663 2505 2880 \nQ 2244 3097 1772 3097 \nQ 1472 3097 1187 3025 \nQ 903 2953 641 2809 \nL 641 3341 \nQ 956 3463 1253 3523 \nQ 1550 3584 1831 3584 \nQ 2591 3584 2966 3190 \nQ 3341 2797 3341 1997 \nz\n\" transform=\"scale(0.015625)\"/>\n       <path id=\"DejaVuSans-69\" d=\"M 603 3500 \nL 1178 3500 \nL 1178 0 \nL 603 0 \nL 603 3500 \nz\nM 603 4863 \nL 1178 4863 \nL 1178 4134 \nL 603 4134 \nL 603 4863 \nz\n\" transform=\"scale(0.015625)\"/>\n       <path id=\"DejaVuSans-6e\" d=\"M 3513 2113 \nL 3513 0 \nL 2938 0 \nL 2938 2094 \nQ 2938 2591 2744 2837 \nQ 2550 3084 2163 3084 \nQ 1697 3084 1428 2787 \nQ 1159 2491 1159 1978 \nL 1159 0 \nL 581 0 \nL 581 3500 \nL 1159 3500 \nL 1159 2956 \nQ 1366 3272 1645 3428 \nQ 1925 3584 2291 3584 \nQ 2894 3584 3203 3211 \nQ 3513 2838 3513 2113 \nz\n\" transform=\"scale(0.015625)\"/>\n       <path id=\"DejaVuSans-5f\" d=\"M 3263 -1063 \nL 3263 -1509 \nL -63 -1509 \nL -63 -1063 \nL 3263 -1063 \nz\n\" transform=\"scale(0.015625)\"/>\n       <path id=\"DejaVuSans-6c\" d=\"M 603 4863 \nL 1178 4863 \nL 1178 0 \nL 603 0 \nL 603 4863 \nz\n\" transform=\"scale(0.015625)\"/>\n       <path id=\"DejaVuSans-73\" d=\"M 2834 3397 \nL 2834 2853 \nQ 2591 2978 2328 3040 \nQ 2066 3103 1784 3103 \nQ 1356 3103 1142 2972 \nQ 928 2841 928 2578 \nQ 928 2378 1081 2264 \nQ 1234 2150 1697 2047 \nL 1894 2003 \nQ 2506 1872 2764 1633 \nQ 3022 1394 3022 966 \nQ 3022 478 2636 193 \nQ 2250 -91 1575 -91 \nQ 1294 -91 989 -36 \nQ 684 19 347 128 \nL 347 722 \nQ 666 556 975 473 \nQ 1284 391 1588 391 \nQ 1994 391 2212 530 \nQ 2431 669 2431 922 \nQ 2431 1156 2273 1281 \nQ 2116 1406 1581 1522 \nL 1381 1569 \nQ 847 1681 609 1914 \nQ 372 2147 372 2553 \nQ 372 3047 722 3315 \nQ 1072 3584 1716 3584 \nQ 2034 3584 2315 3537 \nQ 2597 3491 2834 3397 \nz\n\" transform=\"scale(0.015625)\"/>\n      </defs>\n      <use xlink:href=\"#DejaVuSans-74\"/>\n      <use xlink:href=\"#DejaVuSans-72\" x=\"39.208984\"/>\n      <use xlink:href=\"#DejaVuSans-61\" x=\"80.322266\"/>\n      <use xlink:href=\"#DejaVuSans-69\" x=\"141.601562\"/>\n      <use xlink:href=\"#DejaVuSans-6e\" x=\"169.384766\"/>\n      <use xlink:href=\"#DejaVuSans-5f\" x=\"232.763672\"/>\n      <use xlink:href=\"#DejaVuSans-6c\" x=\"282.763672\"/>\n      <use xlink:href=\"#DejaVuSans-6f\" x=\"310.546875\"/>\n      <use xlink:href=\"#DejaVuSans-73\" x=\"371.728516\"/>\n      <use xlink:href=\"#DejaVuSans-73\" x=\"423.828125\"/>\n     </g>\n    </g>\n    <g id=\"line2d_129\">\n     <path d=\"M 140.8125 35.254688 \nL 150.8125 35.254688 \nL 160.8125 35.254688 \n\" style=\"fill: none; stroke-dasharray: 5.55,2.4; stroke-dashoffset: 0; stroke: #ff7f0e; stroke-width: 1.5\"/>\n    </g>\n    <g id=\"text_14\">\n     <!-- val_loss -->\n     <g transform=\"translate(168.8125 38.754688) scale(0.1 -0.1)\">\n      <defs>\n       <path id=\"DejaVuSans-76\" d=\"M 191 3500 \nL 800 3500 \nL 1894 563 \nL 2988 3500 \nL 3597 3500 \nL 2284 0 \nL 1503 0 \nL 191 3500 \nz\n\" transform=\"scale(0.015625)\"/>\n      </defs>\n      <use xlink:href=\"#DejaVuSans-76\"/>\n      <use xlink:href=\"#DejaVuSans-61\" x=\"59.179688\"/>\n      <use xlink:href=\"#DejaVuSans-6c\" x=\"120.458984\"/>\n      <use xlink:href=\"#DejaVuSans-5f\" x=\"148.242188\"/>\n      <use xlink:href=\"#DejaVuSans-6c\" x=\"198.242188\"/>\n      <use xlink:href=\"#DejaVuSans-6f\" x=\"226.025391\"/>\n      <use xlink:href=\"#DejaVuSans-73\" x=\"287.207031\"/>\n      <use xlink:href=\"#DejaVuSans-73\" x=\"339.306641\"/>\n     </g>\n    </g>\n    <g id=\"line2d_130\">\n     <path d=\"M 140.8125 50.210938 \nL 150.8125 50.210938 \nL 160.8125 50.210938 \n\" style=\"fill: none; stroke-dasharray: 9.6,2.4,1.5,2.4; stroke-dashoffset: 0; stroke: #2ca02c; stroke-width: 1.5\"/>\n    </g>\n    <g id=\"text_15\">\n     <!-- val_acc -->\n     <g transform=\"translate(168.8125 53.710938) scale(0.1 -0.1)\">\n      <use xlink:href=\"#DejaVuSans-76\"/>\n      <use xlink:href=\"#DejaVuSans-61\" x=\"59.179688\"/>\n      <use xlink:href=\"#DejaVuSans-6c\" x=\"120.458984\"/>\n      <use xlink:href=\"#DejaVuSans-5f\" x=\"148.242188\"/>\n      <use xlink:href=\"#DejaVuSans-61\" x=\"198.242188\"/>\n      <use xlink:href=\"#DejaVuSans-63\" x=\"259.521484\"/>\n      <use xlink:href=\"#DejaVuSans-63\" x=\"314.501953\"/>\n     </g>\n    </g>\n   </g>\n  </g>\n </g>\n <defs>\n  <clipPath id=\"p3375430c9e\">\n   <rect x=\"30.103125\" y=\"7.2\" width=\"195.3\" height=\"138.6\"/>\n  </clipPath>\n </defs>\n</svg>\n"
          },
          "metadata": {}
        }
      ]
    },
    {
      "cell_type": "markdown",
      "source": [
        "# Exercises\n",
        "학습한 모델의 성능을 확인하기 위해, 5개의 데이터에 대해 예측된 레이블과 실제 레이블을 시각화했다. 이때 모델이 GPU에서 학습되었으므로, 데이터와 모델을 동일한 디바이스 환경(GPU 또는 CPU)으로 설정해주었다"
      ],
      "metadata": {
        "id": "UjI_5dJ6ROd-"
      }
    },
    {
      "cell_type": "code",
      "source": [
        "import torch\n",
        "import matplotlib.pyplot as plt\n",
        "\n",
        "train_iter = iter(data.get_dataloader(True))\n",
        "images, labels = next(train_iter)\n",
        "images, labels = images[:5], labels[:5]\n",
        "\n",
        "device = torch.device(\"cuda\" if torch.cuda.is_available() else \"cpu\")\n",
        "images, labels = images.to(device), labels.to(device)\n",
        "\n",
        "model.to(device)\n",
        "\n",
        "preds = model(images).argmax(axis=1)\n",
        "\n",
        "fig, axes = plt.subplots(1, 5, figsize=(12, 12))\n",
        "for i in range(5):\n",
        "    axes[i].imshow(images[i].cpu().reshape(28, 28).numpy(), cmap='gray')\n",
        "    axes[i].set_title(f\"Label: {labels[i].item()}\\nPred: {preds[i].item()}\")\n",
        "    axes[i].axis('off')\n",
        "\n",
        "plt.show()"
      ],
      "metadata": {
        "colab": {
          "base_uri": "https://localhost:8080/",
          "height": 232
        },
        "id": "nb_u-YKO9WPi",
        "outputId": "3392dc9a-e52c-4a05-d5f7-28dc27641a71"
      },
      "execution_count": null,
      "outputs": [
        {
          "output_type": "display_data",
          "data": {
            "text/plain": [
              "<Figure size 1200x1200 with 5 Axes>"
            ],
            "image/svg+xml": "<?xml version=\"1.0\" encoding=\"utf-8\" standalone=\"no\"?>\n<!DOCTYPE svg PUBLIC \"-//W3C//DTD SVG 1.1//EN\"\n  \"http://www.w3.org/Graphics/SVG/1.1/DTD/svg11.dtd\">\n<svg xmlns:xlink=\"http://www.w3.org/1999/xlink\" width=\"684pt\" height=\"158.403776pt\" viewBox=\"0 0 684 158.403776\" xmlns=\"http://www.w3.org/2000/svg\" version=\"1.1\">\n <metadata>\n  <rdf:RDF xmlns:dc=\"http://purl.org/dc/elements/1.1/\" xmlns:cc=\"http://creativecommons.org/ns#\" xmlns:rdf=\"http://www.w3.org/1999/02/22-rdf-syntax-ns#\">\n   <cc:Work>\n    <dc:type rdf:resource=\"http://purl.org/dc/dcmitype/StillImage\"/>\n    <dc:date>2024-10-09T17:12:31.437351</dc:date>\n    <dc:format>image/svg+xml</dc:format>\n    <dc:creator>\n     <cc:Agent>\n      <dc:title>Matplotlib v3.7.1, https://matplotlib.org/</dc:title>\n     </cc:Agent>\n    </dc:creator>\n   </cc:Work>\n  </rdf:RDF>\n </metadata>\n <defs>\n  <style type=\"text/css\">*{stroke-linejoin: round; stroke-linecap: butt}</style>\n </defs>\n <g id=\"figure_1\">\n  <g id=\"patch_1\">\n   <path d=\"M 0 158.403776 \nL 684 158.403776 \nL 684 -0 \nL 0 -0 \nz\n\" style=\"fill: #ffffff\"/>\n  </g>\n  <g id=\"axes_1\">\n   <g clip-path=\"url(#pdf92491e94)\">\n    <image xlink:href=\"data:image/png;base64,\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\" id=\"image0570475f09\" transform=\"scale(1 -1) translate(0 -115.92)\" x=\"7.2\" y=\"-35.283776\" width=\"115.92\" height=\"115.92\"/>\n   </g>\n   <g id=\"text_1\">\n    <!-- Label: 9 -->\n    <g transform=\"translate(40.9907 16.318125) scale(0.12 -0.12)\">\n     <defs>\n      <path id=\"DejaVuSans-4c\" d=\"M 628 4666 \nL 1259 4666 \nL 1259 531 \nL 3531 531 \nL 3531 0 \nL 628 0 \nL 628 4666 \nz\n\" transform=\"scale(0.015625)\"/>\n      <path id=\"DejaVuSans-61\" d=\"M 2194 1759 \nQ 1497 1759 1228 1600 \nQ 959 1441 959 1056 \nQ 959 750 1161 570 \nQ 1363 391 1709 391 \nQ 2188 391 2477 730 \nQ 2766 1069 2766 1631 \nL 2766 1759 \nL 2194 1759 \nz\nM 3341 1997 \nL 3341 0 \nL 2766 0 \nL 2766 531 \nQ 2569 213 2275 61 \nQ 1981 -91 1556 -91 \nQ 1019 -91 701 211 \nQ 384 513 384 1019 \nQ 384 1609 779 1909 \nQ 1175 2209 1959 2209 \nL 2766 2209 \nL 2766 2266 \nQ 2766 2663 2505 2880 \nQ 2244 3097 1772 3097 \nQ 1472 3097 1187 3025 \nQ 903 2953 641 2809 \nL 641 3341 \nQ 956 3463 1253 3523 \nQ 1550 3584 1831 3584 \nQ 2591 3584 2966 3190 \nQ 3341 2797 3341 1997 \nz\n\" transform=\"scale(0.015625)\"/>\n      <path id=\"DejaVuSans-62\" d=\"M 3116 1747 \nQ 3116 2381 2855 2742 \nQ 2594 3103 2138 3103 \nQ 1681 3103 1420 2742 \nQ 1159 2381 1159 1747 \nQ 1159 1113 1420 752 \nQ 1681 391 2138 391 \nQ 2594 391 2855 752 \nQ 3116 1113 3116 1747 \nz\nM 1159 2969 \nQ 1341 3281 1617 3432 \nQ 1894 3584 2278 3584 \nQ 2916 3584 3314 3078 \nQ 3713 2572 3713 1747 \nQ 3713 922 3314 415 \nQ 2916 -91 2278 -91 \nQ 1894 -91 1617 61 \nQ 1341 213 1159 525 \nL 1159 0 \nL 581 0 \nL 581 4863 \nL 1159 4863 \nL 1159 2969 \nz\n\" transform=\"scale(0.015625)\"/>\n      <path id=\"DejaVuSans-65\" d=\"M 3597 1894 \nL 3597 1613 \nL 953 1613 \nQ 991 1019 1311 708 \nQ 1631 397 2203 397 \nQ 2534 397 2845 478 \nQ 3156 559 3463 722 \nL 3463 178 \nQ 3153 47 2828 -22 \nQ 2503 -91 2169 -91 \nQ 1331 -91 842 396 \nQ 353 884 353 1716 \nQ 353 2575 817 3079 \nQ 1281 3584 2069 3584 \nQ 2775 3584 3186 3129 \nQ 3597 2675 3597 1894 \nz\nM 3022 2063 \nQ 3016 2534 2758 2815 \nQ 2500 3097 2075 3097 \nQ 1594 3097 1305 2825 \nQ 1016 2553 972 2059 \nL 3022 2063 \nz\n\" transform=\"scale(0.015625)\"/>\n      <path id=\"DejaVuSans-6c\" d=\"M 603 4863 \nL 1178 4863 \nL 1178 0 \nL 603 0 \nL 603 4863 \nz\n\" transform=\"scale(0.015625)\"/>\n      <path id=\"DejaVuSans-3a\" d=\"M 750 794 \nL 1409 794 \nL 1409 0 \nL 750 0 \nL 750 794 \nz\nM 750 3309 \nL 1409 3309 \nL 1409 2516 \nL 750 2516 \nL 750 3309 \nz\n\" transform=\"scale(0.015625)\"/>\n      <path id=\"DejaVuSans-20\" transform=\"scale(0.015625)\"/>\n      <path id=\"DejaVuSans-39\" d=\"M 703 97 \nL 703 672 \nQ 941 559 1184 500 \nQ 1428 441 1663 441 \nQ 2288 441 2617 861 \nQ 2947 1281 2994 2138 \nQ 2813 1869 2534 1725 \nQ 2256 1581 1919 1581 \nQ 1219 1581 811 2004 \nQ 403 2428 403 3163 \nQ 403 3881 828 4315 \nQ 1253 4750 1959 4750 \nQ 2769 4750 3195 4129 \nQ 3622 3509 3622 2328 \nQ 3622 1225 3098 567 \nQ 2575 -91 1691 -91 \nQ 1453 -91 1209 -44 \nQ 966 3 703 97 \nz\nM 1959 2075 \nQ 2384 2075 2632 2365 \nQ 2881 2656 2881 3163 \nQ 2881 3666 2632 3958 \nQ 2384 4250 1959 4250 \nQ 1534 4250 1286 3958 \nQ 1038 3666 1038 3163 \nQ 1038 2656 1286 2365 \nQ 1534 2075 1959 2075 \nz\n\" transform=\"scale(0.015625)\"/>\n     </defs>\n     <use xlink:href=\"#DejaVuSans-4c\"/>\n     <use xlink:href=\"#DejaVuSans-61\" x=\"55.712891\"/>\n     <use xlink:href=\"#DejaVuSans-62\" x=\"116.992188\"/>\n     <use xlink:href=\"#DejaVuSans-65\" x=\"180.46875\"/>\n     <use xlink:href=\"#DejaVuSans-6c\" x=\"241.992188\"/>\n     <use xlink:href=\"#DejaVuSans-3a\" x=\"269.775391\"/>\n     <use xlink:href=\"#DejaVuSans-20\" x=\"303.466797\"/>\n     <use xlink:href=\"#DejaVuSans-39\" x=\"335.253906\"/>\n    </g>\n    <!-- Pred: 9 -->\n    <g transform=\"translate(43.8332 29.7555) scale(0.12 -0.12)\">\n     <defs>\n      <path id=\"DejaVuSans-50\" d=\"M 1259 4147 \nL 1259 2394 \nL 2053 2394 \nQ 2494 2394 2734 2622 \nQ 2975 2850 2975 3272 \nQ 2975 3691 2734 3919 \nQ 2494 4147 2053 4147 \nL 1259 4147 \nz\nM 628 4666 \nL 2053 4666 \nQ 2838 4666 3239 4311 \nQ 3641 3956 3641 3272 \nQ 3641 2581 3239 2228 \nQ 2838 1875 2053 1875 \nL 1259 1875 \nL 1259 0 \nL 628 0 \nL 628 4666 \nz\n\" transform=\"scale(0.015625)\"/>\n      <path id=\"DejaVuSans-72\" d=\"M 2631 2963 \nQ 2534 3019 2420 3045 \nQ 2306 3072 2169 3072 \nQ 1681 3072 1420 2755 \nQ 1159 2438 1159 1844 \nL 1159 0 \nL 581 0 \nL 581 3500 \nL 1159 3500 \nL 1159 2956 \nQ 1341 3275 1631 3429 \nQ 1922 3584 2338 3584 \nQ 2397 3584 2469 3576 \nQ 2541 3569 2628 3553 \nL 2631 2963 \nz\n\" transform=\"scale(0.015625)\"/>\n      <path id=\"DejaVuSans-64\" d=\"M 2906 2969 \nL 2906 4863 \nL 3481 4863 \nL 3481 0 \nL 2906 0 \nL 2906 525 \nQ 2725 213 2448 61 \nQ 2172 -91 1784 -91 \nQ 1150 -91 751 415 \nQ 353 922 353 1747 \nQ 353 2572 751 3078 \nQ 1150 3584 1784 3584 \nQ 2172 3584 2448 3432 \nQ 2725 3281 2906 2969 \nz\nM 947 1747 \nQ 947 1113 1208 752 \nQ 1469 391 1925 391 \nQ 2381 391 2643 752 \nQ 2906 1113 2906 1747 \nQ 2906 2381 2643 2742 \nQ 2381 3103 1925 3103 \nQ 1469 3103 1208 2742 \nQ 947 2381 947 1747 \nz\n\" transform=\"scale(0.015625)\"/>\n     </defs>\n     <use xlink:href=\"#DejaVuSans-50\"/>\n     <use xlink:href=\"#DejaVuSans-72\" x=\"58.552734\"/>\n     <use xlink:href=\"#DejaVuSans-65\" x=\"97.416016\"/>\n     <use xlink:href=\"#DejaVuSans-64\" x=\"158.939453\"/>\n     <use xlink:href=\"#DejaVuSans-3a\" x=\"222.416016\"/>\n     <use xlink:href=\"#DejaVuSans-20\" x=\"256.107422\"/>\n     <use xlink:href=\"#DejaVuSans-39\" x=\"287.894531\"/>\n    </g>\n   </g>\n  </g>\n  <g id=\"axes_2\">\n   <g clip-path=\"url(#p4158f2e67e)\">\n    <image xlink:href=\"data:image/png;base64,\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\" id=\"image7580826c23\" transform=\"scale(1 -1) translate(0 -115.92)\" x=\"145.737931\" y=\"-35.283776\" width=\"115.92\" height=\"115.92\"/>\n   </g>\n   <g id=\"text_2\">\n    <!-- Label: 9 -->\n    <g transform=\"translate(179.528631 16.318125) scale(0.12 -0.12)\">\n     <use xlink:href=\"#DejaVuSans-4c\"/>\n     <use xlink:href=\"#DejaVuSans-61\" x=\"55.712891\"/>\n     <use xlink:href=\"#DejaVuSans-62\" x=\"116.992188\"/>\n     <use xlink:href=\"#DejaVuSans-65\" x=\"180.46875\"/>\n     <use xlink:href=\"#DejaVuSans-6c\" x=\"241.992188\"/>\n     <use xlink:href=\"#DejaVuSans-3a\" x=\"269.775391\"/>\n     <use xlink:href=\"#DejaVuSans-20\" x=\"303.466797\"/>\n     <use xlink:href=\"#DejaVuSans-39\" x=\"335.253906\"/>\n    </g>\n    <!-- Pred: 9 -->\n    <g transform=\"translate(182.371131 29.7555) scale(0.12 -0.12)\">\n     <use xlink:href=\"#DejaVuSans-50\"/>\n     <use xlink:href=\"#DejaVuSans-72\" x=\"58.552734\"/>\n     <use xlink:href=\"#DejaVuSans-65\" x=\"97.416016\"/>\n     <use xlink:href=\"#DejaVuSans-64\" x=\"158.939453\"/>\n     <use xlink:href=\"#DejaVuSans-3a\" x=\"222.416016\"/>\n     <use xlink:href=\"#DejaVuSans-20\" x=\"256.107422\"/>\n     <use xlink:href=\"#DejaVuSans-39\" x=\"287.894531\"/>\n    </g>\n   </g>\n  </g>\n  <g id=\"axes_3\">\n   <g clip-path=\"url(#pb29d2f5732)\">\n    <image xlink:href=\"data:image/png;base64,\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\" id=\"image1503b29d60\" transform=\"scale(1 -1) translate(0 -115.92)\" x=\"284.275862\" y=\"-35.283776\" width=\"115.92\" height=\"115.92\"/>\n   </g>\n   <g id=\"text_3\">\n    <!-- Label: 9 -->\n    <g transform=\"translate(318.066562 16.318125) scale(0.12 -0.12)\">\n     <use xlink:href=\"#DejaVuSans-4c\"/>\n     <use xlink:href=\"#DejaVuSans-61\" x=\"55.712891\"/>\n     <use xlink:href=\"#DejaVuSans-62\" x=\"116.992188\"/>\n     <use xlink:href=\"#DejaVuSans-65\" x=\"180.46875\"/>\n     <use xlink:href=\"#DejaVuSans-6c\" x=\"241.992188\"/>\n     <use xlink:href=\"#DejaVuSans-3a\" x=\"269.775391\"/>\n     <use xlink:href=\"#DejaVuSans-20\" x=\"303.466797\"/>\n     <use xlink:href=\"#DejaVuSans-39\" x=\"335.253906\"/>\n    </g>\n    <!-- Pred: 9 -->\n    <g transform=\"translate(320.909063 29.7555) scale(0.12 -0.12)\">\n     <use xlink:href=\"#DejaVuSans-50\"/>\n     <use xlink:href=\"#DejaVuSans-72\" x=\"58.552734\"/>\n     <use xlink:href=\"#DejaVuSans-65\" x=\"97.416016\"/>\n     <use xlink:href=\"#DejaVuSans-64\" x=\"158.939453\"/>\n     <use xlink:href=\"#DejaVuSans-3a\" x=\"222.416016\"/>\n     <use xlink:href=\"#DejaVuSans-20\" x=\"256.107422\"/>\n     <use xlink:href=\"#DejaVuSans-39\" x=\"287.894531\"/>\n    </g>\n   </g>\n  </g>\n  <g id=\"axes_4\">\n   <g clip-path=\"url(#p9b388b26b9)\">\n    <image xlink:href=\"data:image/png;base64,\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\" id=\"imaged0df3d7b1f\" transform=\"scale(1 -1) translate(0 -115.92)\" x=\"422.813793\" y=\"-35.283776\" width=\"115.92\" height=\"115.92\"/>\n   </g>\n   <g id=\"text_4\">\n    <!-- Label: 1 -->\n    <g transform=\"translate(456.604494 16.318125) scale(0.12 -0.12)\">\n     <defs>\n      <path id=\"DejaVuSans-31\" d=\"M 794 531 \nL 1825 531 \nL 1825 4091 \nL 703 3866 \nL 703 4441 \nL 1819 4666 \nL 2450 4666 \nL 2450 531 \nL 3481 531 \nL 3481 0 \nL 794 0 \nL 794 531 \nz\n\" transform=\"scale(0.015625)\"/>\n     </defs>\n     <use xlink:href=\"#DejaVuSans-4c\"/>\n     <use xlink:href=\"#DejaVuSans-61\" x=\"55.712891\"/>\n     <use xlink:href=\"#DejaVuSans-62\" x=\"116.992188\"/>\n     <use xlink:href=\"#DejaVuSans-65\" x=\"180.46875\"/>\n     <use xlink:href=\"#DejaVuSans-6c\" x=\"241.992188\"/>\n     <use xlink:href=\"#DejaVuSans-3a\" x=\"269.775391\"/>\n     <use xlink:href=\"#DejaVuSans-20\" x=\"303.466797\"/>\n     <use xlink:href=\"#DejaVuSans-31\" x=\"335.253906\"/>\n    </g>\n    <!-- Pred: 1 -->\n    <g transform=\"translate(459.446994 29.7555) scale(0.12 -0.12)\">\n     <use xlink:href=\"#DejaVuSans-50\"/>\n     <use xlink:href=\"#DejaVuSans-72\" x=\"58.552734\"/>\n     <use xlink:href=\"#DejaVuSans-65\" x=\"97.416016\"/>\n     <use xlink:href=\"#DejaVuSans-64\" x=\"158.939453\"/>\n     <use xlink:href=\"#DejaVuSans-3a\" x=\"222.416016\"/>\n     <use xlink:href=\"#DejaVuSans-20\" x=\"256.107422\"/>\n     <use xlink:href=\"#DejaVuSans-31\" x=\"287.894531\"/>\n    </g>\n   </g>\n  </g>\n  <g id=\"axes_5\">\n   <g clip-path=\"url(#p91d49e92bb)\">\n    <image xlink:href=\"data:image/png;base64,\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\" id=\"imaged507a2a990\" transform=\"scale(1 -1) translate(0 -115.92)\" x=\"561.351724\" y=\"-35.283776\" width=\"115.92\" height=\"115.92\"/>\n   </g>\n   <g id=\"text_5\">\n    <!-- Label: 6 -->\n    <g transform=\"translate(595.142425 16.318125) scale(0.12 -0.12)\">\n     <defs>\n      <path id=\"DejaVuSans-36\" d=\"M 2113 2584 \nQ 1688 2584 1439 2293 \nQ 1191 2003 1191 1497 \nQ 1191 994 1439 701 \nQ 1688 409 2113 409 \nQ 2538 409 2786 701 \nQ 3034 994 3034 1497 \nQ 3034 2003 2786 2293 \nQ 2538 2584 2113 2584 \nz\nM 3366 4563 \nL 3366 3988 \nQ 3128 4100 2886 4159 \nQ 2644 4219 2406 4219 \nQ 1781 4219 1451 3797 \nQ 1122 3375 1075 2522 \nQ 1259 2794 1537 2939 \nQ 1816 3084 2150 3084 \nQ 2853 3084 3261 2657 \nQ 3669 2231 3669 1497 \nQ 3669 778 3244 343 \nQ 2819 -91 2113 -91 \nQ 1303 -91 875 529 \nQ 447 1150 447 2328 \nQ 447 3434 972 4092 \nQ 1497 4750 2381 4750 \nQ 2619 4750 2861 4703 \nQ 3103 4656 3366 4563 \nz\n\" transform=\"scale(0.015625)\"/>\n     </defs>\n     <use xlink:href=\"#DejaVuSans-4c\"/>\n     <use xlink:href=\"#DejaVuSans-61\" x=\"55.712891\"/>\n     <use xlink:href=\"#DejaVuSans-62\" x=\"116.992188\"/>\n     <use xlink:href=\"#DejaVuSans-65\" x=\"180.46875\"/>\n     <use xlink:href=\"#DejaVuSans-6c\" x=\"241.992188\"/>\n     <use xlink:href=\"#DejaVuSans-3a\" x=\"269.775391\"/>\n     <use xlink:href=\"#DejaVuSans-20\" x=\"303.466797\"/>\n     <use xlink:href=\"#DejaVuSans-36\" x=\"335.253906\"/>\n    </g>\n    <!-- Pred: 2 -->\n    <g transform=\"translate(597.984925 29.7555) scale(0.12 -0.12)\">\n     <defs>\n      <path id=\"DejaVuSans-32\" d=\"M 1228 531 \nL 3431 531 \nL 3431 0 \nL 469 0 \nL 469 531 \nQ 828 903 1448 1529 \nQ 2069 2156 2228 2338 \nQ 2531 2678 2651 2914 \nQ 2772 3150 2772 3378 \nQ 2772 3750 2511 3984 \nQ 2250 4219 1831 4219 \nQ 1534 4219 1204 4116 \nQ 875 4013 500 3803 \nL 500 4441 \nQ 881 4594 1212 4672 \nQ 1544 4750 1819 4750 \nQ 2544 4750 2975 4387 \nQ 3406 4025 3406 3419 \nQ 3406 3131 3298 2873 \nQ 3191 2616 2906 2266 \nQ 2828 2175 2409 1742 \nQ 1991 1309 1228 531 \nz\n\" transform=\"scale(0.015625)\"/>\n     </defs>\n     <use xlink:href=\"#DejaVuSans-50\"/>\n     <use xlink:href=\"#DejaVuSans-72\" x=\"58.552734\"/>\n     <use xlink:href=\"#DejaVuSans-65\" x=\"97.416016\"/>\n     <use xlink:href=\"#DejaVuSans-64\" x=\"158.939453\"/>\n     <use xlink:href=\"#DejaVuSans-3a\" x=\"222.416016\"/>\n     <use xlink:href=\"#DejaVuSans-20\" x=\"256.107422\"/>\n     <use xlink:href=\"#DejaVuSans-32\" x=\"287.894531\"/>\n    </g>\n   </g>\n  </g>\n </g>\n <defs>\n  <clipPath id=\"pdf92491e94\">\n   <rect x=\"7.2\" y=\"35.7555\" width=\"115.448276\" height=\"115.448276\"/>\n  </clipPath>\n  <clipPath id=\"p4158f2e67e\">\n   <rect x=\"145.737931\" y=\"35.7555\" width=\"115.448276\" height=\"115.448276\"/>\n  </clipPath>\n  <clipPath id=\"pb29d2f5732\">\n   <rect x=\"284.275862\" y=\"35.7555\" width=\"115.448276\" height=\"115.448276\"/>\n  </clipPath>\n  <clipPath id=\"p9b388b26b9\">\n   <rect x=\"422.813793\" y=\"35.7555\" width=\"115.448276\" height=\"115.448276\"/>\n  </clipPath>\n  <clipPath id=\"p91d49e92bb\">\n   <rect x=\"561.351724\" y=\"35.7555\" width=\"115.448276\" height=\"115.448276\"/>\n  </clipPath>\n </defs>\n</svg>\n"
          },
          "metadata": {}
        }
      ]
    },
    {
      "cell_type": "markdown",
      "source": [
        "# 8.2"
      ],
      "metadata": {
        "id": "Jz23DzLK9l3L"
      }
    },
    {
      "cell_type": "code",
      "source": [
        "import torch\n",
        "from torch import nn\n",
        "from d2l import torch as d2l"
      ],
      "metadata": {
        "id": "99mKmJiJ9nuO"
      },
      "execution_count": null,
      "outputs": []
    },
    {
      "cell_type": "code",
      "source": [
        "def vgg_block(num_convs, out_channels):\n",
        "    layers = []\n",
        "    for _ in range(num_convs):\n",
        "        layers.append(nn.LazyConv2d(out_channels, kernel_size=3, padding=1))\n",
        "        layers.append(nn.ReLU())\n",
        "    layers.append(nn.MaxPool2d(kernel_size=2,stride=2))\n",
        "    return nn.Sequential(*layers)"
      ],
      "metadata": {
        "id": "Hfr077Hr9qOb"
      },
      "execution_count": null,
      "outputs": []
    },
    {
      "cell_type": "code",
      "source": [
        "class VGG(d2l.Classifier):\n",
        "    def __init__(self, arch, lr=0.1, num_classes=10):\n",
        "        super().__init__()\n",
        "        self.save_hyperparameters()\n",
        "        conv_blks = []\n",
        "        for (num_convs, out_channels) in arch:\n",
        "            conv_blks.append(vgg_block(num_convs, out_channels))\n",
        "        self.net = nn.Sequential(\n",
        "            *conv_blks, nn.Flatten(),\n",
        "            nn.LazyLinear(4096), nn.ReLU(), nn.Dropout(0.5),\n",
        "            nn.LazyLinear(4096), nn.ReLU(), nn.Dropout(0.5),\n",
        "            nn.LazyLinear(num_classes))\n",
        "        self.net.apply(d2l.init_cnn)"
      ],
      "metadata": {
        "id": "25DJp7g99rpu"
      },
      "execution_count": null,
      "outputs": []
    },
    {
      "cell_type": "code",
      "source": [
        "VGG(arch=((1, 64), (1, 128), (2, 256), (2, 512), (2, 512))).layer_summary(\n",
        "    (1, 1, 224, 224))"
      ],
      "metadata": {
        "colab": {
          "base_uri": "https://localhost:8080/"
        },
        "id": "bDdJEw2G-ojE",
        "outputId": "6fdc489b-0aad-4c93-a72d-78fd53151312"
      },
      "execution_count": null,
      "outputs": [
        {
          "output_type": "stream",
          "name": "stdout",
          "text": [
            "Sequential output shape:\t torch.Size([1, 64, 112, 112])\n",
            "Sequential output shape:\t torch.Size([1, 128, 56, 56])\n",
            "Sequential output shape:\t torch.Size([1, 256, 28, 28])\n",
            "Sequential output shape:\t torch.Size([1, 512, 14, 14])\n",
            "Sequential output shape:\t torch.Size([1, 512, 7, 7])\n",
            "Flatten output shape:\t torch.Size([1, 25088])\n",
            "Linear output shape:\t torch.Size([1, 4096])\n",
            "ReLU output shape:\t torch.Size([1, 4096])\n",
            "Dropout output shape:\t torch.Size([1, 4096])\n",
            "Linear output shape:\t torch.Size([1, 4096])\n",
            "ReLU output shape:\t torch.Size([1, 4096])\n",
            "Dropout output shape:\t torch.Size([1, 4096])\n",
            "Linear output shape:\t torch.Size([1, 10])\n"
          ]
        }
      ]
    },
    {
      "cell_type": "code",
      "source": [
        "model = VGG(arch=((1, 16), (1, 32), (2, 64), (2, 128), (2, 128)), lr=0.01)\n",
        "trainer = d2l.Trainer(max_epochs=10, num_gpus=1)\n",
        "data = d2l.FashionMNIST(batch_size=128, resize=(224, 224))\n",
        "model.apply_init([next(iter(data.get_dataloader(True)))[0]], d2l.init_cnn)\n",
        "trainer.fit(model, data)"
      ],
      "metadata": {
        "colab": {
          "base_uri": "https://localhost:8080/",
          "height": 265
        },
        "id": "QpDZVtLT-qRs",
        "outputId": "20b9ee3b-341b-4dec-fd76-c592a3e50564"
      },
      "execution_count": null,
      "outputs": [
        {
          "output_type": "display_data",
          "data": {
            "text/plain": [
              "<Figure size 350x250 with 1 Axes>"
            ],
            "image/svg+xml": "<?xml version=\"1.0\" encoding=\"utf-8\" standalone=\"no\"?>\n<!DOCTYPE svg PUBLIC \"-//W3C//DTD SVG 1.1//EN\"\n  \"http://www.w3.org/Graphics/SVG/1.1/DTD/svg11.dtd\">\n<svg xmlns:xlink=\"http://www.w3.org/1999/xlink\" width=\"238.965625pt\" height=\"183.35625pt\" viewBox=\"0 0 238.965625 183.35625\" xmlns=\"http://www.w3.org/2000/svg\" version=\"1.1\">\n <metadata>\n  <rdf:RDF xmlns:dc=\"http://purl.org/dc/elements/1.1/\" xmlns:cc=\"http://creativecommons.org/ns#\" xmlns:rdf=\"http://www.w3.org/1999/02/22-rdf-syntax-ns#\">\n   <cc:Work>\n    <dc:type rdf:resource=\"http://purl.org/dc/dcmitype/StillImage\"/>\n    <dc:date>2024-10-06T18:21:26.807543</dc:date>\n    <dc:format>image/svg+xml</dc:format>\n    <dc:creator>\n     <cc:Agent>\n      <dc:title>Matplotlib v3.7.2, https://matplotlib.org/</dc:title>\n     </cc:Agent>\n    </dc:creator>\n   </cc:Work>\n  </rdf:RDF>\n </metadata>\n <defs>\n  <style type=\"text/css\">*{stroke-linejoin: round; stroke-linecap: butt}</style>\n </defs>\n <g id=\"figure_1\">\n  <g id=\"patch_1\">\n   <path d=\"M 0 183.35625 \nL 238.965625 183.35625 \nL 238.965625 0 \nL 0 0 \nz\n\" style=\"fill: #ffffff\"/>\n  </g>\n  <g id=\"axes_1\">\n   <g id=\"patch_2\">\n    <path d=\"M 30.103125 145.8 \nL 225.403125 145.8 \nL 225.403125 7.2 \nL 30.103125 7.2 \nz\n\" style=\"fill: #ffffff\"/>\n   </g>\n   <g id=\"matplotlib.axis_1\">\n    <g id=\"xtick_1\">\n     <g id=\"line2d_1\">\n      <defs>\n       <path id=\"m3a1c70e9aa\" d=\"M 0 0 \nL 0 3.5 \n\" style=\"stroke: #000000; stroke-width: 0.8\"/>\n      </defs>\n      <g>\n       <use xlink:href=\"#m3a1c70e9aa\" x=\"30.103125\" y=\"145.8\" style=\"stroke: #000000; stroke-width: 0.8\"/>\n      </g>\n     </g>\n     <g id=\"text_1\">\n      <!-- 0 -->\n      <g transform=\"translate(26.921875 160.398438) scale(0.1 -0.1)\">\n       <defs>\n        <path id=\"DejaVuSans-30\" d=\"M 2034 4250 \nQ 1547 4250 1301 3770 \nQ 1056 3291 1056 2328 \nQ 1056 1369 1301 889 \nQ 1547 409 2034 409 \nQ 2525 409 2770 889 \nQ 3016 1369 3016 2328 \nQ 3016 3291 2770 3770 \nQ 2525 4250 2034 4250 \nz\nM 2034 4750 \nQ 2819 4750 3233 4129 \nQ 3647 3509 3647 2328 \nQ 3647 1150 3233 529 \nQ 2819 -91 2034 -91 \nQ 1250 -91 836 529 \nQ 422 1150 422 2328 \nQ 422 3509 836 4129 \nQ 1250 4750 2034 4750 \nz\n\" transform=\"scale(0.015625)\"/>\n       </defs>\n       <use xlink:href=\"#DejaVuSans-30\"/>\n      </g>\n     </g>\n    </g>\n    <g id=\"xtick_2\">\n     <g id=\"line2d_2\">\n      <g>\n       <use xlink:href=\"#m3a1c70e9aa\" x=\"69.163125\" y=\"145.8\" style=\"stroke: #000000; stroke-width: 0.8\"/>\n      </g>\n     </g>\n     <g id=\"text_2\">\n      <!-- 2 -->\n      <g transform=\"translate(65.981875 160.398438) scale(0.1 -0.1)\">\n       <defs>\n        <path id=\"DejaVuSans-32\" d=\"M 1228 531 \nL 3431 531 \nL 3431 0 \nL 469 0 \nL 469 531 \nQ 828 903 1448 1529 \nQ 2069 2156 2228 2338 \nQ 2531 2678 2651 2914 \nQ 2772 3150 2772 3378 \nQ 2772 3750 2511 3984 \nQ 2250 4219 1831 4219 \nQ 1534 4219 1204 4116 \nQ 875 4013 500 3803 \nL 500 4441 \nQ 881 4594 1212 4672 \nQ 1544 4750 1819 4750 \nQ 2544 4750 2975 4387 \nQ 3406 4025 3406 3419 \nQ 3406 3131 3298 2873 \nQ 3191 2616 2906 2266 \nQ 2828 2175 2409 1742 \nQ 1991 1309 1228 531 \nz\n\" transform=\"scale(0.015625)\"/>\n       </defs>\n       <use xlink:href=\"#DejaVuSans-32\"/>\n      </g>\n     </g>\n    </g>\n    <g id=\"xtick_3\">\n     <g id=\"line2d_3\">\n      <g>\n       <use xlink:href=\"#m3a1c70e9aa\" x=\"108.223125\" y=\"145.8\" style=\"stroke: #000000; stroke-width: 0.8\"/>\n      </g>\n     </g>\n     <g id=\"text_3\">\n      <!-- 4 -->\n      <g transform=\"translate(105.041875 160.398438) scale(0.1 -0.1)\">\n       <defs>\n        <path id=\"DejaVuSans-34\" d=\"M 2419 4116 \nL 825 1625 \nL 2419 1625 \nL 2419 4116 \nz\nM 2253 4666 \nL 3047 4666 \nL 3047 1625 \nL 3713 1625 \nL 3713 1100 \nL 3047 1100 \nL 3047 0 \nL 2419 0 \nL 2419 1100 \nL 313 1100 \nL 313 1709 \nL 2253 4666 \nz\n\" transform=\"scale(0.015625)\"/>\n       </defs>\n       <use xlink:href=\"#DejaVuSans-34\"/>\n      </g>\n     </g>\n    </g>\n    <g id=\"xtick_4\">\n     <g id=\"line2d_4\">\n      <g>\n       <use xlink:href=\"#m3a1c70e9aa\" x=\"147.283125\" y=\"145.8\" style=\"stroke: #000000; stroke-width: 0.8\"/>\n      </g>\n     </g>\n     <g id=\"text_4\">\n      <!-- 6 -->\n      <g transform=\"translate(144.101875 160.398438) scale(0.1 -0.1)\">\n       <defs>\n        <path id=\"DejaVuSans-36\" d=\"M 2113 2584 \nQ 1688 2584 1439 2293 \nQ 1191 2003 1191 1497 \nQ 1191 994 1439 701 \nQ 1688 409 2113 409 \nQ 2538 409 2786 701 \nQ 3034 994 3034 1497 \nQ 3034 2003 2786 2293 \nQ 2538 2584 2113 2584 \nz\nM 3366 4563 \nL 3366 3988 \nQ 3128 4100 2886 4159 \nQ 2644 4219 2406 4219 \nQ 1781 4219 1451 3797 \nQ 1122 3375 1075 2522 \nQ 1259 2794 1537 2939 \nQ 1816 3084 2150 3084 \nQ 2853 3084 3261 2657 \nQ 3669 2231 3669 1497 \nQ 3669 778 3244 343 \nQ 2819 -91 2113 -91 \nQ 1303 -91 875 529 \nQ 447 1150 447 2328 \nQ 447 3434 972 4092 \nQ 1497 4750 2381 4750 \nQ 2619 4750 2861 4703 \nQ 3103 4656 3366 4563 \nz\n\" transform=\"scale(0.015625)\"/>\n       </defs>\n       <use xlink:href=\"#DejaVuSans-36\"/>\n      </g>\n     </g>\n    </g>\n    <g id=\"xtick_5\">\n     <g id=\"line2d_5\">\n      <g>\n       <use xlink:href=\"#m3a1c70e9aa\" x=\"186.343125\" y=\"145.8\" style=\"stroke: #000000; stroke-width: 0.8\"/>\n      </g>\n     </g>\n     <g id=\"text_5\">\n      <!-- 8 -->\n      <g transform=\"translate(183.161875 160.398438) scale(0.1 -0.1)\">\n       <defs>\n        <path id=\"DejaVuSans-38\" d=\"M 2034 2216 \nQ 1584 2216 1326 1975 \nQ 1069 1734 1069 1313 \nQ 1069 891 1326 650 \nQ 1584 409 2034 409 \nQ 2484 409 2743 651 \nQ 3003 894 3003 1313 \nQ 3003 1734 2745 1975 \nQ 2488 2216 2034 2216 \nz\nM 1403 2484 \nQ 997 2584 770 2862 \nQ 544 3141 544 3541 \nQ 544 4100 942 4425 \nQ 1341 4750 2034 4750 \nQ 2731 4750 3128 4425 \nQ 3525 4100 3525 3541 \nQ 3525 3141 3298 2862 \nQ 3072 2584 2669 2484 \nQ 3125 2378 3379 2068 \nQ 3634 1759 3634 1313 \nQ 3634 634 3220 271 \nQ 2806 -91 2034 -91 \nQ 1263 -91 848 271 \nQ 434 634 434 1313 \nQ 434 1759 690 2068 \nQ 947 2378 1403 2484 \nz\nM 1172 3481 \nQ 1172 3119 1398 2916 \nQ 1625 2713 2034 2713 \nQ 2441 2713 2670 2916 \nQ 2900 3119 2900 3481 \nQ 2900 3844 2670 4047 \nQ 2441 4250 2034 4250 \nQ 1625 4250 1398 4047 \nQ 1172 3844 1172 3481 \nz\n\" transform=\"scale(0.015625)\"/>\n       </defs>\n       <use xlink:href=\"#DejaVuSans-38\"/>\n      </g>\n     </g>\n    </g>\n    <g id=\"xtick_6\">\n     <g id=\"line2d_6\">\n      <g>\n       <use xlink:href=\"#m3a1c70e9aa\" x=\"225.403125\" y=\"145.8\" style=\"stroke: #000000; stroke-width: 0.8\"/>\n      </g>\n     </g>\n     <g id=\"text_6\">\n      <!-- 10 -->\n      <g transform=\"translate(219.040625 160.398438) scale(0.1 -0.1)\">\n       <defs>\n        <path id=\"DejaVuSans-31\" d=\"M 794 531 \nL 1825 531 \nL 1825 4091 \nL 703 3866 \nL 703 4441 \nL 1819 4666 \nL 2450 4666 \nL 2450 531 \nL 3481 531 \nL 3481 0 \nL 794 0 \nL 794 531 \nz\n\" transform=\"scale(0.015625)\"/>\n       </defs>\n       <use xlink:href=\"#DejaVuSans-31\"/>\n       <use xlink:href=\"#DejaVuSans-30\" x=\"63.623047\"/>\n      </g>\n     </g>\n    </g>\n    <g id=\"text_7\">\n     <!-- epoch -->\n     <g transform=\"translate(112.525 174.076563) scale(0.1 -0.1)\">\n      <defs>\n       <path id=\"DejaVuSans-65\" d=\"M 3597 1894 \nL 3597 1613 \nL 953 1613 \nQ 991 1019 1311 708 \nQ 1631 397 2203 397 \nQ 2534 397 2845 478 \nQ 3156 559 3463 722 \nL 3463 178 \nQ 3153 47 2828 -22 \nQ 2503 -91 2169 -91 \nQ 1331 -91 842 396 \nQ 353 884 353 1716 \nQ 353 2575 817 3079 \nQ 1281 3584 2069 3584 \nQ 2775 3584 3186 3129 \nQ 3597 2675 3597 1894 \nz\nM 3022 2063 \nQ 3016 2534 2758 2815 \nQ 2500 3097 2075 3097 \nQ 1594 3097 1305 2825 \nQ 1016 2553 972 2059 \nL 3022 2063 \nz\n\" transform=\"scale(0.015625)\"/>\n       <path id=\"DejaVuSans-70\" d=\"M 1159 525 \nL 1159 -1331 \nL 581 -1331 \nL 581 3500 \nL 1159 3500 \nL 1159 2969 \nQ 1341 3281 1617 3432 \nQ 1894 3584 2278 3584 \nQ 2916 3584 3314 3078 \nQ 3713 2572 3713 1747 \nQ 3713 922 3314 415 \nQ 2916 -91 2278 -91 \nQ 1894 -91 1617 61 \nQ 1341 213 1159 525 \nz\nM 3116 1747 \nQ 3116 2381 2855 2742 \nQ 2594 3103 2138 3103 \nQ 1681 3103 1420 2742 \nQ 1159 2381 1159 1747 \nQ 1159 1113 1420 752 \nQ 1681 391 2138 391 \nQ 2594 391 2855 752 \nQ 3116 1113 3116 1747 \nz\n\" transform=\"scale(0.015625)\"/>\n       <path id=\"DejaVuSans-6f\" d=\"M 1959 3097 \nQ 1497 3097 1228 2736 \nQ 959 2375 959 1747 \nQ 959 1119 1226 758 \nQ 1494 397 1959 397 \nQ 2419 397 2687 759 \nQ 2956 1122 2956 1747 \nQ 2956 2369 2687 2733 \nQ 2419 3097 1959 3097 \nz\nM 1959 3584 \nQ 2709 3584 3137 3096 \nQ 3566 2609 3566 1747 \nQ 3566 888 3137 398 \nQ 2709 -91 1959 -91 \nQ 1206 -91 779 398 \nQ 353 888 353 1747 \nQ 353 2609 779 3096 \nQ 1206 3584 1959 3584 \nz\n\" transform=\"scale(0.015625)\"/>\n       <path id=\"DejaVuSans-63\" d=\"M 3122 3366 \nL 3122 2828 \nQ 2878 2963 2633 3030 \nQ 2388 3097 2138 3097 \nQ 1578 3097 1268 2742 \nQ 959 2388 959 1747 \nQ 959 1106 1268 751 \nQ 1578 397 2138 397 \nQ 2388 397 2633 464 \nQ 2878 531 3122 666 \nL 3122 134 \nQ 2881 22 2623 -34 \nQ 2366 -91 2075 -91 \nQ 1284 -91 818 406 \nQ 353 903 353 1747 \nQ 353 2603 823 3093 \nQ 1294 3584 2113 3584 \nQ 2378 3584 2631 3529 \nQ 2884 3475 3122 3366 \nz\n\" transform=\"scale(0.015625)\"/>\n       <path id=\"DejaVuSans-68\" d=\"M 3513 2113 \nL 3513 0 \nL 2938 0 \nL 2938 2094 \nQ 2938 2591 2744 2837 \nQ 2550 3084 2163 3084 \nQ 1697 3084 1428 2787 \nQ 1159 2491 1159 1978 \nL 1159 0 \nL 581 0 \nL 581 4863 \nL 1159 4863 \nL 1159 2956 \nQ 1366 3272 1645 3428 \nQ 1925 3584 2291 3584 \nQ 2894 3584 3203 3211 \nQ 3513 2838 3513 2113 \nz\n\" transform=\"scale(0.015625)\"/>\n      </defs>\n      <use xlink:href=\"#DejaVuSans-65\"/>\n      <use xlink:href=\"#DejaVuSans-70\" x=\"61.523438\"/>\n      <use xlink:href=\"#DejaVuSans-6f\" x=\"125\"/>\n      <use xlink:href=\"#DejaVuSans-63\" x=\"186.181641\"/>\n      <use xlink:href=\"#DejaVuSans-68\" x=\"241.162109\"/>\n     </g>\n    </g>\n   </g>\n   <g id=\"matplotlib.axis_2\">\n    <g id=\"ytick_1\">\n     <g id=\"line2d_7\">\n      <defs>\n       <path id=\"m20de5d133a\" d=\"M 0 0 \nL -3.5 0 \n\" style=\"stroke: #000000; stroke-width: 0.8\"/>\n      </defs>\n      <g>\n       <use xlink:href=\"#m20de5d133a\" x=\"30.103125\" y=\"126.736529\" style=\"stroke: #000000; stroke-width: 0.8\"/>\n      </g>\n     </g>\n     <g id=\"text_8\">\n      <!-- 0.5 -->\n      <g transform=\"translate(7.2 130.535748) scale(0.1 -0.1)\">\n       <defs>\n        <path id=\"DejaVuSans-2e\" d=\"M 684 794 \nL 1344 794 \nL 1344 0 \nL 684 0 \nL 684 794 \nz\n\" transform=\"scale(0.015625)\"/>\n        <path id=\"DejaVuSans-35\" d=\"M 691 4666 \nL 3169 4666 \nL 3169 4134 \nL 1269 4134 \nL 1269 2991 \nQ 1406 3038 1543 3061 \nQ 1681 3084 1819 3084 \nQ 2600 3084 3056 2656 \nQ 3513 2228 3513 1497 \nQ 3513 744 3044 326 \nQ 2575 -91 1722 -91 \nQ 1428 -91 1123 -41 \nQ 819 9 494 109 \nL 494 744 \nQ 775 591 1075 516 \nQ 1375 441 1709 441 \nQ 2250 441 2565 725 \nQ 2881 1009 2881 1497 \nQ 2881 1984 2565 2268 \nQ 2250 2553 1709 2553 \nQ 1456 2553 1204 2497 \nQ 953 2441 691 2322 \nL 691 4666 \nz\n\" transform=\"scale(0.015625)\"/>\n       </defs>\n       <use xlink:href=\"#DejaVuSans-30\"/>\n       <use xlink:href=\"#DejaVuSans-2e\" x=\"63.623047\"/>\n       <use xlink:href=\"#DejaVuSans-35\" x=\"95.410156\"/>\n      </g>\n     </g>\n    </g>\n    <g id=\"ytick_2\">\n     <g id=\"line2d_8\">\n      <g>\n       <use xlink:href=\"#m20de5d133a\" x=\"30.103125\" y=\"95.277467\" style=\"stroke: #000000; stroke-width: 0.8\"/>\n      </g>\n     </g>\n     <g id=\"text_9\">\n      <!-- 1.0 -->\n      <g transform=\"translate(7.2 99.076686) scale(0.1 -0.1)\">\n       <use xlink:href=\"#DejaVuSans-31\"/>\n       <use xlink:href=\"#DejaVuSans-2e\" x=\"63.623047\"/>\n       <use xlink:href=\"#DejaVuSans-30\" x=\"95.410156\"/>\n      </g>\n     </g>\n    </g>\n    <g id=\"ytick_3\">\n     <g id=\"line2d_9\">\n      <g>\n       <use xlink:href=\"#m20de5d133a\" x=\"30.103125\" y=\"63.818405\" style=\"stroke: #000000; stroke-width: 0.8\"/>\n      </g>\n     </g>\n     <g id=\"text_10\">\n      <!-- 1.5 -->\n      <g transform=\"translate(7.2 67.617624) scale(0.1 -0.1)\">\n       <use xlink:href=\"#DejaVuSans-31\"/>\n       <use xlink:href=\"#DejaVuSans-2e\" x=\"63.623047\"/>\n       <use xlink:href=\"#DejaVuSans-35\" x=\"95.410156\"/>\n      </g>\n     </g>\n    </g>\n    <g id=\"ytick_4\">\n     <g id=\"line2d_10\">\n      <g>\n       <use xlink:href=\"#m20de5d133a\" x=\"30.103125\" y=\"32.359343\" style=\"stroke: #000000; stroke-width: 0.8\"/>\n      </g>\n     </g>\n     <g id=\"text_11\">\n      <!-- 2.0 -->\n      <g transform=\"translate(7.2 36.158562) scale(0.1 -0.1)\">\n       <use xlink:href=\"#DejaVuSans-32\"/>\n       <use xlink:href=\"#DejaVuSans-2e\" x=\"63.623047\"/>\n       <use xlink:href=\"#DejaVuSans-30\" x=\"95.410156\"/>\n      </g>\n     </g>\n    </g>\n   </g>\n   <g id=\"line2d_11\">\n    <path d=\"M 34.954394 13.5 \n\" clip-path=\"url(#pa182846e7c)\" style=\"fill: none; stroke: #1f77b4; stroke-width: 1.5; stroke-linecap: square\"/>\n   </g>\n   <g id=\"line2d_12\">\n    <path d=\"M 34.954394 13.5 \nL 44.698573 20.845057 \n\" clip-path=\"url(#pa182846e7c)\" style=\"fill: none; stroke: #1f77b4; stroke-width: 1.5; stroke-linecap: square\"/>\n   </g>\n   <g id=\"line2d_13\">\n    <path d=\"M 34.954394 13.5 \nL 44.698573 20.845057 \n\" clip-path=\"url(#pa182846e7c)\" style=\"fill: none; stroke: #1f77b4; stroke-width: 1.5; stroke-linecap: square\"/>\n   </g>\n   <g id=\"line2d_14\">\n    <path d=\"M 49.633125 84.149366 \n\" clip-path=\"url(#pa182846e7c)\" style=\"fill: none; stroke-dasharray: 5.55,2.4; stroke-dashoffset: 0; stroke: #ff7f0e; stroke-width: 1.5\"/>\n   </g>\n   <g id=\"line2d_15\"/>\n   <g id=\"line2d_16\">\n    <path d=\"M 34.954394 13.5 \nL 44.698573 20.845057 \n\" clip-path=\"url(#pa182846e7c)\" style=\"fill: none; stroke: #1f77b4; stroke-width: 1.5; stroke-linecap: square\"/>\n   </g>\n   <g id=\"line2d_17\">\n    <path d=\"M 49.633125 84.149366 \n\" clip-path=\"url(#pa182846e7c)\" style=\"fill: none; stroke-dasharray: 5.55,2.4; stroke-dashoffset: 0; stroke: #ff7f0e; stroke-width: 1.5\"/>\n   </g>\n   <g id=\"line2d_18\">\n    <path d=\"M 49.633125 124.253901 \n\" clip-path=\"url(#pa182846e7c)\" style=\"fill: none; stroke-dasharray: 9.6,2.4,1.5,2.4; stroke-dashoffset: 0; stroke: #2ca02c; stroke-width: 1.5\"/>\n   </g>\n   <g id=\"line2d_19\">\n    <path d=\"M 34.954394 13.5 \nL 44.698573 20.845057 \nL 54.442752 100.291648 \n\" clip-path=\"url(#pa182846e7c)\" style=\"fill: none; stroke: #1f77b4; stroke-width: 1.5; stroke-linecap: square\"/>\n   </g>\n   <g id=\"line2d_20\">\n    <path d=\"M 49.633125 84.149366 \n\" clip-path=\"url(#pa182846e7c)\" style=\"fill: none; stroke-dasharray: 5.55,2.4; stroke-dashoffset: 0; stroke: #ff7f0e; stroke-width: 1.5\"/>\n   </g>\n   <g id=\"line2d_21\">\n    <path d=\"M 49.633125 124.253901 \n\" clip-path=\"url(#pa182846e7c)\" style=\"fill: none; stroke-dasharray: 9.6,2.4,1.5,2.4; stroke-dashoffset: 0; stroke: #2ca02c; stroke-width: 1.5\"/>\n   </g>\n   <g id=\"line2d_22\">\n    <path d=\"M 34.954394 13.5 \nL 44.698573 20.845057 \nL 54.442752 100.291648 \nL 64.186931 116.023761 \n\" clip-path=\"url(#pa182846e7c)\" style=\"fill: none; stroke: #1f77b4; stroke-width: 1.5; stroke-linecap: square\"/>\n   </g>\n   <g id=\"line2d_23\">\n    <path d=\"M 49.633125 84.149366 \n\" clip-path=\"url(#pa182846e7c)\" style=\"fill: none; stroke-dasharray: 5.55,2.4; stroke-dashoffset: 0; stroke: #ff7f0e; stroke-width: 1.5\"/>\n   </g>\n   <g id=\"line2d_24\">\n    <path d=\"M 49.633125 124.253901 \n\" clip-path=\"url(#pa182846e7c)\" style=\"fill: none; stroke-dasharray: 9.6,2.4,1.5,2.4; stroke-dashoffset: 0; stroke: #2ca02c; stroke-width: 1.5\"/>\n   </g>\n   <g id=\"line2d_25\">\n    <path d=\"M 34.954394 13.5 \nL 44.698573 20.845057 \nL 54.442752 100.291648 \nL 64.186931 116.023761 \n\" clip-path=\"url(#pa182846e7c)\" style=\"fill: none; stroke: #1f77b4; stroke-width: 1.5; stroke-linecap: square\"/>\n   </g>\n   <g id=\"line2d_26\">\n    <path d=\"M 49.633125 84.149366 \nL 69.163125 121.628741 \n\" clip-path=\"url(#pa182846e7c)\" style=\"fill: none; stroke-dasharray: 5.55,2.4; stroke-dashoffset: 0; stroke: #ff7f0e; stroke-width: 1.5\"/>\n   </g>\n   <g id=\"line2d_27\">\n    <path d=\"M 49.633125 124.253901 \n\" clip-path=\"url(#pa182846e7c)\" style=\"fill: none; stroke-dasharray: 9.6,2.4,1.5,2.4; stroke-dashoffset: 0; stroke: #2ca02c; stroke-width: 1.5\"/>\n   </g>\n   <g id=\"line2d_28\">\n    <path d=\"M 34.954394 13.5 \nL 44.698573 20.845057 \nL 54.442752 100.291648 \nL 64.186931 116.023761 \n\" clip-path=\"url(#pa182846e7c)\" style=\"fill: none; stroke: #1f77b4; stroke-width: 1.5; stroke-linecap: square\"/>\n   </g>\n   <g id=\"line2d_29\">\n    <path d=\"M 49.633125 84.149366 \nL 69.163125 121.628741 \n\" clip-path=\"url(#pa182846e7c)\" style=\"fill: none; stroke-dasharray: 5.55,2.4; stroke-dashoffset: 0; stroke: #ff7f0e; stroke-width: 1.5\"/>\n   </g>\n   <g id=\"line2d_30\">\n    <path d=\"M 49.633125 124.253901 \nL 69.163125 108.891476 \n\" clip-path=\"url(#pa182846e7c)\" style=\"fill: none; stroke-dasharray: 9.6,2.4,1.5,2.4; stroke-dashoffset: 0; stroke: #2ca02c; stroke-width: 1.5\"/>\n   </g>\n   <g id=\"line2d_31\">\n    <path d=\"M 34.954394 13.5 \nL 44.698573 20.845057 \nL 54.442752 100.291648 \nL 64.186931 116.023761 \nL 73.93111 122.187899 \n\" clip-path=\"url(#pa182846e7c)\" style=\"fill: none; stroke: #1f77b4; stroke-width: 1.5; stroke-linecap: square\"/>\n   </g>\n   <g id=\"line2d_32\">\n    <path d=\"M 49.633125 84.149366 \nL 69.163125 121.628741 \n\" clip-path=\"url(#pa182846e7c)\" style=\"fill: none; stroke-dasharray: 5.55,2.4; stroke-dashoffset: 0; stroke: #ff7f0e; stroke-width: 1.5\"/>\n   </g>\n   <g id=\"line2d_33\">\n    <path d=\"M 49.633125 124.253901 \nL 69.163125 108.891476 \n\" clip-path=\"url(#pa182846e7c)\" style=\"fill: none; stroke-dasharray: 9.6,2.4,1.5,2.4; stroke-dashoffset: 0; stroke: #2ca02c; stroke-width: 1.5\"/>\n   </g>\n   <g id=\"line2d_34\">\n    <path d=\"M 34.954394 13.5 \nL 44.698573 20.845057 \nL 54.442752 100.291648 \nL 64.186931 116.023761 \nL 73.93111 122.187899 \nL 83.675289 125.949139 \n\" clip-path=\"url(#pa182846e7c)\" style=\"fill: none; stroke: #1f77b4; stroke-width: 1.5; stroke-linecap: square\"/>\n   </g>\n   <g id=\"line2d_35\">\n    <path d=\"M 49.633125 84.149366 \nL 69.163125 121.628741 \n\" clip-path=\"url(#pa182846e7c)\" style=\"fill: none; stroke-dasharray: 5.55,2.4; stroke-dashoffset: 0; stroke: #ff7f0e; stroke-width: 1.5\"/>\n   </g>\n   <g id=\"line2d_36\">\n    <path d=\"M 49.633125 124.253901 \nL 69.163125 108.891476 \n\" clip-path=\"url(#pa182846e7c)\" style=\"fill: none; stroke-dasharray: 9.6,2.4,1.5,2.4; stroke-dashoffset: 0; stroke: #2ca02c; stroke-width: 1.5\"/>\n   </g>\n   <g id=\"line2d_37\">\n    <path d=\"M 34.954394 13.5 \nL 44.698573 20.845057 \nL 54.442752 100.291648 \nL 64.186931 116.023761 \nL 73.93111 122.187899 \nL 83.675289 125.949139 \n\" clip-path=\"url(#pa182846e7c)\" style=\"fill: none; stroke: #1f77b4; stroke-width: 1.5; stroke-linecap: square\"/>\n   </g>\n   <g id=\"line2d_38\">\n    <path d=\"M 49.633125 84.149366 \nL 69.163125 121.628741 \nL 88.693125 128.585834 \n\" clip-path=\"url(#pa182846e7c)\" style=\"fill: none; stroke-dasharray: 5.55,2.4; stroke-dashoffset: 0; stroke: #ff7f0e; stroke-width: 1.5\"/>\n   </g>\n   <g id=\"line2d_39\">\n    <path d=\"M 49.633125 124.253901 \nL 69.163125 108.891476 \n\" clip-path=\"url(#pa182846e7c)\" style=\"fill: none; stroke-dasharray: 9.6,2.4,1.5,2.4; stroke-dashoffset: 0; stroke: #2ca02c; stroke-width: 1.5\"/>\n   </g>\n   <g id=\"line2d_40\">\n    <path d=\"M 34.954394 13.5 \nL 44.698573 20.845057 \nL 54.442752 100.291648 \nL 64.186931 116.023761 \nL 73.93111 122.187899 \nL 83.675289 125.949139 \n\" clip-path=\"url(#pa182846e7c)\" style=\"fill: none; stroke: #1f77b4; stroke-width: 1.5; stroke-linecap: square\"/>\n   </g>\n   <g id=\"line2d_41\">\n    <path d=\"M 49.633125 84.149366 \nL 69.163125 121.628741 \nL 88.693125 128.585834 \n\" clip-path=\"url(#pa182846e7c)\" style=\"fill: none; stroke-dasharray: 5.55,2.4; stroke-dashoffset: 0; stroke: #ff7f0e; stroke-width: 1.5\"/>\n   </g>\n   <g id=\"line2d_42\">\n    <path d=\"M 49.633125 124.253901 \nL 69.163125 108.891476 \nL 88.693125 106.439959 \n\" clip-path=\"url(#pa182846e7c)\" style=\"fill: none; stroke-dasharray: 9.6,2.4,1.5,2.4; stroke-dashoffset: 0; stroke: #2ca02c; stroke-width: 1.5\"/>\n   </g>\n   <g id=\"line2d_43\">\n    <path d=\"M 34.954394 13.5 \nL 44.698573 20.845057 \nL 54.442752 100.291648 \nL 64.186931 116.023761 \nL 73.93111 122.187899 \nL 83.675289 125.949139 \nL 93.419468 128.228336 \n\" clip-path=\"url(#pa182846e7c)\" style=\"fill: none; stroke: #1f77b4; stroke-width: 1.5; stroke-linecap: square\"/>\n   </g>\n   <g id=\"line2d_44\">\n    <path d=\"M 49.633125 84.149366 \nL 69.163125 121.628741 \nL 88.693125 128.585834 \n\" clip-path=\"url(#pa182846e7c)\" style=\"fill: none; stroke-dasharray: 5.55,2.4; stroke-dashoffset: 0; stroke: #ff7f0e; stroke-width: 1.5\"/>\n   </g>\n   <g id=\"line2d_45\">\n    <path d=\"M 49.633125 124.253901 \nL 69.163125 108.891476 \nL 88.693125 106.439959 \n\" clip-path=\"url(#pa182846e7c)\" style=\"fill: none; stroke-dasharray: 9.6,2.4,1.5,2.4; stroke-dashoffset: 0; stroke: #2ca02c; stroke-width: 1.5\"/>\n   </g>\n   <g id=\"line2d_46\">\n    <path d=\"M 34.954394 13.5 \nL 44.698573 20.845057 \nL 54.442752 100.291648 \nL 64.186931 116.023761 \nL 73.93111 122.187899 \nL 83.675289 125.949139 \nL 93.419468 128.228336 \nL 103.163647 130.697298 \n\" clip-path=\"url(#pa182846e7c)\" style=\"fill: none; stroke: #1f77b4; stroke-width: 1.5; stroke-linecap: square\"/>\n   </g>\n   <g id=\"line2d_47\">\n    <path d=\"M 49.633125 84.149366 \nL 69.163125 121.628741 \nL 88.693125 128.585834 \n\" clip-path=\"url(#pa182846e7c)\" style=\"fill: none; stroke-dasharray: 5.55,2.4; stroke-dashoffset: 0; stroke: #ff7f0e; stroke-width: 1.5\"/>\n   </g>\n   <g id=\"line2d_48\">\n    <path d=\"M 49.633125 124.253901 \nL 69.163125 108.891476 \nL 88.693125 106.439959 \n\" clip-path=\"url(#pa182846e7c)\" style=\"fill: none; stroke-dasharray: 9.6,2.4,1.5,2.4; stroke-dashoffset: 0; stroke: #2ca02c; stroke-width: 1.5\"/>\n   </g>\n   <g id=\"line2d_49\">\n    <path d=\"M 34.954394 13.5 \nL 44.698573 20.845057 \nL 54.442752 100.291648 \nL 64.186931 116.023761 \nL 73.93111 122.187899 \nL 83.675289 125.949139 \nL 93.419468 128.228336 \nL 103.163647 130.697298 \n\" clip-path=\"url(#pa182846e7c)\" style=\"fill: none; stroke: #1f77b4; stroke-width: 1.5; stroke-linecap: square\"/>\n   </g>\n   <g id=\"line2d_50\">\n    <path d=\"M 49.633125 84.149366 \nL 69.163125 121.628741 \nL 88.693125 128.585834 \nL 108.223125 131.287905 \n\" clip-path=\"url(#pa182846e7c)\" style=\"fill: none; stroke-dasharray: 5.55,2.4; stroke-dashoffset: 0; stroke: #ff7f0e; stroke-width: 1.5\"/>\n   </g>\n   <g id=\"line2d_51\">\n    <path d=\"M 49.633125 124.253901 \nL 69.163125 108.891476 \nL 88.693125 106.439959 \n\" clip-path=\"url(#pa182846e7c)\" style=\"fill: none; stroke-dasharray: 9.6,2.4,1.5,2.4; stroke-dashoffset: 0; stroke: #2ca02c; stroke-width: 1.5\"/>\n   </g>\n   <g id=\"line2d_52\">\n    <path d=\"M 34.954394 13.5 \nL 44.698573 20.845057 \nL 54.442752 100.291648 \nL 64.186931 116.023761 \nL 73.93111 122.187899 \nL 83.675289 125.949139 \nL 93.419468 128.228336 \nL 103.163647 130.697298 \n\" clip-path=\"url(#pa182846e7c)\" style=\"fill: none; stroke: #1f77b4; stroke-width: 1.5; stroke-linecap: square\"/>\n   </g>\n   <g id=\"line2d_53\">\n    <path d=\"M 49.633125 84.149366 \nL 69.163125 121.628741 \nL 88.693125 128.585834 \nL 108.223125 131.287905 \n\" clip-path=\"url(#pa182846e7c)\" style=\"fill: none; stroke-dasharray: 5.55,2.4; stroke-dashoffset: 0; stroke: #ff7f0e; stroke-width: 1.5\"/>\n   </g>\n   <g id=\"line2d_54\">\n    <path d=\"M 49.633125 124.253901 \nL 69.163125 108.891476 \nL 88.693125 106.439959 \nL 108.223125 105.207978 \n\" clip-path=\"url(#pa182846e7c)\" style=\"fill: none; stroke-dasharray: 9.6,2.4,1.5,2.4; stroke-dashoffset: 0; stroke: #2ca02c; stroke-width: 1.5\"/>\n   </g>\n   <g id=\"line2d_55\">\n    <path d=\"M 34.954394 13.5 \nL 44.698573 20.845057 \nL 54.442752 100.291648 \nL 64.186931 116.023761 \nL 73.93111 122.187899 \nL 83.675289 125.949139 \nL 93.419468 128.228336 \nL 103.163647 130.697298 \nL 112.907826 132.024368 \n\" clip-path=\"url(#pa182846e7c)\" style=\"fill: none; stroke: #1f77b4; stroke-width: 1.5; stroke-linecap: square\"/>\n   </g>\n   <g id=\"line2d_56\">\n    <path d=\"M 49.633125 84.149366 \nL 69.163125 121.628741 \nL 88.693125 128.585834 \nL 108.223125 131.287905 \n\" clip-path=\"url(#pa182846e7c)\" style=\"fill: none; stroke-dasharray: 5.55,2.4; stroke-dashoffset: 0; stroke: #ff7f0e; stroke-width: 1.5\"/>\n   </g>\n   <g id=\"line2d_57\">\n    <path d=\"M 49.633125 124.253901 \nL 69.163125 108.891476 \nL 88.693125 106.439959 \nL 108.223125 105.207978 \n\" clip-path=\"url(#pa182846e7c)\" style=\"fill: none; stroke-dasharray: 9.6,2.4,1.5,2.4; stroke-dashoffset: 0; stroke: #2ca02c; stroke-width: 1.5\"/>\n   </g>\n   <g id=\"line2d_58\">\n    <path d=\"M 34.954394 13.5 \nL 44.698573 20.845057 \nL 54.442752 100.291648 \nL 64.186931 116.023761 \nL 73.93111 122.187899 \nL 83.675289 125.949139 \nL 93.419468 128.228336 \nL 103.163647 130.697298 \nL 112.907826 132.024368 \nL 122.652006 132.857191 \n\" clip-path=\"url(#pa182846e7c)\" style=\"fill: none; stroke: #1f77b4; stroke-width: 1.5; stroke-linecap: square\"/>\n   </g>\n   <g id=\"line2d_59\">\n    <path d=\"M 49.633125 84.149366 \nL 69.163125 121.628741 \nL 88.693125 128.585834 \nL 108.223125 131.287905 \n\" clip-path=\"url(#pa182846e7c)\" style=\"fill: none; stroke-dasharray: 5.55,2.4; stroke-dashoffset: 0; stroke: #ff7f0e; stroke-width: 1.5\"/>\n   </g>\n   <g id=\"line2d_60\">\n    <path d=\"M 49.633125 124.253901 \nL 69.163125 108.891476 \nL 88.693125 106.439959 \nL 108.223125 105.207978 \n\" clip-path=\"url(#pa182846e7c)\" style=\"fill: none; stroke-dasharray: 9.6,2.4,1.5,2.4; stroke-dashoffset: 0; stroke: #2ca02c; stroke-width: 1.5\"/>\n   </g>\n   <g id=\"line2d_61\">\n    <path d=\"M 34.954394 13.5 \nL 44.698573 20.845057 \nL 54.442752 100.291648 \nL 64.186931 116.023761 \nL 73.93111 122.187899 \nL 83.675289 125.949139 \nL 93.419468 128.228336 \nL 103.163647 130.697298 \nL 112.907826 132.024368 \nL 122.652006 132.857191 \n\" clip-path=\"url(#pa182846e7c)\" style=\"fill: none; stroke: #1f77b4; stroke-width: 1.5; stroke-linecap: square\"/>\n   </g>\n   <g id=\"line2d_62\">\n    <path d=\"M 49.633125 84.149366 \nL 69.163125 121.628741 \nL 88.693125 128.585834 \nL 108.223125 131.287905 \nL 127.753125 133.668056 \n\" clip-path=\"url(#pa182846e7c)\" style=\"fill: none; stroke-dasharray: 5.55,2.4; stroke-dashoffset: 0; stroke: #ff7f0e; stroke-width: 1.5\"/>\n   </g>\n   <g id=\"line2d_63\">\n    <path d=\"M 49.633125 124.253901 \nL 69.163125 108.891476 \nL 88.693125 106.439959 \nL 108.223125 105.207978 \n\" clip-path=\"url(#pa182846e7c)\" style=\"fill: none; stroke-dasharray: 9.6,2.4,1.5,2.4; stroke-dashoffset: 0; stroke: #2ca02c; stroke-width: 1.5\"/>\n   </g>\n   <g id=\"line2d_64\">\n    <path d=\"M 34.954394 13.5 \nL 44.698573 20.845057 \nL 54.442752 100.291648 \nL 64.186931 116.023761 \nL 73.93111 122.187899 \nL 83.675289 125.949139 \nL 93.419468 128.228336 \nL 103.163647 130.697298 \nL 112.907826 132.024368 \nL 122.652006 132.857191 \n\" clip-path=\"url(#pa182846e7c)\" style=\"fill: none; stroke: #1f77b4; stroke-width: 1.5; stroke-linecap: square\"/>\n   </g>\n   <g id=\"line2d_65\">\n    <path d=\"M 49.633125 84.149366 \nL 69.163125 121.628741 \nL 88.693125 128.585834 \nL 108.223125 131.287905 \nL 127.753125 133.668056 \n\" clip-path=\"url(#pa182846e7c)\" style=\"fill: none; stroke-dasharray: 5.55,2.4; stroke-dashoffset: 0; stroke: #ff7f0e; stroke-width: 1.5\"/>\n   </g>\n   <g id=\"line2d_66\">\n    <path d=\"M 49.633125 124.253901 \nL 69.163125 108.891476 \nL 88.693125 106.439959 \nL 108.223125 105.207978 \nL 127.753125 104.417768 \n\" clip-path=\"url(#pa182846e7c)\" style=\"fill: none; stroke-dasharray: 9.6,2.4,1.5,2.4; stroke-dashoffset: 0; stroke: #2ca02c; stroke-width: 1.5\"/>\n   </g>\n   <g id=\"line2d_67\">\n    <path d=\"M 34.954394 13.5 \nL 44.698573 20.845057 \nL 54.442752 100.291648 \nL 64.186931 116.023761 \nL 73.93111 122.187899 \nL 83.675289 125.949139 \nL 93.419468 128.228336 \nL 103.163647 130.697298 \nL 112.907826 132.024368 \nL 122.652006 132.857191 \nL 132.396185 134.206753 \n\" clip-path=\"url(#pa182846e7c)\" style=\"fill: none; stroke: #1f77b4; stroke-width: 1.5; stroke-linecap: square\"/>\n   </g>\n   <g id=\"line2d_68\">\n    <path d=\"M 49.633125 84.149366 \nL 69.163125 121.628741 \nL 88.693125 128.585834 \nL 108.223125 131.287905 \nL 127.753125 133.668056 \n\" clip-path=\"url(#pa182846e7c)\" style=\"fill: none; stroke-dasharray: 5.55,2.4; stroke-dashoffset: 0; stroke: #ff7f0e; stroke-width: 1.5\"/>\n   </g>\n   <g id=\"line2d_69\">\n    <path d=\"M 49.633125 124.253901 \nL 69.163125 108.891476 \nL 88.693125 106.439959 \nL 108.223125 105.207978 \nL 127.753125 104.417768 \n\" clip-path=\"url(#pa182846e7c)\" style=\"fill: none; stroke-dasharray: 9.6,2.4,1.5,2.4; stroke-dashoffset: 0; stroke: #2ca02c; stroke-width: 1.5\"/>\n   </g>\n   <g id=\"line2d_70\">\n    <path d=\"M 34.954394 13.5 \nL 44.698573 20.845057 \nL 54.442752 100.291648 \nL 64.186931 116.023761 \nL 73.93111 122.187899 \nL 83.675289 125.949139 \nL 93.419468 128.228336 \nL 103.163647 130.697298 \nL 112.907826 132.024368 \nL 122.652006 132.857191 \nL 132.396185 134.206753 \nL 142.140364 134.595912 \n\" clip-path=\"url(#pa182846e7c)\" style=\"fill: none; stroke: #1f77b4; stroke-width: 1.5; stroke-linecap: square\"/>\n   </g>\n   <g id=\"line2d_71\">\n    <path d=\"M 49.633125 84.149366 \nL 69.163125 121.628741 \nL 88.693125 128.585834 \nL 108.223125 131.287905 \nL 127.753125 133.668056 \n\" clip-path=\"url(#pa182846e7c)\" style=\"fill: none; stroke-dasharray: 5.55,2.4; stroke-dashoffset: 0; stroke: #ff7f0e; stroke-width: 1.5\"/>\n   </g>\n   <g id=\"line2d_72\">\n    <path d=\"M 49.633125 124.253901 \nL 69.163125 108.891476 \nL 88.693125 106.439959 \nL 108.223125 105.207978 \nL 127.753125 104.417768 \n\" clip-path=\"url(#pa182846e7c)\" style=\"fill: none; stroke-dasharray: 9.6,2.4,1.5,2.4; stroke-dashoffset: 0; stroke: #2ca02c; stroke-width: 1.5\"/>\n   </g>\n   <g id=\"line2d_73\">\n    <path d=\"M 34.954394 13.5 \nL 44.698573 20.845057 \nL 54.442752 100.291648 \nL 64.186931 116.023761 \nL 73.93111 122.187899 \nL 83.675289 125.949139 \nL 93.419468 128.228336 \nL 103.163647 130.697298 \nL 112.907826 132.024368 \nL 122.652006 132.857191 \nL 132.396185 134.206753 \nL 142.140364 134.595912 \n\" clip-path=\"url(#pa182846e7c)\" style=\"fill: none; stroke: #1f77b4; stroke-width: 1.5; stroke-linecap: square\"/>\n   </g>\n   <g id=\"line2d_74\">\n    <path d=\"M 49.633125 84.149366 \nL 69.163125 121.628741 \nL 88.693125 128.585834 \nL 108.223125 131.287905 \nL 127.753125 133.668056 \nL 147.283125 135.563824 \n\" clip-path=\"url(#pa182846e7c)\" style=\"fill: none; stroke-dasharray: 5.55,2.4; stroke-dashoffset: 0; stroke: #ff7f0e; stroke-width: 1.5\"/>\n   </g>\n   <g id=\"line2d_75\">\n    <path d=\"M 49.633125 124.253901 \nL 69.163125 108.891476 \nL 88.693125 106.439959 \nL 108.223125 105.207978 \nL 127.753125 104.417768 \n\" clip-path=\"url(#pa182846e7c)\" style=\"fill: none; stroke-dasharray: 9.6,2.4,1.5,2.4; stroke-dashoffset: 0; stroke: #2ca02c; stroke-width: 1.5\"/>\n   </g>\n   <g id=\"line2d_76\">\n    <path d=\"M 34.954394 13.5 \nL 44.698573 20.845057 \nL 54.442752 100.291648 \nL 64.186931 116.023761 \nL 73.93111 122.187899 \nL 83.675289 125.949139 \nL 93.419468 128.228336 \nL 103.163647 130.697298 \nL 112.907826 132.024368 \nL 122.652006 132.857191 \nL 132.396185 134.206753 \nL 142.140364 134.595912 \n\" clip-path=\"url(#pa182846e7c)\" style=\"fill: none; stroke: #1f77b4; stroke-width: 1.5; stroke-linecap: square\"/>\n   </g>\n   <g id=\"line2d_77\">\n    <path d=\"M 49.633125 84.149366 \nL 69.163125 121.628741 \nL 88.693125 128.585834 \nL 108.223125 131.287905 \nL 127.753125 133.668056 \nL 147.283125 135.563824 \n\" clip-path=\"url(#pa182846e7c)\" style=\"fill: none; stroke-dasharray: 5.55,2.4; stroke-dashoffset: 0; stroke: #ff7f0e; stroke-width: 1.5\"/>\n   </g>\n   <g id=\"line2d_78\">\n    <path d=\"M 49.633125 124.253901 \nL 69.163125 108.891476 \nL 88.693125 106.439959 \nL 108.223125 105.207978 \nL 127.753125 104.417768 \nL 147.283125 103.596448 \n\" clip-path=\"url(#pa182846e7c)\" style=\"fill: none; stroke-dasharray: 9.6,2.4,1.5,2.4; stroke-dashoffset: 0; stroke: #2ca02c; stroke-width: 1.5\"/>\n   </g>\n   <g id=\"line2d_79\">\n    <path d=\"M 34.954394 13.5 \nL 44.698573 20.845057 \nL 54.442752 100.291648 \nL 64.186931 116.023761 \nL 73.93111 122.187899 \nL 83.675289 125.949139 \nL 93.419468 128.228336 \nL 103.163647 130.697298 \nL 112.907826 132.024368 \nL 122.652006 132.857191 \nL 132.396185 134.206753 \nL 142.140364 134.595912 \nL 151.884543 136.276367 \n\" clip-path=\"url(#pa182846e7c)\" style=\"fill: none; stroke: #1f77b4; stroke-width: 1.5; stroke-linecap: square\"/>\n   </g>\n   <g id=\"line2d_80\">\n    <path d=\"M 49.633125 84.149366 \nL 69.163125 121.628741 \nL 88.693125 128.585834 \nL 108.223125 131.287905 \nL 127.753125 133.668056 \nL 147.283125 135.563824 \n\" clip-path=\"url(#pa182846e7c)\" style=\"fill: none; stroke-dasharray: 5.55,2.4; stroke-dashoffset: 0; stroke: #ff7f0e; stroke-width: 1.5\"/>\n   </g>\n   <g id=\"line2d_81\">\n    <path d=\"M 49.633125 124.253901 \nL 69.163125 108.891476 \nL 88.693125 106.439959 \nL 108.223125 105.207978 \nL 127.753125 104.417768 \nL 147.283125 103.596448 \n\" clip-path=\"url(#pa182846e7c)\" style=\"fill: none; stroke-dasharray: 9.6,2.4,1.5,2.4; stroke-dashoffset: 0; stroke: #2ca02c; stroke-width: 1.5\"/>\n   </g>\n   <g id=\"line2d_82\">\n    <path d=\"M 34.954394 13.5 \nL 44.698573 20.845057 \nL 54.442752 100.291648 \nL 64.186931 116.023761 \nL 73.93111 122.187899 \nL 83.675289 125.949139 \nL 93.419468 128.228336 \nL 103.163647 130.697298 \nL 112.907826 132.024368 \nL 122.652006 132.857191 \nL 132.396185 134.206753 \nL 142.140364 134.595912 \nL 151.884543 136.276367 \nL 161.628722 136.186072 \n\" clip-path=\"url(#pa182846e7c)\" style=\"fill: none; stroke: #1f77b4; stroke-width: 1.5; stroke-linecap: square\"/>\n   </g>\n   <g id=\"line2d_83\">\n    <path d=\"M 49.633125 84.149366 \nL 69.163125 121.628741 \nL 88.693125 128.585834 \nL 108.223125 131.287905 \nL 127.753125 133.668056 \nL 147.283125 135.563824 \n\" clip-path=\"url(#pa182846e7c)\" style=\"fill: none; stroke-dasharray: 5.55,2.4; stroke-dashoffset: 0; stroke: #ff7f0e; stroke-width: 1.5\"/>\n   </g>\n   <g id=\"line2d_84\">\n    <path d=\"M 49.633125 124.253901 \nL 69.163125 108.891476 \nL 88.693125 106.439959 \nL 108.223125 105.207978 \nL 127.753125 104.417768 \nL 147.283125 103.596448 \n\" clip-path=\"url(#pa182846e7c)\" style=\"fill: none; stroke-dasharray: 9.6,2.4,1.5,2.4; stroke-dashoffset: 0; stroke: #2ca02c; stroke-width: 1.5\"/>\n   </g>\n   <g id=\"line2d_85\">\n    <path d=\"M 34.954394 13.5 \nL 44.698573 20.845057 \nL 54.442752 100.291648 \nL 64.186931 116.023761 \nL 73.93111 122.187899 \nL 83.675289 125.949139 \nL 93.419468 128.228336 \nL 103.163647 130.697298 \nL 112.907826 132.024368 \nL 122.652006 132.857191 \nL 132.396185 134.206753 \nL 142.140364 134.595912 \nL 151.884543 136.276367 \nL 161.628722 136.186072 \n\" clip-path=\"url(#pa182846e7c)\" style=\"fill: none; stroke: #1f77b4; stroke-width: 1.5; stroke-linecap: square\"/>\n   </g>\n   <g id=\"line2d_86\">\n    <path d=\"M 49.633125 84.149366 \nL 69.163125 121.628741 \nL 88.693125 128.585834 \nL 108.223125 131.287905 \nL 127.753125 133.668056 \nL 147.283125 135.563824 \nL 166.813125 137.16858 \n\" clip-path=\"url(#pa182846e7c)\" style=\"fill: none; stroke-dasharray: 5.55,2.4; stroke-dashoffset: 0; stroke: #ff7f0e; stroke-width: 1.5\"/>\n   </g>\n   <g id=\"line2d_87\">\n    <path d=\"M 49.633125 124.253901 \nL 69.163125 108.891476 \nL 88.693125 106.439959 \nL 108.223125 105.207978 \nL 127.753125 104.417768 \nL 147.283125 103.596448 \n\" clip-path=\"url(#pa182846e7c)\" style=\"fill: none; stroke-dasharray: 9.6,2.4,1.5,2.4; stroke-dashoffset: 0; stroke: #2ca02c; stroke-width: 1.5\"/>\n   </g>\n   <g id=\"line2d_88\">\n    <path d=\"M 34.954394 13.5 \nL 44.698573 20.845057 \nL 54.442752 100.291648 \nL 64.186931 116.023761 \nL 73.93111 122.187899 \nL 83.675289 125.949139 \nL 93.419468 128.228336 \nL 103.163647 130.697298 \nL 112.907826 132.024368 \nL 122.652006 132.857191 \nL 132.396185 134.206753 \nL 142.140364 134.595912 \nL 151.884543 136.276367 \nL 161.628722 136.186072 \n\" clip-path=\"url(#pa182846e7c)\" style=\"fill: none; stroke: #1f77b4; stroke-width: 1.5; stroke-linecap: square\"/>\n   </g>\n   <g id=\"line2d_89\">\n    <path d=\"M 49.633125 84.149366 \nL 69.163125 121.628741 \nL 88.693125 128.585834 \nL 108.223125 131.287905 \nL 127.753125 133.668056 \nL 147.283125 135.563824 \nL 166.813125 137.16858 \n\" clip-path=\"url(#pa182846e7c)\" style=\"fill: none; stroke-dasharray: 5.55,2.4; stroke-dashoffset: 0; stroke: #ff7f0e; stroke-width: 1.5\"/>\n   </g>\n   <g id=\"line2d_90\">\n    <path d=\"M 49.633125 124.253901 \nL 69.163125 108.891476 \nL 88.693125 106.439959 \nL 108.223125 105.207978 \nL 127.753125 104.417768 \nL 147.283125 103.596448 \nL 166.813125 102.961791 \n\" clip-path=\"url(#pa182846e7c)\" style=\"fill: none; stroke-dasharray: 9.6,2.4,1.5,2.4; stroke-dashoffset: 0; stroke: #2ca02c; stroke-width: 1.5\"/>\n   </g>\n   <g id=\"line2d_91\">\n    <path d=\"M 34.954394 13.5 \nL 44.698573 20.845057 \nL 54.442752 100.291648 \nL 64.186931 116.023761 \nL 73.93111 122.187899 \nL 83.675289 125.949139 \nL 93.419468 128.228336 \nL 103.163647 130.697298 \nL 112.907826 132.024368 \nL 122.652006 132.857191 \nL 132.396185 134.206753 \nL 142.140364 134.595912 \nL 151.884543 136.276367 \nL 161.628722 136.186072 \nL 171.372901 137.115209 \n\" clip-path=\"url(#pa182846e7c)\" style=\"fill: none; stroke: #1f77b4; stroke-width: 1.5; stroke-linecap: square\"/>\n   </g>\n   <g id=\"line2d_92\">\n    <path d=\"M 49.633125 84.149366 \nL 69.163125 121.628741 \nL 88.693125 128.585834 \nL 108.223125 131.287905 \nL 127.753125 133.668056 \nL 147.283125 135.563824 \nL 166.813125 137.16858 \n\" clip-path=\"url(#pa182846e7c)\" style=\"fill: none; stroke-dasharray: 5.55,2.4; stroke-dashoffset: 0; stroke: #ff7f0e; stroke-width: 1.5\"/>\n   </g>\n   <g id=\"line2d_93\">\n    <path d=\"M 49.633125 124.253901 \nL 69.163125 108.891476 \nL 88.693125 106.439959 \nL 108.223125 105.207978 \nL 127.753125 104.417768 \nL 147.283125 103.596448 \nL 166.813125 102.961791 \n\" clip-path=\"url(#pa182846e7c)\" style=\"fill: none; stroke-dasharray: 9.6,2.4,1.5,2.4; stroke-dashoffset: 0; stroke: #2ca02c; stroke-width: 1.5\"/>\n   </g>\n   <g id=\"line2d_94\">\n    <path d=\"M 34.954394 13.5 \nL 44.698573 20.845057 \nL 54.442752 100.291648 \nL 64.186931 116.023761 \nL 73.93111 122.187899 \nL 83.675289 125.949139 \nL 93.419468 128.228336 \nL 103.163647 130.697298 \nL 112.907826 132.024368 \nL 122.652006 132.857191 \nL 132.396185 134.206753 \nL 142.140364 134.595912 \nL 151.884543 136.276367 \nL 161.628722 136.186072 \nL 171.372901 137.115209 \nL 181.11708 137.171231 \n\" clip-path=\"url(#pa182846e7c)\" style=\"fill: none; stroke: #1f77b4; stroke-width: 1.5; stroke-linecap: square\"/>\n   </g>\n   <g id=\"line2d_95\">\n    <path d=\"M 49.633125 84.149366 \nL 69.163125 121.628741 \nL 88.693125 128.585834 \nL 108.223125 131.287905 \nL 127.753125 133.668056 \nL 147.283125 135.563824 \nL 166.813125 137.16858 \n\" clip-path=\"url(#pa182846e7c)\" style=\"fill: none; stroke-dasharray: 5.55,2.4; stroke-dashoffset: 0; stroke: #ff7f0e; stroke-width: 1.5\"/>\n   </g>\n   <g id=\"line2d_96\">\n    <path d=\"M 49.633125 124.253901 \nL 69.163125 108.891476 \nL 88.693125 106.439959 \nL 108.223125 105.207978 \nL 127.753125 104.417768 \nL 147.283125 103.596448 \nL 166.813125 102.961791 \n\" clip-path=\"url(#pa182846e7c)\" style=\"fill: none; stroke-dasharray: 9.6,2.4,1.5,2.4; stroke-dashoffset: 0; stroke: #2ca02c; stroke-width: 1.5\"/>\n   </g>\n   <g id=\"line2d_97\">\n    <path d=\"M 34.954394 13.5 \nL 44.698573 20.845057 \nL 54.442752 100.291648 \nL 64.186931 116.023761 \nL 73.93111 122.187899 \nL 83.675289 125.949139 \nL 93.419468 128.228336 \nL 103.163647 130.697298 \nL 112.907826 132.024368 \nL 122.652006 132.857191 \nL 132.396185 134.206753 \nL 142.140364 134.595912 \nL 151.884543 136.276367 \nL 161.628722 136.186072 \nL 171.372901 137.115209 \nL 181.11708 137.171231 \n\" clip-path=\"url(#pa182846e7c)\" style=\"fill: none; stroke: #1f77b4; stroke-width: 1.5; stroke-linecap: square\"/>\n   </g>\n   <g id=\"line2d_98\">\n    <path d=\"M 49.633125 84.149366 \nL 69.163125 121.628741 \nL 88.693125 128.585834 \nL 108.223125 131.287905 \nL 127.753125 133.668056 \nL 147.283125 135.563824 \nL 166.813125 137.16858 \nL 186.343125 138.123826 \n\" clip-path=\"url(#pa182846e7c)\" style=\"fill: none; stroke-dasharray: 5.55,2.4; stroke-dashoffset: 0; stroke: #ff7f0e; stroke-width: 1.5\"/>\n   </g>\n   <g id=\"line2d_99\">\n    <path d=\"M 49.633125 124.253901 \nL 69.163125 108.891476 \nL 88.693125 106.439959 \nL 108.223125 105.207978 \nL 127.753125 104.417768 \nL 147.283125 103.596448 \nL 166.813125 102.961791 \n\" clip-path=\"url(#pa182846e7c)\" style=\"fill: none; stroke-dasharray: 9.6,2.4,1.5,2.4; stroke-dashoffset: 0; stroke: #2ca02c; stroke-width: 1.5\"/>\n   </g>\n   <g id=\"line2d_100\">\n    <path d=\"M 34.954394 13.5 \nL 44.698573 20.845057 \nL 54.442752 100.291648 \nL 64.186931 116.023761 \nL 73.93111 122.187899 \nL 83.675289 125.949139 \nL 93.419468 128.228336 \nL 103.163647 130.697298 \nL 112.907826 132.024368 \nL 122.652006 132.857191 \nL 132.396185 134.206753 \nL 142.140364 134.595912 \nL 151.884543 136.276367 \nL 161.628722 136.186072 \nL 171.372901 137.115209 \nL 181.11708 137.171231 \n\" clip-path=\"url(#pa182846e7c)\" style=\"fill: none; stroke: #1f77b4; stroke-width: 1.5; stroke-linecap: square\"/>\n   </g>\n   <g id=\"line2d_101\">\n    <path d=\"M 49.633125 84.149366 \nL 69.163125 121.628741 \nL 88.693125 128.585834 \nL 108.223125 131.287905 \nL 127.753125 133.668056 \nL 147.283125 135.563824 \nL 166.813125 137.16858 \nL 186.343125 138.123826 \n\" clip-path=\"url(#pa182846e7c)\" style=\"fill: none; stroke-dasharray: 5.55,2.4; stroke-dashoffset: 0; stroke: #ff7f0e; stroke-width: 1.5\"/>\n   </g>\n   <g id=\"line2d_102\">\n    <path d=\"M 49.633125 124.253901 \nL 69.163125 108.891476 \nL 88.693125 106.439959 \nL 108.223125 105.207978 \nL 127.753125 104.417768 \nL 147.283125 103.596448 \nL 166.813125 102.961791 \nL 186.343125 102.538687 \n\" clip-path=\"url(#pa182846e7c)\" style=\"fill: none; stroke-dasharray: 9.6,2.4,1.5,2.4; stroke-dashoffset: 0; stroke: #2ca02c; stroke-width: 1.5\"/>\n   </g>\n   <g id=\"line2d_103\">\n    <path d=\"M 34.954394 13.5 \nL 44.698573 20.845057 \nL 54.442752 100.291648 \nL 64.186931 116.023761 \nL 73.93111 122.187899 \nL 83.675289 125.949139 \nL 93.419468 128.228336 \nL 103.163647 130.697298 \nL 112.907826 132.024368 \nL 122.652006 132.857191 \nL 132.396185 134.206753 \nL 142.140364 134.595912 \nL 151.884543 136.276367 \nL 161.628722 136.186072 \nL 171.372901 137.115209 \nL 181.11708 137.171231 \nL 190.861259 137.89197 \n\" clip-path=\"url(#pa182846e7c)\" style=\"fill: none; stroke: #1f77b4; stroke-width: 1.5; stroke-linecap: square\"/>\n   </g>\n   <g id=\"line2d_104\">\n    <path d=\"M 49.633125 84.149366 \nL 69.163125 121.628741 \nL 88.693125 128.585834 \nL 108.223125 131.287905 \nL 127.753125 133.668056 \nL 147.283125 135.563824 \nL 166.813125 137.16858 \nL 186.343125 138.123826 \n\" clip-path=\"url(#pa182846e7c)\" style=\"fill: none; stroke-dasharray: 5.55,2.4; stroke-dashoffset: 0; stroke: #ff7f0e; stroke-width: 1.5\"/>\n   </g>\n   <g id=\"line2d_105\">\n    <path d=\"M 49.633125 124.253901 \nL 69.163125 108.891476 \nL 88.693125 106.439959 \nL 108.223125 105.207978 \nL 127.753125 104.417768 \nL 147.283125 103.596448 \nL 166.813125 102.961791 \nL 186.343125 102.538687 \n\" clip-path=\"url(#pa182846e7c)\" style=\"fill: none; stroke-dasharray: 9.6,2.4,1.5,2.4; stroke-dashoffset: 0; stroke: #2ca02c; stroke-width: 1.5\"/>\n   </g>\n   <g id=\"line2d_106\">\n    <path d=\"M 34.954394 13.5 \nL 44.698573 20.845057 \nL 54.442752 100.291648 \nL 64.186931 116.023761 \nL 73.93111 122.187899 \nL 83.675289 125.949139 \nL 93.419468 128.228336 \nL 103.163647 130.697298 \nL 112.907826 132.024368 \nL 122.652006 132.857191 \nL 132.396185 134.206753 \nL 142.140364 134.595912 \nL 151.884543 136.276367 \nL 161.628722 136.186072 \nL 171.372901 137.115209 \nL 181.11708 137.171231 \nL 190.861259 137.89197 \nL 200.605438 138.740503 \n\" clip-path=\"url(#pa182846e7c)\" style=\"fill: none; stroke: #1f77b4; stroke-width: 1.5; stroke-linecap: square\"/>\n   </g>\n   <g id=\"line2d_107\">\n    <path d=\"M 49.633125 84.149366 \nL 69.163125 121.628741 \nL 88.693125 128.585834 \nL 108.223125 131.287905 \nL 127.753125 133.668056 \nL 147.283125 135.563824 \nL 166.813125 137.16858 \nL 186.343125 138.123826 \n\" clip-path=\"url(#pa182846e7c)\" style=\"fill: none; stroke-dasharray: 5.55,2.4; stroke-dashoffset: 0; stroke: #ff7f0e; stroke-width: 1.5\"/>\n   </g>\n   <g id=\"line2d_108\">\n    <path d=\"M 49.633125 124.253901 \nL 69.163125 108.891476 \nL 88.693125 106.439959 \nL 108.223125 105.207978 \nL 127.753125 104.417768 \nL 147.283125 103.596448 \nL 166.813125 102.961791 \nL 186.343125 102.538687 \n\" clip-path=\"url(#pa182846e7c)\" style=\"fill: none; stroke-dasharray: 9.6,2.4,1.5,2.4; stroke-dashoffset: 0; stroke: #2ca02c; stroke-width: 1.5\"/>\n   </g>\n   <g id=\"line2d_109\">\n    <path d=\"M 34.954394 13.5 \nL 44.698573 20.845057 \nL 54.442752 100.291648 \nL 64.186931 116.023761 \nL 73.93111 122.187899 \nL 83.675289 125.949139 \nL 93.419468 128.228336 \nL 103.163647 130.697298 \nL 112.907826 132.024368 \nL 122.652006 132.857191 \nL 132.396185 134.206753 \nL 142.140364 134.595912 \nL 151.884543 136.276367 \nL 161.628722 136.186072 \nL 171.372901 137.115209 \nL 181.11708 137.171231 \nL 190.861259 137.89197 \nL 200.605438 138.740503 \n\" clip-path=\"url(#pa182846e7c)\" style=\"fill: none; stroke: #1f77b4; stroke-width: 1.5; stroke-linecap: square\"/>\n   </g>\n   <g id=\"line2d_110\">\n    <path d=\"M 49.633125 84.149366 \nL 69.163125 121.628741 \nL 88.693125 128.585834 \nL 108.223125 131.287905 \nL 127.753125 133.668056 \nL 147.283125 135.563824 \nL 166.813125 137.16858 \nL 186.343125 138.123826 \nL 205.873125 139.058473 \n\" clip-path=\"url(#pa182846e7c)\" style=\"fill: none; stroke-dasharray: 5.55,2.4; stroke-dashoffset: 0; stroke: #ff7f0e; stroke-width: 1.5\"/>\n   </g>\n   <g id=\"line2d_111\">\n    <path d=\"M 49.633125 124.253901 \nL 69.163125 108.891476 \nL 88.693125 106.439959 \nL 108.223125 105.207978 \nL 127.753125 104.417768 \nL 147.283125 103.596448 \nL 166.813125 102.961791 \nL 186.343125 102.538687 \n\" clip-path=\"url(#pa182846e7c)\" style=\"fill: none; stroke-dasharray: 9.6,2.4,1.5,2.4; stroke-dashoffset: 0; stroke: #2ca02c; stroke-width: 1.5\"/>\n   </g>\n   <g id=\"line2d_112\">\n    <path d=\"M 34.954394 13.5 \nL 44.698573 20.845057 \nL 54.442752 100.291648 \nL 64.186931 116.023761 \nL 73.93111 122.187899 \nL 83.675289 125.949139 \nL 93.419468 128.228336 \nL 103.163647 130.697298 \nL 112.907826 132.024368 \nL 122.652006 132.857191 \nL 132.396185 134.206753 \nL 142.140364 134.595912 \nL 151.884543 136.276367 \nL 161.628722 136.186072 \nL 171.372901 137.115209 \nL 181.11708 137.171231 \nL 190.861259 137.89197 \nL 200.605438 138.740503 \n\" clip-path=\"url(#pa182846e7c)\" style=\"fill: none; stroke: #1f77b4; stroke-width: 1.5; stroke-linecap: square\"/>\n   </g>\n   <g id=\"line2d_113\">\n    <path d=\"M 49.633125 84.149366 \nL 69.163125 121.628741 \nL 88.693125 128.585834 \nL 108.223125 131.287905 \nL 127.753125 133.668056 \nL 147.283125 135.563824 \nL 166.813125 137.16858 \nL 186.343125 138.123826 \nL 205.873125 139.058473 \n\" clip-path=\"url(#pa182846e7c)\" style=\"fill: none; stroke-dasharray: 5.55,2.4; stroke-dashoffset: 0; stroke: #ff7f0e; stroke-width: 1.5\"/>\n   </g>\n   <g id=\"line2d_114\">\n    <path d=\"M 49.633125 124.253901 \nL 69.163125 108.891476 \nL 88.693125 106.439959 \nL 108.223125 105.207978 \nL 127.753125 104.417768 \nL 147.283125 103.596448 \nL 166.813125 102.961791 \nL 186.343125 102.538687 \nL 205.873125 102.22758 \n\" clip-path=\"url(#pa182846e7c)\" style=\"fill: none; stroke-dasharray: 9.6,2.4,1.5,2.4; stroke-dashoffset: 0; stroke: #2ca02c; stroke-width: 1.5\"/>\n   </g>\n   <g id=\"line2d_115\">\n    <path d=\"M 34.954394 13.5 \nL 44.698573 20.845057 \nL 54.442752 100.291648 \nL 64.186931 116.023761 \nL 73.93111 122.187899 \nL 83.675289 125.949139 \nL 93.419468 128.228336 \nL 103.163647 130.697298 \nL 112.907826 132.024368 \nL 122.652006 132.857191 \nL 132.396185 134.206753 \nL 142.140364 134.595912 \nL 151.884543 136.276367 \nL 161.628722 136.186072 \nL 171.372901 137.115209 \nL 181.11708 137.171231 \nL 190.861259 137.89197 \nL 200.605438 138.740503 \nL 210.349618 138.930806 \n\" clip-path=\"url(#pa182846e7c)\" style=\"fill: none; stroke: #1f77b4; stroke-width: 1.5; stroke-linecap: square\"/>\n   </g>\n   <g id=\"line2d_116\">\n    <path d=\"M 49.633125 84.149366 \nL 69.163125 121.628741 \nL 88.693125 128.585834 \nL 108.223125 131.287905 \nL 127.753125 133.668056 \nL 147.283125 135.563824 \nL 166.813125 137.16858 \nL 186.343125 138.123826 \nL 205.873125 139.058473 \n\" clip-path=\"url(#pa182846e7c)\" style=\"fill: none; stroke-dasharray: 5.55,2.4; stroke-dashoffset: 0; stroke: #ff7f0e; stroke-width: 1.5\"/>\n   </g>\n   <g id=\"line2d_117\">\n    <path d=\"M 49.633125 124.253901 \nL 69.163125 108.891476 \nL 88.693125 106.439959 \nL 108.223125 105.207978 \nL 127.753125 104.417768 \nL 147.283125 103.596448 \nL 166.813125 102.961791 \nL 186.343125 102.538687 \nL 205.873125 102.22758 \n\" clip-path=\"url(#pa182846e7c)\" style=\"fill: none; stroke-dasharray: 9.6,2.4,1.5,2.4; stroke-dashoffset: 0; stroke: #2ca02c; stroke-width: 1.5\"/>\n   </g>\n   <g id=\"line2d_118\">\n    <path d=\"M 34.954394 13.5 \nL 44.698573 20.845057 \nL 54.442752 100.291648 \nL 64.186931 116.023761 \nL 73.93111 122.187899 \nL 83.675289 125.949139 \nL 93.419468 128.228336 \nL 103.163647 130.697298 \nL 112.907826 132.024368 \nL 122.652006 132.857191 \nL 132.396185 134.206753 \nL 142.140364 134.595912 \nL 151.884543 136.276367 \nL 161.628722 136.186072 \nL 171.372901 137.115209 \nL 181.11708 137.171231 \nL 190.861259 137.89197 \nL 200.605438 138.740503 \nL 210.349618 138.930806 \nL 220.093797 139.5 \n\" clip-path=\"url(#pa182846e7c)\" style=\"fill: none; stroke: #1f77b4; stroke-width: 1.5; stroke-linecap: square\"/>\n   </g>\n   <g id=\"line2d_119\">\n    <path d=\"M 49.633125 84.149366 \nL 69.163125 121.628741 \nL 88.693125 128.585834 \nL 108.223125 131.287905 \nL 127.753125 133.668056 \nL 147.283125 135.563824 \nL 166.813125 137.16858 \nL 186.343125 138.123826 \nL 205.873125 139.058473 \n\" clip-path=\"url(#pa182846e7c)\" style=\"fill: none; stroke-dasharray: 5.55,2.4; stroke-dashoffset: 0; stroke: #ff7f0e; stroke-width: 1.5\"/>\n   </g>\n   <g id=\"line2d_120\">\n    <path d=\"M 49.633125 124.253901 \nL 69.163125 108.891476 \nL 88.693125 106.439959 \nL 108.223125 105.207978 \nL 127.753125 104.417768 \nL 147.283125 103.596448 \nL 166.813125 102.961791 \nL 186.343125 102.538687 \nL 205.873125 102.22758 \n\" clip-path=\"url(#pa182846e7c)\" style=\"fill: none; stroke-dasharray: 9.6,2.4,1.5,2.4; stroke-dashoffset: 0; stroke: #2ca02c; stroke-width: 1.5\"/>\n   </g>\n   <g id=\"line2d_121\">\n    <path d=\"M 34.954394 13.5 \nL 44.698573 20.845057 \nL 54.442752 100.291648 \nL 64.186931 116.023761 \nL 73.93111 122.187899 \nL 83.675289 125.949139 \nL 93.419468 128.228336 \nL 103.163647 130.697298 \nL 112.907826 132.024368 \nL 122.652006 132.857191 \nL 132.396185 134.206753 \nL 142.140364 134.595912 \nL 151.884543 136.276367 \nL 161.628722 136.186072 \nL 171.372901 137.115209 \nL 181.11708 137.171231 \nL 190.861259 137.89197 \nL 200.605438 138.740503 \nL 210.349618 138.930806 \nL 220.093797 139.5 \n\" clip-path=\"url(#pa182846e7c)\" style=\"fill: none; stroke: #1f77b4; stroke-width: 1.5; stroke-linecap: square\"/>\n   </g>\n   <g id=\"line2d_122\">\n    <path d=\"M 49.633125 84.149366 \nL 69.163125 121.628741 \nL 88.693125 128.585834 \nL 108.223125 131.287905 \nL 127.753125 133.668056 \nL 147.283125 135.563824 \nL 166.813125 137.16858 \nL 186.343125 138.123826 \nL 205.873125 139.058473 \nL 225.403125 139.216878 \n\" clip-path=\"url(#pa182846e7c)\" style=\"fill: none; stroke-dasharray: 5.55,2.4; stroke-dashoffset: 0; stroke: #ff7f0e; stroke-width: 1.5\"/>\n   </g>\n   <g id=\"line2d_123\">\n    <path d=\"M 49.633125 124.253901 \nL 69.163125 108.891476 \nL 88.693125 106.439959 \nL 108.223125 105.207978 \nL 127.753125 104.417768 \nL 147.283125 103.596448 \nL 166.813125 102.961791 \nL 186.343125 102.538687 \nL 205.873125 102.22758 \n\" clip-path=\"url(#pa182846e7c)\" style=\"fill: none; stroke-dasharray: 9.6,2.4,1.5,2.4; stroke-dashoffset: 0; stroke: #2ca02c; stroke-width: 1.5\"/>\n   </g>\n   <g id=\"line2d_124\">\n    <path d=\"M 34.954394 13.5 \nL 44.698573 20.845057 \nL 54.442752 100.291648 \nL 64.186931 116.023761 \nL 73.93111 122.187899 \nL 83.675289 125.949139 \nL 93.419468 128.228336 \nL 103.163647 130.697298 \nL 112.907826 132.024368 \nL 122.652006 132.857191 \nL 132.396185 134.206753 \nL 142.140364 134.595912 \nL 151.884543 136.276367 \nL 161.628722 136.186072 \nL 171.372901 137.115209 \nL 181.11708 137.171231 \nL 190.861259 137.89197 \nL 200.605438 138.740503 \nL 210.349618 138.930806 \nL 220.093797 139.5 \n\" clip-path=\"url(#pa182846e7c)\" style=\"fill: none; stroke: #1f77b4; stroke-width: 1.5; stroke-linecap: square\"/>\n   </g>\n   <g id=\"line2d_125\">\n    <path d=\"M 49.633125 84.149366 \nL 69.163125 121.628741 \nL 88.693125 128.585834 \nL 108.223125 131.287905 \nL 127.753125 133.668056 \nL 147.283125 135.563824 \nL 166.813125 137.16858 \nL 186.343125 138.123826 \nL 205.873125 139.058473 \nL 225.403125 139.216878 \n\" clip-path=\"url(#pa182846e7c)\" style=\"fill: none; stroke-dasharray: 5.55,2.4; stroke-dashoffset: 0; stroke: #ff7f0e; stroke-width: 1.5\"/>\n   </g>\n   <g id=\"line2d_126\">\n    <path d=\"M 49.633125 124.253901 \nL 69.163125 108.891476 \nL 88.693125 106.439959 \nL 108.223125 105.207978 \nL 127.753125 104.417768 \nL 147.283125 103.596448 \nL 166.813125 102.961791 \nL 186.343125 102.538687 \nL 205.873125 102.22758 \nL 225.403125 102.053361 \n\" clip-path=\"url(#pa182846e7c)\" style=\"fill: none; stroke-dasharray: 9.6,2.4,1.5,2.4; stroke-dashoffset: 0; stroke: #2ca02c; stroke-width: 1.5\"/>\n   </g>\n   <g id=\"patch_3\">\n    <path d=\"M 30.103125 145.8 \nL 30.103125 7.2 \n\" style=\"fill: none; stroke: #000000; stroke-width: 0.8; stroke-linejoin: miter; stroke-linecap: square\"/>\n   </g>\n   <g id=\"patch_4\">\n    <path d=\"M 225.403125 145.8 \nL 225.403125 7.2 \n\" style=\"fill: none; stroke: #000000; stroke-width: 0.8; stroke-linejoin: miter; stroke-linecap: square\"/>\n   </g>\n   <g id=\"patch_5\">\n    <path d=\"M 30.103125 145.8 \nL 225.403125 145.8 \n\" style=\"fill: none; stroke: #000000; stroke-width: 0.8; stroke-linejoin: miter; stroke-linecap: square\"/>\n   </g>\n   <g id=\"patch_6\">\n    <path d=\"M 30.103125 7.2 \nL 225.403125 7.2 \n\" style=\"fill: none; stroke: #000000; stroke-width: 0.8; stroke-linejoin: miter; stroke-linecap: square\"/>\n   </g>\n   <g id=\"legend_1\">\n    <g id=\"patch_7\">\n     <path d=\"M 138.8125 60.06875 \nL 218.403125 60.06875 \nQ 220.403125 60.06875 220.403125 58.06875 \nL 220.403125 14.2 \nQ 220.403125 12.2 218.403125 12.2 \nL 138.8125 12.2 \nQ 136.8125 12.2 136.8125 14.2 \nL 136.8125 58.06875 \nQ 136.8125 60.06875 138.8125 60.06875 \nz\n\" style=\"fill: #ffffff; opacity: 0.8; stroke: #cccccc; stroke-linejoin: miter\"/>\n    </g>\n    <g id=\"line2d_127\">\n     <path d=\"M 140.8125 20.298438 \nL 150.8125 20.298438 \nL 160.8125 20.298438 \n\" style=\"fill: none; stroke: #1f77b4; stroke-width: 1.5; stroke-linecap: square\"/>\n    </g>\n    <g id=\"text_12\">\n     <!-- train_loss -->\n     <g transform=\"translate(168.8125 23.798438) scale(0.1 -0.1)\">\n      <defs>\n       <path id=\"DejaVuSans-74\" d=\"M 1172 4494 \nL 1172 3500 \nL 2356 3500 \nL 2356 3053 \nL 1172 3053 \nL 1172 1153 \nQ 1172 725 1289 603 \nQ 1406 481 1766 481 \nL 2356 481 \nL 2356 0 \nL 1766 0 \nQ 1100 0 847 248 \nQ 594 497 594 1153 \nL 594 3053 \nL 172 3053 \nL 172 3500 \nL 594 3500 \nL 594 4494 \nL 1172 4494 \nz\n\" transform=\"scale(0.015625)\"/>\n       <path id=\"DejaVuSans-72\" d=\"M 2631 2963 \nQ 2534 3019 2420 3045 \nQ 2306 3072 2169 3072 \nQ 1681 3072 1420 2755 \nQ 1159 2438 1159 1844 \nL 1159 0 \nL 581 0 \nL 581 3500 \nL 1159 3500 \nL 1159 2956 \nQ 1341 3275 1631 3429 \nQ 1922 3584 2338 3584 \nQ 2397 3584 2469 3576 \nQ 2541 3569 2628 3553 \nL 2631 2963 \nz\n\" transform=\"scale(0.015625)\"/>\n       <path id=\"DejaVuSans-61\" d=\"M 2194 1759 \nQ 1497 1759 1228 1600 \nQ 959 1441 959 1056 \nQ 959 750 1161 570 \nQ 1363 391 1709 391 \nQ 2188 391 2477 730 \nQ 2766 1069 2766 1631 \nL 2766 1759 \nL 2194 1759 \nz\nM 3341 1997 \nL 3341 0 \nL 2766 0 \nL 2766 531 \nQ 2569 213 2275 61 \nQ 1981 -91 1556 -91 \nQ 1019 -91 701 211 \nQ 384 513 384 1019 \nQ 384 1609 779 1909 \nQ 1175 2209 1959 2209 \nL 2766 2209 \nL 2766 2266 \nQ 2766 2663 2505 2880 \nQ 2244 3097 1772 3097 \nQ 1472 3097 1187 3025 \nQ 903 2953 641 2809 \nL 641 3341 \nQ 956 3463 1253 3523 \nQ 1550 3584 1831 3584 \nQ 2591 3584 2966 3190 \nQ 3341 2797 3341 1997 \nz\n\" transform=\"scale(0.015625)\"/>\n       <path id=\"DejaVuSans-69\" d=\"M 603 3500 \nL 1178 3500 \nL 1178 0 \nL 603 0 \nL 603 3500 \nz\nM 603 4863 \nL 1178 4863 \nL 1178 4134 \nL 603 4134 \nL 603 4863 \nz\n\" transform=\"scale(0.015625)\"/>\n       <path id=\"DejaVuSans-6e\" d=\"M 3513 2113 \nL 3513 0 \nL 2938 0 \nL 2938 2094 \nQ 2938 2591 2744 2837 \nQ 2550 3084 2163 3084 \nQ 1697 3084 1428 2787 \nQ 1159 2491 1159 1978 \nL 1159 0 \nL 581 0 \nL 581 3500 \nL 1159 3500 \nL 1159 2956 \nQ 1366 3272 1645 3428 \nQ 1925 3584 2291 3584 \nQ 2894 3584 3203 3211 \nQ 3513 2838 3513 2113 \nz\n\" transform=\"scale(0.015625)\"/>\n       <path id=\"DejaVuSans-5f\" d=\"M 3263 -1063 \nL 3263 -1509 \nL -63 -1509 \nL -63 -1063 \nL 3263 -1063 \nz\n\" transform=\"scale(0.015625)\"/>\n       <path id=\"DejaVuSans-6c\" d=\"M 603 4863 \nL 1178 4863 \nL 1178 0 \nL 603 0 \nL 603 4863 \nz\n\" transform=\"scale(0.015625)\"/>\n       <path id=\"DejaVuSans-73\" d=\"M 2834 3397 \nL 2834 2853 \nQ 2591 2978 2328 3040 \nQ 2066 3103 1784 3103 \nQ 1356 3103 1142 2972 \nQ 928 2841 928 2578 \nQ 928 2378 1081 2264 \nQ 1234 2150 1697 2047 \nL 1894 2003 \nQ 2506 1872 2764 1633 \nQ 3022 1394 3022 966 \nQ 3022 478 2636 193 \nQ 2250 -91 1575 -91 \nQ 1294 -91 989 -36 \nQ 684 19 347 128 \nL 347 722 \nQ 666 556 975 473 \nQ 1284 391 1588 391 \nQ 1994 391 2212 530 \nQ 2431 669 2431 922 \nQ 2431 1156 2273 1281 \nQ 2116 1406 1581 1522 \nL 1381 1569 \nQ 847 1681 609 1914 \nQ 372 2147 372 2553 \nQ 372 3047 722 3315 \nQ 1072 3584 1716 3584 \nQ 2034 3584 2315 3537 \nQ 2597 3491 2834 3397 \nz\n\" transform=\"scale(0.015625)\"/>\n      </defs>\n      <use xlink:href=\"#DejaVuSans-74\"/>\n      <use xlink:href=\"#DejaVuSans-72\" x=\"39.208984\"/>\n      <use xlink:href=\"#DejaVuSans-61\" x=\"80.322266\"/>\n      <use xlink:href=\"#DejaVuSans-69\" x=\"141.601562\"/>\n      <use xlink:href=\"#DejaVuSans-6e\" x=\"169.384766\"/>\n      <use xlink:href=\"#DejaVuSans-5f\" x=\"232.763672\"/>\n      <use xlink:href=\"#DejaVuSans-6c\" x=\"282.763672\"/>\n      <use xlink:href=\"#DejaVuSans-6f\" x=\"310.546875\"/>\n      <use xlink:href=\"#DejaVuSans-73\" x=\"371.728516\"/>\n      <use xlink:href=\"#DejaVuSans-73\" x=\"423.828125\"/>\n     </g>\n    </g>\n    <g id=\"line2d_128\">\n     <path d=\"M 140.8125 35.254688 \nL 150.8125 35.254688 \nL 160.8125 35.254688 \n\" style=\"fill: none; stroke-dasharray: 5.55,2.4; stroke-dashoffset: 0; stroke: #ff7f0e; stroke-width: 1.5\"/>\n    </g>\n    <g id=\"text_13\">\n     <!-- val_loss -->\n     <g transform=\"translate(168.8125 38.754688) scale(0.1 -0.1)\">\n      <defs>\n       <path id=\"DejaVuSans-76\" d=\"M 191 3500 \nL 800 3500 \nL 1894 563 \nL 2988 3500 \nL 3597 3500 \nL 2284 0 \nL 1503 0 \nL 191 3500 \nz\n\" transform=\"scale(0.015625)\"/>\n      </defs>\n      <use xlink:href=\"#DejaVuSans-76\"/>\n      <use xlink:href=\"#DejaVuSans-61\" x=\"59.179688\"/>\n      <use xlink:href=\"#DejaVuSans-6c\" x=\"120.458984\"/>\n      <use xlink:href=\"#DejaVuSans-5f\" x=\"148.242188\"/>\n      <use xlink:href=\"#DejaVuSans-6c\" x=\"198.242188\"/>\n      <use xlink:href=\"#DejaVuSans-6f\" x=\"226.025391\"/>\n      <use xlink:href=\"#DejaVuSans-73\" x=\"287.207031\"/>\n      <use xlink:href=\"#DejaVuSans-73\" x=\"339.306641\"/>\n     </g>\n    </g>\n    <g id=\"line2d_129\">\n     <path d=\"M 140.8125 50.210938 \nL 150.8125 50.210938 \nL 160.8125 50.210938 \n\" style=\"fill: none; stroke-dasharray: 9.6,2.4,1.5,2.4; stroke-dashoffset: 0; stroke: #2ca02c; stroke-width: 1.5\"/>\n    </g>\n    <g id=\"text_14\">\n     <!-- val_acc -->\n     <g transform=\"translate(168.8125 53.710938) scale(0.1 -0.1)\">\n      <use xlink:href=\"#DejaVuSans-76\"/>\n      <use xlink:href=\"#DejaVuSans-61\" x=\"59.179688\"/>\n      <use xlink:href=\"#DejaVuSans-6c\" x=\"120.458984\"/>\n      <use xlink:href=\"#DejaVuSans-5f\" x=\"148.242188\"/>\n      <use xlink:href=\"#DejaVuSans-61\" x=\"198.242188\"/>\n      <use xlink:href=\"#DejaVuSans-63\" x=\"259.521484\"/>\n      <use xlink:href=\"#DejaVuSans-63\" x=\"314.501953\"/>\n     </g>\n    </g>\n   </g>\n  </g>\n </g>\n <defs>\n  <clipPath id=\"pa182846e7c\">\n   <rect x=\"30.103125\" y=\"7.2\" width=\"195.3\" height=\"138.6\"/>\n  </clipPath>\n </defs>\n</svg>\n"
          },
          "metadata": {}
        }
      ]
    },
    {
      "cell_type": "markdown",
      "source": [
        "# 8.6"
      ],
      "metadata": {
        "id": "41EIZ4K_-vpv"
      }
    },
    {
      "cell_type": "code",
      "source": [
        "import torch\n",
        "from torch import nn\n",
        "from torch.nn import functional as F\n",
        "from d2l import torch as d2l"
      ],
      "metadata": {
        "id": "Yp4SSdwg-xch"
      },
      "execution_count": null,
      "outputs": []
    },
    {
      "cell_type": "code",
      "source": [
        "class Residual(nn.Module):  #@save\n",
        "    \"\"\"The Residual block of ResNet models.\"\"\"\n",
        "    def __init__(self, num_channels, use_1x1conv=False, strides=1):\n",
        "        super().__init__()\n",
        "        self.conv1 = nn.LazyConv2d(num_channels, kernel_size=3, padding=1,\n",
        "                                   stride=strides)\n",
        "        self.conv2 = nn.LazyConv2d(num_channels, kernel_size=3, padding=1)\n",
        "        if use_1x1conv:\n",
        "            self.conv3 = nn.LazyConv2d(num_channels, kernel_size=1,\n",
        "                                       stride=strides)\n",
        "        else:\n",
        "            self.conv3 = None\n",
        "        self.bn1 = nn.LazyBatchNorm2d()\n",
        "        self.bn2 = nn.LazyBatchNorm2d()\n",
        "\n",
        "    def forward(self, X):\n",
        "        Y = F.relu(self.bn1(self.conv1(X)))\n",
        "        Y = self.bn2(self.conv2(Y))\n",
        "        if self.conv3:\n",
        "            X = self.conv3(X)\n",
        "        Y += X\n",
        "        return F.relu(Y)"
      ],
      "metadata": {
        "id": "UxcPIrfj-0Y-"
      },
      "execution_count": null,
      "outputs": []
    },
    {
      "cell_type": "code",
      "source": [
        "blk = Residual(3)\n",
        "X = torch.randn(4, 3, 6, 6)\n",
        "blk(X).shape"
      ],
      "metadata": {
        "colab": {
          "base_uri": "https://localhost:8080/"
        },
        "id": "iUzCXoWa_Chi",
        "outputId": "2d3c7d3b-161c-4cb2-8a48-febf2d54583d"
      },
      "execution_count": null,
      "outputs": [
        {
          "output_type": "execute_result",
          "data": {
            "text/plain": [
              "torch.Size([4, 3, 6, 6])"
            ]
          },
          "metadata": {},
          "execution_count": 45
        }
      ]
    },
    {
      "cell_type": "code",
      "source": [
        "blk = Residual(6, use_1x1conv=True, strides=2)\n",
        "blk(X).shape"
      ],
      "metadata": {
        "colab": {
          "base_uri": "https://localhost:8080/"
        },
        "id": "KTaMypey_DqC",
        "outputId": "6a9c502d-521c-4e4c-98c8-04f50a3aa9d8"
      },
      "execution_count": null,
      "outputs": [
        {
          "output_type": "execute_result",
          "data": {
            "text/plain": [
              "torch.Size([4, 6, 3, 3])"
            ]
          },
          "metadata": {},
          "execution_count": 46
        }
      ]
    },
    {
      "cell_type": "code",
      "source": [
        "class ResNet(d2l.Classifier):\n",
        "    def b1(self):\n",
        "        return nn.Sequential(\n",
        "            nn.LazyConv2d(64, kernel_size=7, stride=2, padding=3),\n",
        "            nn.LazyBatchNorm2d(), nn.ReLU(),\n",
        "            nn.MaxPool2d(kernel_size=3, stride=2, padding=1))"
      ],
      "metadata": {
        "id": "y26gO5Rf_E_8"
      },
      "execution_count": null,
      "outputs": []
    },
    {
      "cell_type": "code",
      "source": [
        "@d2l.add_to_class(ResNet)\n",
        "def block(self, num_residuals, num_channels, first_block=False):\n",
        "    blk = []\n",
        "    for i in range(num_residuals):\n",
        "        if i == 0 and not first_block:\n",
        "            blk.append(Residual(num_channels, use_1x1conv=True, strides=2))\n",
        "        else:\n",
        "            blk.append(Residual(num_channels))\n",
        "    return nn.Sequential(*blk)"
      ],
      "metadata": {
        "id": "olsEUaOh_GLP"
      },
      "execution_count": null,
      "outputs": []
    },
    {
      "cell_type": "code",
      "source": [
        "@d2l.add_to_class(ResNet)\n",
        "def __init__(self, arch, lr=0.1, num_classes=10):\n",
        "    super(ResNet, self).__init__()\n",
        "    self.save_hyperparameters()\n",
        "    self.net = nn.Sequential(self.b1())\n",
        "    for i, b in enumerate(arch):\n",
        "        self.net.add_module(f'b{i+2}', self.block(*b, first_block=(i==0)))\n",
        "    self.net.add_module('last', nn.Sequential(\n",
        "        nn.AdaptiveAvgPool2d((1, 1)), nn.Flatten(),\n",
        "        nn.LazyLinear(num_classes)))\n",
        "    self.net.apply(d2l.init_cnn)"
      ],
      "metadata": {
        "id": "SIVOGqJk_Hk2"
      },
      "execution_count": null,
      "outputs": []
    },
    {
      "cell_type": "code",
      "source": [
        "class ResNet18(ResNet):\n",
        "    def __init__(self, lr=0.1, num_classes=10):\n",
        "        super().__init__(((2, 64), (2, 128), (2, 256), (2, 512)),\n",
        "                       lr, num_classes)\n",
        "\n",
        "ResNet18().layer_summary((1, 1, 96, 96))"
      ],
      "metadata": {
        "colab": {
          "base_uri": "https://localhost:8080/"
        },
        "id": "bJS-lf2s_JbJ",
        "outputId": "f0588ae8-e1d9-4471-9b68-999fce688406"
      },
      "execution_count": null,
      "outputs": [
        {
          "output_type": "stream",
          "name": "stdout",
          "text": [
            "Sequential output shape:\t torch.Size([1, 64, 24, 24])\n",
            "Sequential output shape:\t torch.Size([1, 64, 24, 24])\n",
            "Sequential output shape:\t torch.Size([1, 128, 12, 12])\n",
            "Sequential output shape:\t torch.Size([1, 256, 6, 6])\n",
            "Sequential output shape:\t torch.Size([1, 512, 3, 3])\n",
            "Sequential output shape:\t torch.Size([1, 10])\n"
          ]
        }
      ]
    },
    {
      "cell_type": "code",
      "source": [
        "model = ResNet18(lr=0.01)\n",
        "trainer = d2l.Trainer(max_epochs=10, num_gpus=1)\n",
        "data = d2l.FashionMNIST(batch_size=128, resize=(96, 96))\n",
        "model.apply_init([next(iter(data.get_dataloader(True)))[0]], d2l.init_cnn)\n",
        "trainer.fit(model, data)"
      ],
      "metadata": {
        "colab": {
          "base_uri": "https://localhost:8080/",
          "height": 265
        },
        "id": "pqGy70WQ_Lvr",
        "outputId": "dc6b0071-69dc-40a8-e70e-f6e8152bfee2"
      },
      "execution_count": null,
      "outputs": [
        {
          "output_type": "display_data",
          "data": {
            "text/plain": [
              "<Figure size 350x250 with 1 Axes>"
            ],
            "image/svg+xml": "<?xml version=\"1.0\" encoding=\"utf-8\" standalone=\"no\"?>\n<!DOCTYPE svg PUBLIC \"-//W3C//DTD SVG 1.1//EN\"\n  \"http://www.w3.org/Graphics/SVG/1.1/DTD/svg11.dtd\">\n<svg xmlns:xlink=\"http://www.w3.org/1999/xlink\" width=\"238.965625pt\" height=\"183.35625pt\" viewBox=\"0 0 238.965625 183.35625\" xmlns=\"http://www.w3.org/2000/svg\" version=\"1.1\">\n <metadata>\n  <rdf:RDF xmlns:dc=\"http://purl.org/dc/elements/1.1/\" xmlns:cc=\"http://creativecommons.org/ns#\" xmlns:rdf=\"http://www.w3.org/1999/02/22-rdf-syntax-ns#\">\n   <cc:Work>\n    <dc:type rdf:resource=\"http://purl.org/dc/dcmitype/StillImage\"/>\n    <dc:date>2024-10-06T18:28:56.120311</dc:date>\n    <dc:format>image/svg+xml</dc:format>\n    <dc:creator>\n     <cc:Agent>\n      <dc:title>Matplotlib v3.7.2, https://matplotlib.org/</dc:title>\n     </cc:Agent>\n    </dc:creator>\n   </cc:Work>\n  </rdf:RDF>\n </metadata>\n <defs>\n  <style type=\"text/css\">*{stroke-linejoin: round; stroke-linecap: butt}</style>\n </defs>\n <g id=\"figure_1\">\n  <g id=\"patch_1\">\n   <path d=\"M 0 183.35625 \nL 238.965625 183.35625 \nL 238.965625 0 \nL 0 0 \nz\n\" style=\"fill: #ffffff\"/>\n  </g>\n  <g id=\"axes_1\">\n   <g id=\"patch_2\">\n    <path d=\"M 30.103125 145.8 \nL 225.403125 145.8 \nL 225.403125 7.2 \nL 30.103125 7.2 \nz\n\" style=\"fill: #ffffff\"/>\n   </g>\n   <g id=\"matplotlib.axis_1\">\n    <g id=\"xtick_1\">\n     <g id=\"line2d_1\">\n      <defs>\n       <path id=\"mfb3d88cf06\" d=\"M 0 0 \nL 0 3.5 \n\" style=\"stroke: #000000; stroke-width: 0.8\"/>\n      </defs>\n      <g>\n       <use xlink:href=\"#mfb3d88cf06\" x=\"30.103125\" y=\"145.8\" style=\"stroke: #000000; stroke-width: 0.8\"/>\n      </g>\n     </g>\n     <g id=\"text_1\">\n      <!-- 0 -->\n      <g transform=\"translate(26.921875 160.398438) scale(0.1 -0.1)\">\n       <defs>\n        <path id=\"DejaVuSans-30\" d=\"M 2034 4250 \nQ 1547 4250 1301 3770 \nQ 1056 3291 1056 2328 \nQ 1056 1369 1301 889 \nQ 1547 409 2034 409 \nQ 2525 409 2770 889 \nQ 3016 1369 3016 2328 \nQ 3016 3291 2770 3770 \nQ 2525 4250 2034 4250 \nz\nM 2034 4750 \nQ 2819 4750 3233 4129 \nQ 3647 3509 3647 2328 \nQ 3647 1150 3233 529 \nQ 2819 -91 2034 -91 \nQ 1250 -91 836 529 \nQ 422 1150 422 2328 \nQ 422 3509 836 4129 \nQ 1250 4750 2034 4750 \nz\n\" transform=\"scale(0.015625)\"/>\n       </defs>\n       <use xlink:href=\"#DejaVuSans-30\"/>\n      </g>\n     </g>\n    </g>\n    <g id=\"xtick_2\">\n     <g id=\"line2d_2\">\n      <g>\n       <use xlink:href=\"#mfb3d88cf06\" x=\"69.163125\" y=\"145.8\" style=\"stroke: #000000; stroke-width: 0.8\"/>\n      </g>\n     </g>\n     <g id=\"text_2\">\n      <!-- 2 -->\n      <g transform=\"translate(65.981875 160.398438) scale(0.1 -0.1)\">\n       <defs>\n        <path id=\"DejaVuSans-32\" d=\"M 1228 531 \nL 3431 531 \nL 3431 0 \nL 469 0 \nL 469 531 \nQ 828 903 1448 1529 \nQ 2069 2156 2228 2338 \nQ 2531 2678 2651 2914 \nQ 2772 3150 2772 3378 \nQ 2772 3750 2511 3984 \nQ 2250 4219 1831 4219 \nQ 1534 4219 1204 4116 \nQ 875 4013 500 3803 \nL 500 4441 \nQ 881 4594 1212 4672 \nQ 1544 4750 1819 4750 \nQ 2544 4750 2975 4387 \nQ 3406 4025 3406 3419 \nQ 3406 3131 3298 2873 \nQ 3191 2616 2906 2266 \nQ 2828 2175 2409 1742 \nQ 1991 1309 1228 531 \nz\n\" transform=\"scale(0.015625)\"/>\n       </defs>\n       <use xlink:href=\"#DejaVuSans-32\"/>\n      </g>\n     </g>\n    </g>\n    <g id=\"xtick_3\">\n     <g id=\"line2d_3\">\n      <g>\n       <use xlink:href=\"#mfb3d88cf06\" x=\"108.223125\" y=\"145.8\" style=\"stroke: #000000; stroke-width: 0.8\"/>\n      </g>\n     </g>\n     <g id=\"text_3\">\n      <!-- 4 -->\n      <g transform=\"translate(105.041875 160.398438) scale(0.1 -0.1)\">\n       <defs>\n        <path id=\"DejaVuSans-34\" d=\"M 2419 4116 \nL 825 1625 \nL 2419 1625 \nL 2419 4116 \nz\nM 2253 4666 \nL 3047 4666 \nL 3047 1625 \nL 3713 1625 \nL 3713 1100 \nL 3047 1100 \nL 3047 0 \nL 2419 0 \nL 2419 1100 \nL 313 1100 \nL 313 1709 \nL 2253 4666 \nz\n\" transform=\"scale(0.015625)\"/>\n       </defs>\n       <use xlink:href=\"#DejaVuSans-34\"/>\n      </g>\n     </g>\n    </g>\n    <g id=\"xtick_4\">\n     <g id=\"line2d_4\">\n      <g>\n       <use xlink:href=\"#mfb3d88cf06\" x=\"147.283125\" y=\"145.8\" style=\"stroke: #000000; stroke-width: 0.8\"/>\n      </g>\n     </g>\n     <g id=\"text_4\">\n      <!-- 6 -->\n      <g transform=\"translate(144.101875 160.398438) scale(0.1 -0.1)\">\n       <defs>\n        <path id=\"DejaVuSans-36\" d=\"M 2113 2584 \nQ 1688 2584 1439 2293 \nQ 1191 2003 1191 1497 \nQ 1191 994 1439 701 \nQ 1688 409 2113 409 \nQ 2538 409 2786 701 \nQ 3034 994 3034 1497 \nQ 3034 2003 2786 2293 \nQ 2538 2584 2113 2584 \nz\nM 3366 4563 \nL 3366 3988 \nQ 3128 4100 2886 4159 \nQ 2644 4219 2406 4219 \nQ 1781 4219 1451 3797 \nQ 1122 3375 1075 2522 \nQ 1259 2794 1537 2939 \nQ 1816 3084 2150 3084 \nQ 2853 3084 3261 2657 \nQ 3669 2231 3669 1497 \nQ 3669 778 3244 343 \nQ 2819 -91 2113 -91 \nQ 1303 -91 875 529 \nQ 447 1150 447 2328 \nQ 447 3434 972 4092 \nQ 1497 4750 2381 4750 \nQ 2619 4750 2861 4703 \nQ 3103 4656 3366 4563 \nz\n\" transform=\"scale(0.015625)\"/>\n       </defs>\n       <use xlink:href=\"#DejaVuSans-36\"/>\n      </g>\n     </g>\n    </g>\n    <g id=\"xtick_5\">\n     <g id=\"line2d_5\">\n      <g>\n       <use xlink:href=\"#mfb3d88cf06\" x=\"186.343125\" y=\"145.8\" style=\"stroke: #000000; stroke-width: 0.8\"/>\n      </g>\n     </g>\n     <g id=\"text_5\">\n      <!-- 8 -->\n      <g transform=\"translate(183.161875 160.398438) scale(0.1 -0.1)\">\n       <defs>\n        <path id=\"DejaVuSans-38\" d=\"M 2034 2216 \nQ 1584 2216 1326 1975 \nQ 1069 1734 1069 1313 \nQ 1069 891 1326 650 \nQ 1584 409 2034 409 \nQ 2484 409 2743 651 \nQ 3003 894 3003 1313 \nQ 3003 1734 2745 1975 \nQ 2488 2216 2034 2216 \nz\nM 1403 2484 \nQ 997 2584 770 2862 \nQ 544 3141 544 3541 \nQ 544 4100 942 4425 \nQ 1341 4750 2034 4750 \nQ 2731 4750 3128 4425 \nQ 3525 4100 3525 3541 \nQ 3525 3141 3298 2862 \nQ 3072 2584 2669 2484 \nQ 3125 2378 3379 2068 \nQ 3634 1759 3634 1313 \nQ 3634 634 3220 271 \nQ 2806 -91 2034 -91 \nQ 1263 -91 848 271 \nQ 434 634 434 1313 \nQ 434 1759 690 2068 \nQ 947 2378 1403 2484 \nz\nM 1172 3481 \nQ 1172 3119 1398 2916 \nQ 1625 2713 2034 2713 \nQ 2441 2713 2670 2916 \nQ 2900 3119 2900 3481 \nQ 2900 3844 2670 4047 \nQ 2441 4250 2034 4250 \nQ 1625 4250 1398 4047 \nQ 1172 3844 1172 3481 \nz\n\" transform=\"scale(0.015625)\"/>\n       </defs>\n       <use xlink:href=\"#DejaVuSans-38\"/>\n      </g>\n     </g>\n    </g>\n    <g id=\"xtick_6\">\n     <g id=\"line2d_6\">\n      <g>\n       <use xlink:href=\"#mfb3d88cf06\" x=\"225.403125\" y=\"145.8\" style=\"stroke: #000000; stroke-width: 0.8\"/>\n      </g>\n     </g>\n     <g id=\"text_6\">\n      <!-- 10 -->\n      <g transform=\"translate(219.040625 160.398438) scale(0.1 -0.1)\">\n       <defs>\n        <path id=\"DejaVuSans-31\" d=\"M 794 531 \nL 1825 531 \nL 1825 4091 \nL 703 3866 \nL 703 4441 \nL 1819 4666 \nL 2450 4666 \nL 2450 531 \nL 3481 531 \nL 3481 0 \nL 794 0 \nL 794 531 \nz\n\" transform=\"scale(0.015625)\"/>\n       </defs>\n       <use xlink:href=\"#DejaVuSans-31\"/>\n       <use xlink:href=\"#DejaVuSans-30\" x=\"63.623047\"/>\n      </g>\n     </g>\n    </g>\n    <g id=\"text_7\">\n     <!-- epoch -->\n     <g transform=\"translate(112.525 174.076563) scale(0.1 -0.1)\">\n      <defs>\n       <path id=\"DejaVuSans-65\" d=\"M 3597 1894 \nL 3597 1613 \nL 953 1613 \nQ 991 1019 1311 708 \nQ 1631 397 2203 397 \nQ 2534 397 2845 478 \nQ 3156 559 3463 722 \nL 3463 178 \nQ 3153 47 2828 -22 \nQ 2503 -91 2169 -91 \nQ 1331 -91 842 396 \nQ 353 884 353 1716 \nQ 353 2575 817 3079 \nQ 1281 3584 2069 3584 \nQ 2775 3584 3186 3129 \nQ 3597 2675 3597 1894 \nz\nM 3022 2063 \nQ 3016 2534 2758 2815 \nQ 2500 3097 2075 3097 \nQ 1594 3097 1305 2825 \nQ 1016 2553 972 2059 \nL 3022 2063 \nz\n\" transform=\"scale(0.015625)\"/>\n       <path id=\"DejaVuSans-70\" d=\"M 1159 525 \nL 1159 -1331 \nL 581 -1331 \nL 581 3500 \nL 1159 3500 \nL 1159 2969 \nQ 1341 3281 1617 3432 \nQ 1894 3584 2278 3584 \nQ 2916 3584 3314 3078 \nQ 3713 2572 3713 1747 \nQ 3713 922 3314 415 \nQ 2916 -91 2278 -91 \nQ 1894 -91 1617 61 \nQ 1341 213 1159 525 \nz\nM 3116 1747 \nQ 3116 2381 2855 2742 \nQ 2594 3103 2138 3103 \nQ 1681 3103 1420 2742 \nQ 1159 2381 1159 1747 \nQ 1159 1113 1420 752 \nQ 1681 391 2138 391 \nQ 2594 391 2855 752 \nQ 3116 1113 3116 1747 \nz\n\" transform=\"scale(0.015625)\"/>\n       <path id=\"DejaVuSans-6f\" d=\"M 1959 3097 \nQ 1497 3097 1228 2736 \nQ 959 2375 959 1747 \nQ 959 1119 1226 758 \nQ 1494 397 1959 397 \nQ 2419 397 2687 759 \nQ 2956 1122 2956 1747 \nQ 2956 2369 2687 2733 \nQ 2419 3097 1959 3097 \nz\nM 1959 3584 \nQ 2709 3584 3137 3096 \nQ 3566 2609 3566 1747 \nQ 3566 888 3137 398 \nQ 2709 -91 1959 -91 \nQ 1206 -91 779 398 \nQ 353 888 353 1747 \nQ 353 2609 779 3096 \nQ 1206 3584 1959 3584 \nz\n\" transform=\"scale(0.015625)\"/>\n       <path id=\"DejaVuSans-63\" d=\"M 3122 3366 \nL 3122 2828 \nQ 2878 2963 2633 3030 \nQ 2388 3097 2138 3097 \nQ 1578 3097 1268 2742 \nQ 959 2388 959 1747 \nQ 959 1106 1268 751 \nQ 1578 397 2138 397 \nQ 2388 397 2633 464 \nQ 2878 531 3122 666 \nL 3122 134 \nQ 2881 22 2623 -34 \nQ 2366 -91 2075 -91 \nQ 1284 -91 818 406 \nQ 353 903 353 1747 \nQ 353 2603 823 3093 \nQ 1294 3584 2113 3584 \nQ 2378 3584 2631 3529 \nQ 2884 3475 3122 3366 \nz\n\" transform=\"scale(0.015625)\"/>\n       <path id=\"DejaVuSans-68\" d=\"M 3513 2113 \nL 3513 0 \nL 2938 0 \nL 2938 2094 \nQ 2938 2591 2744 2837 \nQ 2550 3084 2163 3084 \nQ 1697 3084 1428 2787 \nQ 1159 2491 1159 1978 \nL 1159 0 \nL 581 0 \nL 581 4863 \nL 1159 4863 \nL 1159 2956 \nQ 1366 3272 1645 3428 \nQ 1925 3584 2291 3584 \nQ 2894 3584 3203 3211 \nQ 3513 2838 3513 2113 \nz\n\" transform=\"scale(0.015625)\"/>\n      </defs>\n      <use xlink:href=\"#DejaVuSans-65\"/>\n      <use xlink:href=\"#DejaVuSans-70\" x=\"61.523438\"/>\n      <use xlink:href=\"#DejaVuSans-6f\" x=\"125\"/>\n      <use xlink:href=\"#DejaVuSans-63\" x=\"186.181641\"/>\n      <use xlink:href=\"#DejaVuSans-68\" x=\"241.162109\"/>\n     </g>\n    </g>\n   </g>\n   <g id=\"matplotlib.axis_2\">\n    <g id=\"ytick_1\">\n     <g id=\"line2d_7\">\n      <defs>\n       <path id=\"mebef176e40\" d=\"M 0 0 \nL -3.5 0 \n\" style=\"stroke: #000000; stroke-width: 0.8\"/>\n      </defs>\n      <g>\n       <use xlink:href=\"#mebef176e40\" x=\"30.103125\" y=\"142.609984\" style=\"stroke: #000000; stroke-width: 0.8\"/>\n      </g>\n     </g>\n     <g id=\"text_8\">\n      <!-- 0.0 -->\n      <g transform=\"translate(7.2 146.409202) scale(0.1 -0.1)\">\n       <defs>\n        <path id=\"DejaVuSans-2e\" d=\"M 684 794 \nL 1344 794 \nL 1344 0 \nL 684 0 \nL 684 794 \nz\n\" transform=\"scale(0.015625)\"/>\n       </defs>\n       <use xlink:href=\"#DejaVuSans-30\"/>\n       <use xlink:href=\"#DejaVuSans-2e\" x=\"63.623047\"/>\n       <use xlink:href=\"#DejaVuSans-30\" x=\"95.410156\"/>\n      </g>\n     </g>\n    </g>\n    <g id=\"ytick_2\">\n     <g id=\"line2d_8\">\n      <g>\n       <use xlink:href=\"#mebef176e40\" x=\"30.103125\" y=\"114.341928\" style=\"stroke: #000000; stroke-width: 0.8\"/>\n      </g>\n     </g>\n     <g id=\"text_9\">\n      <!-- 0.2 -->\n      <g transform=\"translate(7.2 118.141147) scale(0.1 -0.1)\">\n       <use xlink:href=\"#DejaVuSans-30\"/>\n       <use xlink:href=\"#DejaVuSans-2e\" x=\"63.623047\"/>\n       <use xlink:href=\"#DejaVuSans-32\" x=\"95.410156\"/>\n      </g>\n     </g>\n    </g>\n    <g id=\"ytick_3\">\n     <g id=\"line2d_9\">\n      <g>\n       <use xlink:href=\"#mebef176e40\" x=\"30.103125\" y=\"86.073872\" style=\"stroke: #000000; stroke-width: 0.8\"/>\n      </g>\n     </g>\n     <g id=\"text_10\">\n      <!-- 0.4 -->\n      <g transform=\"translate(7.2 89.873091) scale(0.1 -0.1)\">\n       <use xlink:href=\"#DejaVuSans-30\"/>\n       <use xlink:href=\"#DejaVuSans-2e\" x=\"63.623047\"/>\n       <use xlink:href=\"#DejaVuSans-34\" x=\"95.410156\"/>\n      </g>\n     </g>\n    </g>\n    <g id=\"ytick_4\">\n     <g id=\"line2d_10\">\n      <g>\n       <use xlink:href=\"#mebef176e40\" x=\"30.103125\" y=\"57.805816\" style=\"stroke: #000000; stroke-width: 0.8\"/>\n      </g>\n     </g>\n     <g id=\"text_11\">\n      <!-- 0.6 -->\n      <g transform=\"translate(7.2 61.605035) scale(0.1 -0.1)\">\n       <use xlink:href=\"#DejaVuSans-30\"/>\n       <use xlink:href=\"#DejaVuSans-2e\" x=\"63.623047\"/>\n       <use xlink:href=\"#DejaVuSans-36\" x=\"95.410156\"/>\n      </g>\n     </g>\n    </g>\n    <g id=\"ytick_5\">\n     <g id=\"line2d_11\">\n      <g>\n       <use xlink:href=\"#mebef176e40\" x=\"30.103125\" y=\"29.537761\" style=\"stroke: #000000; stroke-width: 0.8\"/>\n      </g>\n     </g>\n     <g id=\"text_12\">\n      <!-- 0.8 -->\n      <g transform=\"translate(7.2 33.336979) scale(0.1 -0.1)\">\n       <use xlink:href=\"#DejaVuSans-30\"/>\n       <use xlink:href=\"#DejaVuSans-2e\" x=\"63.623047\"/>\n       <use xlink:href=\"#DejaVuSans-38\" x=\"95.410156\"/>\n      </g>\n     </g>\n    </g>\n   </g>\n   <g id=\"line2d_12\">\n    <path d=\"M 34.954394 63.1613 \n\" clip-path=\"url(#p74b5bf4557)\" style=\"fill: none; stroke: #1f77b4; stroke-width: 1.5; stroke-linecap: square\"/>\n   </g>\n   <g id=\"line2d_13\">\n    <path d=\"M 34.954394 63.1613 \nL 44.698573 93.746976 \n\" clip-path=\"url(#p74b5bf4557)\" style=\"fill: none; stroke: #1f77b4; stroke-width: 1.5; stroke-linecap: square\"/>\n   </g>\n   <g id=\"line2d_14\">\n    <path d=\"M 34.954394 63.1613 \nL 44.698573 93.746976 \n\" clip-path=\"url(#p74b5bf4557)\" style=\"fill: none; stroke: #1f77b4; stroke-width: 1.5; stroke-linecap: square\"/>\n   </g>\n   <g id=\"line2d_15\">\n    <path d=\"M 49.633125 90.685718 \n\" clip-path=\"url(#p74b5bf4557)\" style=\"fill: none; stroke-dasharray: 5.55,2.4; stroke-dashoffset: 0; stroke: #ff7f0e; stroke-width: 1.5\"/>\n   </g>\n   <g id=\"line2d_16\"/>\n   <g id=\"line2d_17\">\n    <path d=\"M 34.954394 63.1613 \nL 44.698573 93.746976 \n\" clip-path=\"url(#p74b5bf4557)\" style=\"fill: none; stroke: #1f77b4; stroke-width: 1.5; stroke-linecap: square\"/>\n   </g>\n   <g id=\"line2d_18\">\n    <path d=\"M 49.633125 90.685718 \n\" clip-path=\"url(#p74b5bf4557)\" style=\"fill: none; stroke-dasharray: 5.55,2.4; stroke-dashoffset: 0; stroke: #ff7f0e; stroke-width: 1.5\"/>\n   </g>\n   <g id=\"line2d_19\">\n    <path d=\"M 49.633125 20.516695 \n\" clip-path=\"url(#p74b5bf4557)\" style=\"fill: none; stroke-dasharray: 9.6,2.4,1.5,2.4; stroke-dashoffset: 0; stroke: #2ca02c; stroke-width: 1.5\"/>\n   </g>\n   <g id=\"line2d_20\">\n    <path d=\"M 34.954394 63.1613 \nL 44.698573 93.746976 \nL 54.442752 103.86026 \n\" clip-path=\"url(#p74b5bf4557)\" style=\"fill: none; stroke: #1f77b4; stroke-width: 1.5; stroke-linecap: square\"/>\n   </g>\n   <g id=\"line2d_21\">\n    <path d=\"M 49.633125 90.685718 \n\" clip-path=\"url(#p74b5bf4557)\" style=\"fill: none; stroke-dasharray: 5.55,2.4; stroke-dashoffset: 0; stroke: #ff7f0e; stroke-width: 1.5\"/>\n   </g>\n   <g id=\"line2d_22\">\n    <path d=\"M 49.633125 20.516695 \n\" clip-path=\"url(#p74b5bf4557)\" style=\"fill: none; stroke-dasharray: 9.6,2.4,1.5,2.4; stroke-dashoffset: 0; stroke: #2ca02c; stroke-width: 1.5\"/>\n   </g>\n   <g id=\"line2d_23\">\n    <path d=\"M 34.954394 63.1613 \nL 44.698573 93.746976 \nL 54.442752 103.86026 \nL 64.186931 106.402557 \n\" clip-path=\"url(#p74b5bf4557)\" style=\"fill: none; stroke: #1f77b4; stroke-width: 1.5; stroke-linecap: square\"/>\n   </g>\n   <g id=\"line2d_24\">\n    <path d=\"M 49.633125 90.685718 \n\" clip-path=\"url(#p74b5bf4557)\" style=\"fill: none; stroke-dasharray: 5.55,2.4; stroke-dashoffset: 0; stroke: #ff7f0e; stroke-width: 1.5\"/>\n   </g>\n   <g id=\"line2d_25\">\n    <path d=\"M 49.633125 20.516695 \n\" clip-path=\"url(#p74b5bf4557)\" style=\"fill: none; stroke-dasharray: 9.6,2.4,1.5,2.4; stroke-dashoffset: 0; stroke: #2ca02c; stroke-width: 1.5\"/>\n   </g>\n   <g id=\"line2d_26\">\n    <path d=\"M 34.954394 63.1613 \nL 44.698573 93.746976 \nL 54.442752 103.86026 \nL 64.186931 106.402557 \n\" clip-path=\"url(#p74b5bf4557)\" style=\"fill: none; stroke: #1f77b4; stroke-width: 1.5; stroke-linecap: square\"/>\n   </g>\n   <g id=\"line2d_27\">\n    <path d=\"M 49.633125 90.685718 \nL 69.163125 99.902147 \n\" clip-path=\"url(#p74b5bf4557)\" style=\"fill: none; stroke-dasharray: 5.55,2.4; stroke-dashoffset: 0; stroke: #ff7f0e; stroke-width: 1.5\"/>\n   </g>\n   <g id=\"line2d_28\">\n    <path d=\"M 49.633125 20.516695 \n\" clip-path=\"url(#p74b5bf4557)\" style=\"fill: none; stroke-dasharray: 9.6,2.4,1.5,2.4; stroke-dashoffset: 0; stroke: #2ca02c; stroke-width: 1.5\"/>\n   </g>\n   <g id=\"line2d_29\">\n    <path d=\"M 34.954394 63.1613 \nL 44.698573 93.746976 \nL 54.442752 103.86026 \nL 64.186931 106.402557 \n\" clip-path=\"url(#p74b5bf4557)\" style=\"fill: none; stroke: #1f77b4; stroke-width: 1.5; stroke-linecap: square\"/>\n   </g>\n   <g id=\"line2d_30\">\n    <path d=\"M 49.633125 90.685718 \nL 69.163125 99.902147 \n\" clip-path=\"url(#p74b5bf4557)\" style=\"fill: none; stroke-dasharray: 5.55,2.4; stroke-dashoffset: 0; stroke: #ff7f0e; stroke-width: 1.5\"/>\n   </g>\n   <g id=\"line2d_31\">\n    <path d=\"M 49.633125 20.516695 \nL 69.163125 16.82664 \n\" clip-path=\"url(#p74b5bf4557)\" style=\"fill: none; stroke-dasharray: 9.6,2.4,1.5,2.4; stroke-dashoffset: 0; stroke: #2ca02c; stroke-width: 1.5\"/>\n   </g>\n   <g id=\"line2d_32\">\n    <path d=\"M 34.954394 63.1613 \nL 44.698573 93.746976 \nL 54.442752 103.86026 \nL 64.186931 106.402557 \nL 73.93111 113.517122 \n\" clip-path=\"url(#p74b5bf4557)\" style=\"fill: none; stroke: #1f77b4; stroke-width: 1.5; stroke-linecap: square\"/>\n   </g>\n   <g id=\"line2d_33\">\n    <path d=\"M 49.633125 90.685718 \nL 69.163125 99.902147 \n\" clip-path=\"url(#p74b5bf4557)\" style=\"fill: none; stroke-dasharray: 5.55,2.4; stroke-dashoffset: 0; stroke: #ff7f0e; stroke-width: 1.5\"/>\n   </g>\n   <g id=\"line2d_34\">\n    <path d=\"M 49.633125 20.516695 \nL 69.163125 16.82664 \n\" clip-path=\"url(#p74b5bf4557)\" style=\"fill: none; stroke-dasharray: 9.6,2.4,1.5,2.4; stroke-dashoffset: 0; stroke: #2ca02c; stroke-width: 1.5\"/>\n   </g>\n   <g id=\"line2d_35\">\n    <path d=\"M 34.954394 63.1613 \nL 44.698573 93.746976 \nL 54.442752 103.86026 \nL 64.186931 106.402557 \nL 73.93111 113.517122 \nL 83.675289 113.21405 \n\" clip-path=\"url(#p74b5bf4557)\" style=\"fill: none; stroke: #1f77b4; stroke-width: 1.5; stroke-linecap: square\"/>\n   </g>\n   <g id=\"line2d_36\">\n    <path d=\"M 49.633125 90.685718 \nL 69.163125 99.902147 \n\" clip-path=\"url(#p74b5bf4557)\" style=\"fill: none; stroke-dasharray: 5.55,2.4; stroke-dashoffset: 0; stroke: #ff7f0e; stroke-width: 1.5\"/>\n   </g>\n   <g id=\"line2d_37\">\n    <path d=\"M 49.633125 20.516695 \nL 69.163125 16.82664 \n\" clip-path=\"url(#p74b5bf4557)\" style=\"fill: none; stroke-dasharray: 9.6,2.4,1.5,2.4; stroke-dashoffset: 0; stroke: #2ca02c; stroke-width: 1.5\"/>\n   </g>\n   <g id=\"line2d_38\">\n    <path d=\"M 34.954394 63.1613 \nL 44.698573 93.746976 \nL 54.442752 103.86026 \nL 64.186931 106.402557 \nL 73.93111 113.517122 \nL 83.675289 113.21405 \n\" clip-path=\"url(#p74b5bf4557)\" style=\"fill: none; stroke: #1f77b4; stroke-width: 1.5; stroke-linecap: square\"/>\n   </g>\n   <g id=\"line2d_39\">\n    <path d=\"M 49.633125 90.685718 \nL 69.163125 99.902147 \nL 88.693125 100.217929 \n\" clip-path=\"url(#p74b5bf4557)\" style=\"fill: none; stroke-dasharray: 5.55,2.4; stroke-dashoffset: 0; stroke: #ff7f0e; stroke-width: 1.5\"/>\n   </g>\n   <g id=\"line2d_40\">\n    <path d=\"M 49.633125 20.516695 \nL 69.163125 16.82664 \n\" clip-path=\"url(#p74b5bf4557)\" style=\"fill: none; stroke-dasharray: 9.6,2.4,1.5,2.4; stroke-dashoffset: 0; stroke: #2ca02c; stroke-width: 1.5\"/>\n   </g>\n   <g id=\"line2d_41\">\n    <path d=\"M 34.954394 63.1613 \nL 44.698573 93.746976 \nL 54.442752 103.86026 \nL 64.186931 106.402557 \nL 73.93111 113.517122 \nL 83.675289 113.21405 \n\" clip-path=\"url(#p74b5bf4557)\" style=\"fill: none; stroke: #1f77b4; stroke-width: 1.5; stroke-linecap: square\"/>\n   </g>\n   <g id=\"line2d_42\">\n    <path d=\"M 49.633125 90.685718 \nL 69.163125 99.902147 \nL 88.693125 100.217929 \n\" clip-path=\"url(#p74b5bf4557)\" style=\"fill: none; stroke-dasharray: 5.55,2.4; stroke-dashoffset: 0; stroke: #ff7f0e; stroke-width: 1.5\"/>\n   </g>\n   <g id=\"line2d_43\">\n    <path d=\"M 49.633125 20.516695 \nL 69.163125 16.82664 \nL 88.693125 16.658911 \n\" clip-path=\"url(#p74b5bf4557)\" style=\"fill: none; stroke-dasharray: 9.6,2.4,1.5,2.4; stroke-dashoffset: 0; stroke: #2ca02c; stroke-width: 1.5\"/>\n   </g>\n   <g id=\"line2d_44\">\n    <path d=\"M 34.954394 63.1613 \nL 44.698573 93.746976 \nL 54.442752 103.86026 \nL 64.186931 106.402557 \nL 73.93111 113.517122 \nL 83.675289 113.21405 \nL 93.419468 119.903281 \n\" clip-path=\"url(#p74b5bf4557)\" style=\"fill: none; stroke: #1f77b4; stroke-width: 1.5; stroke-linecap: square\"/>\n   </g>\n   <g id=\"line2d_45\">\n    <path d=\"M 49.633125 90.685718 \nL 69.163125 99.902147 \nL 88.693125 100.217929 \n\" clip-path=\"url(#p74b5bf4557)\" style=\"fill: none; stroke-dasharray: 5.55,2.4; stroke-dashoffset: 0; stroke: #ff7f0e; stroke-width: 1.5\"/>\n   </g>\n   <g id=\"line2d_46\">\n    <path d=\"M 49.633125 20.516695 \nL 69.163125 16.82664 \nL 88.693125 16.658911 \n\" clip-path=\"url(#p74b5bf4557)\" style=\"fill: none; stroke-dasharray: 9.6,2.4,1.5,2.4; stroke-dashoffset: 0; stroke: #2ca02c; stroke-width: 1.5\"/>\n   </g>\n   <g id=\"line2d_47\">\n    <path d=\"M 34.954394 63.1613 \nL 44.698573 93.746976 \nL 54.442752 103.86026 \nL 64.186931 106.402557 \nL 73.93111 113.517122 \nL 83.675289 113.21405 \nL 93.419468 119.903281 \nL 103.163647 119.034757 \n\" clip-path=\"url(#p74b5bf4557)\" style=\"fill: none; stroke: #1f77b4; stroke-width: 1.5; stroke-linecap: square\"/>\n   </g>\n   <g id=\"line2d_48\">\n    <path d=\"M 49.633125 90.685718 \nL 69.163125 99.902147 \nL 88.693125 100.217929 \n\" clip-path=\"url(#p74b5bf4557)\" style=\"fill: none; stroke-dasharray: 5.55,2.4; stroke-dashoffset: 0; stroke: #ff7f0e; stroke-width: 1.5\"/>\n   </g>\n   <g id=\"line2d_49\">\n    <path d=\"M 49.633125 20.516695 \nL 69.163125 16.82664 \nL 88.693125 16.658911 \n\" clip-path=\"url(#p74b5bf4557)\" style=\"fill: none; stroke-dasharray: 9.6,2.4,1.5,2.4; stroke-dashoffset: 0; stroke: #2ca02c; stroke-width: 1.5\"/>\n   </g>\n   <g id=\"line2d_50\">\n    <path d=\"M 34.954394 63.1613 \nL 44.698573 93.746976 \nL 54.442752 103.86026 \nL 64.186931 106.402557 \nL 73.93111 113.517122 \nL 83.675289 113.21405 \nL 93.419468 119.903281 \nL 103.163647 119.034757 \n\" clip-path=\"url(#p74b5bf4557)\" style=\"fill: none; stroke: #1f77b4; stroke-width: 1.5; stroke-linecap: square\"/>\n   </g>\n   <g id=\"line2d_51\">\n    <path d=\"M 49.633125 90.685718 \nL 69.163125 99.902147 \nL 88.693125 100.217929 \nL 108.223125 104.927191 \n\" clip-path=\"url(#p74b5bf4557)\" style=\"fill: none; stroke-dasharray: 5.55,2.4; stroke-dashoffset: 0; stroke: #ff7f0e; stroke-width: 1.5\"/>\n   </g>\n   <g id=\"line2d_52\">\n    <path d=\"M 49.633125 20.516695 \nL 69.163125 16.82664 \nL 88.693125 16.658911 \n\" clip-path=\"url(#p74b5bf4557)\" style=\"fill: none; stroke-dasharray: 9.6,2.4,1.5,2.4; stroke-dashoffset: 0; stroke: #2ca02c; stroke-width: 1.5\"/>\n   </g>\n   <g id=\"line2d_53\">\n    <path d=\"M 34.954394 63.1613 \nL 44.698573 93.746976 \nL 54.442752 103.86026 \nL 64.186931 106.402557 \nL 73.93111 113.517122 \nL 83.675289 113.21405 \nL 93.419468 119.903281 \nL 103.163647 119.034757 \n\" clip-path=\"url(#p74b5bf4557)\" style=\"fill: none; stroke: #1f77b4; stroke-width: 1.5; stroke-linecap: square\"/>\n   </g>\n   <g id=\"line2d_54\">\n    <path d=\"M 49.633125 90.685718 \nL 69.163125 99.902147 \nL 88.693125 100.217929 \nL 108.223125 104.927191 \n\" clip-path=\"url(#p74b5bf4557)\" style=\"fill: none; stroke-dasharray: 5.55,2.4; stroke-dashoffset: 0; stroke: #ff7f0e; stroke-width: 1.5\"/>\n   </g>\n   <g id=\"line2d_55\">\n    <path d=\"M 49.633125 20.516695 \nL 69.163125 16.82664 \nL 88.693125 16.658911 \nL 108.223125 14.590243 \n\" clip-path=\"url(#p74b5bf4557)\" style=\"fill: none; stroke-dasharray: 9.6,2.4,1.5,2.4; stroke-dashoffset: 0; stroke: #2ca02c; stroke-width: 1.5\"/>\n   </g>\n   <g id=\"line2d_56\">\n    <path d=\"M 34.954394 63.1613 \nL 44.698573 93.746976 \nL 54.442752 103.86026 \nL 64.186931 106.402557 \nL 73.93111 113.517122 \nL 83.675289 113.21405 \nL 93.419468 119.903281 \nL 103.163647 119.034757 \nL 112.907826 125.115016 \n\" clip-path=\"url(#p74b5bf4557)\" style=\"fill: none; stroke: #1f77b4; stroke-width: 1.5; stroke-linecap: square\"/>\n   </g>\n   <g id=\"line2d_57\">\n    <path d=\"M 49.633125 90.685718 \nL 69.163125 99.902147 \nL 88.693125 100.217929 \nL 108.223125 104.927191 \n\" clip-path=\"url(#p74b5bf4557)\" style=\"fill: none; stroke-dasharray: 5.55,2.4; stroke-dashoffset: 0; stroke: #ff7f0e; stroke-width: 1.5\"/>\n   </g>\n   <g id=\"line2d_58\">\n    <path d=\"M 49.633125 20.516695 \nL 69.163125 16.82664 \nL 88.693125 16.658911 \nL 108.223125 14.590243 \n\" clip-path=\"url(#p74b5bf4557)\" style=\"fill: none; stroke-dasharray: 9.6,2.4,1.5,2.4; stroke-dashoffset: 0; stroke: #2ca02c; stroke-width: 1.5\"/>\n   </g>\n   <g id=\"line2d_59\">\n    <path d=\"M 34.954394 63.1613 \nL 44.698573 93.746976 \nL 54.442752 103.86026 \nL 64.186931 106.402557 \nL 73.93111 113.517122 \nL 83.675289 113.21405 \nL 93.419468 119.903281 \nL 103.163647 119.034757 \nL 112.907826 125.115016 \nL 122.652006 124.369082 \n\" clip-path=\"url(#p74b5bf4557)\" style=\"fill: none; stroke: #1f77b4; stroke-width: 1.5; stroke-linecap: square\"/>\n   </g>\n   <g id=\"line2d_60\">\n    <path d=\"M 49.633125 90.685718 \nL 69.163125 99.902147 \nL 88.693125 100.217929 \nL 108.223125 104.927191 \n\" clip-path=\"url(#p74b5bf4557)\" style=\"fill: none; stroke-dasharray: 5.55,2.4; stroke-dashoffset: 0; stroke: #ff7f0e; stroke-width: 1.5\"/>\n   </g>\n   <g id=\"line2d_61\">\n    <path d=\"M 49.633125 20.516695 \nL 69.163125 16.82664 \nL 88.693125 16.658911 \nL 108.223125 14.590243 \n\" clip-path=\"url(#p74b5bf4557)\" style=\"fill: none; stroke-dasharray: 9.6,2.4,1.5,2.4; stroke-dashoffset: 0; stroke: #2ca02c; stroke-width: 1.5\"/>\n   </g>\n   <g id=\"line2d_62\">\n    <path d=\"M 34.954394 63.1613 \nL 44.698573 93.746976 \nL 54.442752 103.86026 \nL 64.186931 106.402557 \nL 73.93111 113.517122 \nL 83.675289 113.21405 \nL 93.419468 119.903281 \nL 103.163647 119.034757 \nL 112.907826 125.115016 \nL 122.652006 124.369082 \n\" clip-path=\"url(#p74b5bf4557)\" style=\"fill: none; stroke: #1f77b4; stroke-width: 1.5; stroke-linecap: square\"/>\n   </g>\n   <g id=\"line2d_63\">\n    <path d=\"M 49.633125 90.685718 \nL 69.163125 99.902147 \nL 88.693125 100.217929 \nL 108.223125 104.927191 \nL 127.753125 98.23077 \n\" clip-path=\"url(#p74b5bf4557)\" style=\"fill: none; stroke-dasharray: 5.55,2.4; stroke-dashoffset: 0; stroke: #ff7f0e; stroke-width: 1.5\"/>\n   </g>\n   <g id=\"line2d_64\">\n    <path d=\"M 49.633125 20.516695 \nL 69.163125 16.82664 \nL 88.693125 16.658911 \nL 108.223125 14.590243 \n\" clip-path=\"url(#p74b5bf4557)\" style=\"fill: none; stroke-dasharray: 9.6,2.4,1.5,2.4; stroke-dashoffset: 0; stroke: #2ca02c; stroke-width: 1.5\"/>\n   </g>\n   <g id=\"line2d_65\">\n    <path d=\"M 34.954394 63.1613 \nL 44.698573 93.746976 \nL 54.442752 103.86026 \nL 64.186931 106.402557 \nL 73.93111 113.517122 \nL 83.675289 113.21405 \nL 93.419468 119.903281 \nL 103.163647 119.034757 \nL 112.907826 125.115016 \nL 122.652006 124.369082 \n\" clip-path=\"url(#p74b5bf4557)\" style=\"fill: none; stroke: #1f77b4; stroke-width: 1.5; stroke-linecap: square\"/>\n   </g>\n   <g id=\"line2d_66\">\n    <path d=\"M 49.633125 90.685718 \nL 69.163125 99.902147 \nL 88.693125 100.217929 \nL 108.223125 104.927191 \nL 127.753125 98.23077 \n\" clip-path=\"url(#p74b5bf4557)\" style=\"fill: none; stroke-dasharray: 5.55,2.4; stroke-dashoffset: 0; stroke: #ff7f0e; stroke-width: 1.5\"/>\n   </g>\n   <g id=\"line2d_67\">\n    <path d=\"M 49.633125 20.516695 \nL 69.163125 16.82664 \nL 88.693125 16.658911 \nL 108.223125 14.590243 \nL 127.753125 17.27392 \n\" clip-path=\"url(#p74b5bf4557)\" style=\"fill: none; stroke-dasharray: 9.6,2.4,1.5,2.4; stroke-dashoffset: 0; stroke: #2ca02c; stroke-width: 1.5\"/>\n   </g>\n   <g id=\"line2d_68\">\n    <path d=\"M 34.954394 63.1613 \nL 44.698573 93.746976 \nL 54.442752 103.86026 \nL 64.186931 106.402557 \nL 73.93111 113.517122 \nL 83.675289 113.21405 \nL 93.419468 119.903281 \nL 103.163647 119.034757 \nL 112.907826 125.115016 \nL 122.652006 124.369082 \nL 132.396185 129.478486 \n\" clip-path=\"url(#p74b5bf4557)\" style=\"fill: none; stroke: #1f77b4; stroke-width: 1.5; stroke-linecap: square\"/>\n   </g>\n   <g id=\"line2d_69\">\n    <path d=\"M 49.633125 90.685718 \nL 69.163125 99.902147 \nL 88.693125 100.217929 \nL 108.223125 104.927191 \nL 127.753125 98.23077 \n\" clip-path=\"url(#p74b5bf4557)\" style=\"fill: none; stroke-dasharray: 5.55,2.4; stroke-dashoffset: 0; stroke: #ff7f0e; stroke-width: 1.5\"/>\n   </g>\n   <g id=\"line2d_70\">\n    <path d=\"M 49.633125 20.516695 \nL 69.163125 16.82664 \nL 88.693125 16.658911 \nL 108.223125 14.590243 \nL 127.753125 17.27392 \n\" clip-path=\"url(#p74b5bf4557)\" style=\"fill: none; stroke-dasharray: 9.6,2.4,1.5,2.4; stroke-dashoffset: 0; stroke: #2ca02c; stroke-width: 1.5\"/>\n   </g>\n   <g id=\"line2d_71\">\n    <path d=\"M 34.954394 63.1613 \nL 44.698573 93.746976 \nL 54.442752 103.86026 \nL 64.186931 106.402557 \nL 73.93111 113.517122 \nL 83.675289 113.21405 \nL 93.419468 119.903281 \nL 103.163647 119.034757 \nL 112.907826 125.115016 \nL 122.652006 124.369082 \nL 132.396185 129.478486 \nL 142.140364 128.629037 \n\" clip-path=\"url(#p74b5bf4557)\" style=\"fill: none; stroke: #1f77b4; stroke-width: 1.5; stroke-linecap: square\"/>\n   </g>\n   <g id=\"line2d_72\">\n    <path d=\"M 49.633125 90.685718 \nL 69.163125 99.902147 \nL 88.693125 100.217929 \nL 108.223125 104.927191 \nL 127.753125 98.23077 \n\" clip-path=\"url(#p74b5bf4557)\" style=\"fill: none; stroke-dasharray: 5.55,2.4; stroke-dashoffset: 0; stroke: #ff7f0e; stroke-width: 1.5\"/>\n   </g>\n   <g id=\"line2d_73\">\n    <path d=\"M 49.633125 20.516695 \nL 69.163125 16.82664 \nL 88.693125 16.658911 \nL 108.223125 14.590243 \nL 127.753125 17.27392 \n\" clip-path=\"url(#p74b5bf4557)\" style=\"fill: none; stroke-dasharray: 9.6,2.4,1.5,2.4; stroke-dashoffset: 0; stroke: #2ca02c; stroke-width: 1.5\"/>\n   </g>\n   <g id=\"line2d_74\">\n    <path d=\"M 34.954394 63.1613 \nL 44.698573 93.746976 \nL 54.442752 103.86026 \nL 64.186931 106.402557 \nL 73.93111 113.517122 \nL 83.675289 113.21405 \nL 93.419468 119.903281 \nL 103.163647 119.034757 \nL 112.907826 125.115016 \nL 122.652006 124.369082 \nL 132.396185 129.478486 \nL 142.140364 128.629037 \n\" clip-path=\"url(#p74b5bf4557)\" style=\"fill: none; stroke: #1f77b4; stroke-width: 1.5; stroke-linecap: square\"/>\n   </g>\n   <g id=\"line2d_75\">\n    <path d=\"M 49.633125 90.685718 \nL 69.163125 99.902147 \nL 88.693125 100.217929 \nL 108.223125 104.927191 \nL 127.753125 98.23077 \nL 147.283125 80.728712 \n\" clip-path=\"url(#p74b5bf4557)\" style=\"fill: none; stroke-dasharray: 5.55,2.4; stroke-dashoffset: 0; stroke: #ff7f0e; stroke-width: 1.5\"/>\n   </g>\n   <g id=\"line2d_76\">\n    <path d=\"M 49.633125 20.516695 \nL 69.163125 16.82664 \nL 88.693125 16.658911 \nL 108.223125 14.590243 \nL 127.753125 17.27392 \n\" clip-path=\"url(#p74b5bf4557)\" style=\"fill: none; stroke-dasharray: 9.6,2.4,1.5,2.4; stroke-dashoffset: 0; stroke: #2ca02c; stroke-width: 1.5\"/>\n   </g>\n   <g id=\"line2d_77\">\n    <path d=\"M 34.954394 63.1613 \nL 44.698573 93.746976 \nL 54.442752 103.86026 \nL 64.186931 106.402557 \nL 73.93111 113.517122 \nL 83.675289 113.21405 \nL 93.419468 119.903281 \nL 103.163647 119.034757 \nL 112.907826 125.115016 \nL 122.652006 124.369082 \nL 132.396185 129.478486 \nL 142.140364 128.629037 \n\" clip-path=\"url(#p74b5bf4557)\" style=\"fill: none; stroke: #1f77b4; stroke-width: 1.5; stroke-linecap: square\"/>\n   </g>\n   <g id=\"line2d_78\">\n    <path d=\"M 49.633125 90.685718 \nL 69.163125 99.902147 \nL 88.693125 100.217929 \nL 108.223125 104.927191 \nL 127.753125 98.23077 \nL 147.283125 80.728712 \n\" clip-path=\"url(#p74b5bf4557)\" style=\"fill: none; stroke-dasharray: 5.55,2.4; stroke-dashoffset: 0; stroke: #ff7f0e; stroke-width: 1.5\"/>\n   </g>\n   <g id=\"line2d_79\">\n    <path d=\"M 49.633125 20.516695 \nL 69.163125 16.82664 \nL 88.693125 16.658911 \nL 108.223125 14.590243 \nL 127.753125 17.27392 \nL 147.283125 21.411254 \n\" clip-path=\"url(#p74b5bf4557)\" style=\"fill: none; stroke-dasharray: 9.6,2.4,1.5,2.4; stroke-dashoffset: 0; stroke: #2ca02c; stroke-width: 1.5\"/>\n   </g>\n   <g id=\"line2d_80\">\n    <path d=\"M 34.954394 63.1613 \nL 44.698573 93.746976 \nL 54.442752 103.86026 \nL 64.186931 106.402557 \nL 73.93111 113.517122 \nL 83.675289 113.21405 \nL 93.419468 119.903281 \nL 103.163647 119.034757 \nL 112.907826 125.115016 \nL 122.652006 124.369082 \nL 132.396185 129.478486 \nL 142.140364 128.629037 \nL 151.884543 133.18198 \n\" clip-path=\"url(#p74b5bf4557)\" style=\"fill: none; stroke: #1f77b4; stroke-width: 1.5; stroke-linecap: square\"/>\n   </g>\n   <g id=\"line2d_81\">\n    <path d=\"M 49.633125 90.685718 \nL 69.163125 99.902147 \nL 88.693125 100.217929 \nL 108.223125 104.927191 \nL 127.753125 98.23077 \nL 147.283125 80.728712 \n\" clip-path=\"url(#p74b5bf4557)\" style=\"fill: none; stroke-dasharray: 5.55,2.4; stroke-dashoffset: 0; stroke: #ff7f0e; stroke-width: 1.5\"/>\n   </g>\n   <g id=\"line2d_82\">\n    <path d=\"M 49.633125 20.516695 \nL 69.163125 16.82664 \nL 88.693125 16.658911 \nL 108.223125 14.590243 \nL 127.753125 17.27392 \nL 147.283125 21.411254 \n\" clip-path=\"url(#p74b5bf4557)\" style=\"fill: none; stroke-dasharray: 9.6,2.4,1.5,2.4; stroke-dashoffset: 0; stroke: #2ca02c; stroke-width: 1.5\"/>\n   </g>\n   <g id=\"line2d_83\">\n    <path d=\"M 34.954394 63.1613 \nL 44.698573 93.746976 \nL 54.442752 103.86026 \nL 64.186931 106.402557 \nL 73.93111 113.517122 \nL 83.675289 113.21405 \nL 93.419468 119.903281 \nL 103.163647 119.034757 \nL 112.907826 125.115016 \nL 122.652006 124.369082 \nL 132.396185 129.478486 \nL 142.140364 128.629037 \nL 151.884543 133.18198 \nL 161.628722 132.071164 \n\" clip-path=\"url(#p74b5bf4557)\" style=\"fill: none; stroke: #1f77b4; stroke-width: 1.5; stroke-linecap: square\"/>\n   </g>\n   <g id=\"line2d_84\">\n    <path d=\"M 49.633125 90.685718 \nL 69.163125 99.902147 \nL 88.693125 100.217929 \nL 108.223125 104.927191 \nL 127.753125 98.23077 \nL 147.283125 80.728712 \n\" clip-path=\"url(#p74b5bf4557)\" style=\"fill: none; stroke-dasharray: 5.55,2.4; stroke-dashoffset: 0; stroke: #ff7f0e; stroke-width: 1.5\"/>\n   </g>\n   <g id=\"line2d_85\">\n    <path d=\"M 49.633125 20.516695 \nL 69.163125 16.82664 \nL 88.693125 16.658911 \nL 108.223125 14.590243 \nL 127.753125 17.27392 \nL 147.283125 21.411254 \n\" clip-path=\"url(#p74b5bf4557)\" style=\"fill: none; stroke-dasharray: 9.6,2.4,1.5,2.4; stroke-dashoffset: 0; stroke: #2ca02c; stroke-width: 1.5\"/>\n   </g>\n   <g id=\"line2d_86\">\n    <path d=\"M 34.954394 63.1613 \nL 44.698573 93.746976 \nL 54.442752 103.86026 \nL 64.186931 106.402557 \nL 73.93111 113.517122 \nL 83.675289 113.21405 \nL 93.419468 119.903281 \nL 103.163647 119.034757 \nL 112.907826 125.115016 \nL 122.652006 124.369082 \nL 132.396185 129.478486 \nL 142.140364 128.629037 \nL 151.884543 133.18198 \nL 161.628722 132.071164 \n\" clip-path=\"url(#p74b5bf4557)\" style=\"fill: none; stroke: #1f77b4; stroke-width: 1.5; stroke-linecap: square\"/>\n   </g>\n   <g id=\"line2d_87\">\n    <path d=\"M 49.633125 90.685718 \nL 69.163125 99.902147 \nL 88.693125 100.217929 \nL 108.223125 104.927191 \nL 127.753125 98.23077 \nL 147.283125 80.728712 \nL 166.813125 103.085692 \n\" clip-path=\"url(#p74b5bf4557)\" style=\"fill: none; stroke-dasharray: 5.55,2.4; stroke-dashoffset: 0; stroke: #ff7f0e; stroke-width: 1.5\"/>\n   </g>\n   <g id=\"line2d_88\">\n    <path d=\"M 49.633125 20.516695 \nL 69.163125 16.82664 \nL 88.693125 16.658911 \nL 108.223125 14.590243 \nL 127.753125 17.27392 \nL 147.283125 21.411254 \n\" clip-path=\"url(#p74b5bf4557)\" style=\"fill: none; stroke-dasharray: 9.6,2.4,1.5,2.4; stroke-dashoffset: 0; stroke: #2ca02c; stroke-width: 1.5\"/>\n   </g>\n   <g id=\"line2d_89\">\n    <path d=\"M 34.954394 63.1613 \nL 44.698573 93.746976 \nL 54.442752 103.86026 \nL 64.186931 106.402557 \nL 73.93111 113.517122 \nL 83.675289 113.21405 \nL 93.419468 119.903281 \nL 103.163647 119.034757 \nL 112.907826 125.115016 \nL 122.652006 124.369082 \nL 132.396185 129.478486 \nL 142.140364 128.629037 \nL 151.884543 133.18198 \nL 161.628722 132.071164 \n\" clip-path=\"url(#p74b5bf4557)\" style=\"fill: none; stroke: #1f77b4; stroke-width: 1.5; stroke-linecap: square\"/>\n   </g>\n   <g id=\"line2d_90\">\n    <path d=\"M 49.633125 90.685718 \nL 69.163125 99.902147 \nL 88.693125 100.217929 \nL 108.223125 104.927191 \nL 127.753125 98.23077 \nL 147.283125 80.728712 \nL 166.813125 103.085692 \n\" clip-path=\"url(#p74b5bf4557)\" style=\"fill: none; stroke-dasharray: 5.55,2.4; stroke-dashoffset: 0; stroke: #ff7f0e; stroke-width: 1.5\"/>\n   </g>\n   <g id=\"line2d_91\">\n    <path d=\"M 49.633125 20.516695 \nL 69.163125 16.82664 \nL 88.693125 16.658911 \nL 108.223125 14.590243 \nL 127.753125 17.27392 \nL 147.283125 21.411254 \nL 166.813125 13.5 \n\" clip-path=\"url(#p74b5bf4557)\" style=\"fill: none; stroke-dasharray: 9.6,2.4,1.5,2.4; stroke-dashoffset: 0; stroke: #2ca02c; stroke-width: 1.5\"/>\n   </g>\n   <g id=\"line2d_92\">\n    <path d=\"M 34.954394 63.1613 \nL 44.698573 93.746976 \nL 54.442752 103.86026 \nL 64.186931 106.402557 \nL 73.93111 113.517122 \nL 83.675289 113.21405 \nL 93.419468 119.903281 \nL 103.163647 119.034757 \nL 112.907826 125.115016 \nL 122.652006 124.369082 \nL 132.396185 129.478486 \nL 142.140364 128.629037 \nL 151.884543 133.18198 \nL 161.628722 132.071164 \nL 171.372901 136.002733 \n\" clip-path=\"url(#p74b5bf4557)\" style=\"fill: none; stroke: #1f77b4; stroke-width: 1.5; stroke-linecap: square\"/>\n   </g>\n   <g id=\"line2d_93\">\n    <path d=\"M 49.633125 90.685718 \nL 69.163125 99.902147 \nL 88.693125 100.217929 \nL 108.223125 104.927191 \nL 127.753125 98.23077 \nL 147.283125 80.728712 \nL 166.813125 103.085692 \n\" clip-path=\"url(#p74b5bf4557)\" style=\"fill: none; stroke-dasharray: 5.55,2.4; stroke-dashoffset: 0; stroke: #ff7f0e; stroke-width: 1.5\"/>\n   </g>\n   <g id=\"line2d_94\">\n    <path d=\"M 49.633125 20.516695 \nL 69.163125 16.82664 \nL 88.693125 16.658911 \nL 108.223125 14.590243 \nL 127.753125 17.27392 \nL 147.283125 21.411254 \nL 166.813125 13.5 \n\" clip-path=\"url(#p74b5bf4557)\" style=\"fill: none; stroke-dasharray: 9.6,2.4,1.5,2.4; stroke-dashoffset: 0; stroke: #2ca02c; stroke-width: 1.5\"/>\n   </g>\n   <g id=\"line2d_95\">\n    <path d=\"M 34.954394 63.1613 \nL 44.698573 93.746976 \nL 54.442752 103.86026 \nL 64.186931 106.402557 \nL 73.93111 113.517122 \nL 83.675289 113.21405 \nL 93.419468 119.903281 \nL 103.163647 119.034757 \nL 112.907826 125.115016 \nL 122.652006 124.369082 \nL 132.396185 129.478486 \nL 142.140364 128.629037 \nL 151.884543 133.18198 \nL 161.628722 132.071164 \nL 171.372901 136.002733 \nL 181.11708 134.495733 \n\" clip-path=\"url(#p74b5bf4557)\" style=\"fill: none; stroke: #1f77b4; stroke-width: 1.5; stroke-linecap: square\"/>\n   </g>\n   <g id=\"line2d_96\">\n    <path d=\"M 49.633125 90.685718 \nL 69.163125 99.902147 \nL 88.693125 100.217929 \nL 108.223125 104.927191 \nL 127.753125 98.23077 \nL 147.283125 80.728712 \nL 166.813125 103.085692 \n\" clip-path=\"url(#p74b5bf4557)\" style=\"fill: none; stroke-dasharray: 5.55,2.4; stroke-dashoffset: 0; stroke: #ff7f0e; stroke-width: 1.5\"/>\n   </g>\n   <g id=\"line2d_97\">\n    <path d=\"M 49.633125 20.516695 \nL 69.163125 16.82664 \nL 88.693125 16.658911 \nL 108.223125 14.590243 \nL 127.753125 17.27392 \nL 147.283125 21.411254 \nL 166.813125 13.5 \n\" clip-path=\"url(#p74b5bf4557)\" style=\"fill: none; stroke-dasharray: 9.6,2.4,1.5,2.4; stroke-dashoffset: 0; stroke: #2ca02c; stroke-width: 1.5\"/>\n   </g>\n   <g id=\"line2d_98\">\n    <path d=\"M 34.954394 63.1613 \nL 44.698573 93.746976 \nL 54.442752 103.86026 \nL 64.186931 106.402557 \nL 73.93111 113.517122 \nL 83.675289 113.21405 \nL 93.419468 119.903281 \nL 103.163647 119.034757 \nL 112.907826 125.115016 \nL 122.652006 124.369082 \nL 132.396185 129.478486 \nL 142.140364 128.629037 \nL 151.884543 133.18198 \nL 161.628722 132.071164 \nL 171.372901 136.002733 \nL 181.11708 134.495733 \n\" clip-path=\"url(#p74b5bf4557)\" style=\"fill: none; stroke: #1f77b4; stroke-width: 1.5; stroke-linecap: square\"/>\n   </g>\n   <g id=\"line2d_99\">\n    <path d=\"M 49.633125 90.685718 \nL 69.163125 99.902147 \nL 88.693125 100.217929 \nL 108.223125 104.927191 \nL 127.753125 98.23077 \nL 147.283125 80.728712 \nL 166.813125 103.085692 \nL 186.343125 98.986337 \n\" clip-path=\"url(#p74b5bf4557)\" style=\"fill: none; stroke-dasharray: 5.55,2.4; stroke-dashoffset: 0; stroke: #ff7f0e; stroke-width: 1.5\"/>\n   </g>\n   <g id=\"line2d_100\">\n    <path d=\"M 49.633125 20.516695 \nL 69.163125 16.82664 \nL 88.693125 16.658911 \nL 108.223125 14.590243 \nL 127.753125 17.27392 \nL 147.283125 21.411254 \nL 166.813125 13.5 \n\" clip-path=\"url(#p74b5bf4557)\" style=\"fill: none; stroke-dasharray: 9.6,2.4,1.5,2.4; stroke-dashoffset: 0; stroke: #2ca02c; stroke-width: 1.5\"/>\n   </g>\n   <g id=\"line2d_101\">\n    <path d=\"M 34.954394 63.1613 \nL 44.698573 93.746976 \nL 54.442752 103.86026 \nL 64.186931 106.402557 \nL 73.93111 113.517122 \nL 83.675289 113.21405 \nL 93.419468 119.903281 \nL 103.163647 119.034757 \nL 112.907826 125.115016 \nL 122.652006 124.369082 \nL 132.396185 129.478486 \nL 142.140364 128.629037 \nL 151.884543 133.18198 \nL 161.628722 132.071164 \nL 171.372901 136.002733 \nL 181.11708 134.495733 \n\" clip-path=\"url(#p74b5bf4557)\" style=\"fill: none; stroke: #1f77b4; stroke-width: 1.5; stroke-linecap: square\"/>\n   </g>\n   <g id=\"line2d_102\">\n    <path d=\"M 49.633125 90.685718 \nL 69.163125 99.902147 \nL 88.693125 100.217929 \nL 108.223125 104.927191 \nL 127.753125 98.23077 \nL 147.283125 80.728712 \nL 166.813125 103.085692 \nL 186.343125 98.986337 \n\" clip-path=\"url(#p74b5bf4557)\" style=\"fill: none; stroke-dasharray: 5.55,2.4; stroke-dashoffset: 0; stroke: #ff7f0e; stroke-width: 1.5\"/>\n   </g>\n   <g id=\"line2d_103\">\n    <path d=\"M 49.633125 20.516695 \nL 69.163125 16.82664 \nL 88.693125 16.658911 \nL 108.223125 14.590243 \nL 127.753125 17.27392 \nL 147.283125 21.411254 \nL 166.813125 13.5 \nL 186.343125 14.464446 \n\" clip-path=\"url(#p74b5bf4557)\" style=\"fill: none; stroke-dasharray: 9.6,2.4,1.5,2.4; stroke-dashoffset: 0; stroke: #2ca02c; stroke-width: 1.5\"/>\n   </g>\n   <g id=\"line2d_104\">\n    <path d=\"M 34.954394 63.1613 \nL 44.698573 93.746976 \nL 54.442752 103.86026 \nL 64.186931 106.402557 \nL 73.93111 113.517122 \nL 83.675289 113.21405 \nL 93.419468 119.903281 \nL 103.163647 119.034757 \nL 112.907826 125.115016 \nL 122.652006 124.369082 \nL 132.396185 129.478486 \nL 142.140364 128.629037 \nL 151.884543 133.18198 \nL 161.628722 132.071164 \nL 171.372901 136.002733 \nL 181.11708 134.495733 \nL 190.861259 138.382745 \n\" clip-path=\"url(#p74b5bf4557)\" style=\"fill: none; stroke: #1f77b4; stroke-width: 1.5; stroke-linecap: square\"/>\n   </g>\n   <g id=\"line2d_105\">\n    <path d=\"M 49.633125 90.685718 \nL 69.163125 99.902147 \nL 88.693125 100.217929 \nL 108.223125 104.927191 \nL 127.753125 98.23077 \nL 147.283125 80.728712 \nL 166.813125 103.085692 \nL 186.343125 98.986337 \n\" clip-path=\"url(#p74b5bf4557)\" style=\"fill: none; stroke-dasharray: 5.55,2.4; stroke-dashoffset: 0; stroke: #ff7f0e; stroke-width: 1.5\"/>\n   </g>\n   <g id=\"line2d_106\">\n    <path d=\"M 49.633125 20.516695 \nL 69.163125 16.82664 \nL 88.693125 16.658911 \nL 108.223125 14.590243 \nL 127.753125 17.27392 \nL 147.283125 21.411254 \nL 166.813125 13.5 \nL 186.343125 14.464446 \n\" clip-path=\"url(#p74b5bf4557)\" style=\"fill: none; stroke-dasharray: 9.6,2.4,1.5,2.4; stroke-dashoffset: 0; stroke: #2ca02c; stroke-width: 1.5\"/>\n   </g>\n   <g id=\"line2d_107\">\n    <path d=\"M 34.954394 63.1613 \nL 44.698573 93.746976 \nL 54.442752 103.86026 \nL 64.186931 106.402557 \nL 73.93111 113.517122 \nL 83.675289 113.21405 \nL 93.419468 119.903281 \nL 103.163647 119.034757 \nL 112.907826 125.115016 \nL 122.652006 124.369082 \nL 132.396185 129.478486 \nL 142.140364 128.629037 \nL 151.884543 133.18198 \nL 161.628722 132.071164 \nL 171.372901 136.002733 \nL 181.11708 134.495733 \nL 190.861259 138.382745 \nL 200.605438 137.325493 \n\" clip-path=\"url(#p74b5bf4557)\" style=\"fill: none; stroke: #1f77b4; stroke-width: 1.5; stroke-linecap: square\"/>\n   </g>\n   <g id=\"line2d_108\">\n    <path d=\"M 49.633125 90.685718 \nL 69.163125 99.902147 \nL 88.693125 100.217929 \nL 108.223125 104.927191 \nL 127.753125 98.23077 \nL 147.283125 80.728712 \nL 166.813125 103.085692 \nL 186.343125 98.986337 \n\" clip-path=\"url(#p74b5bf4557)\" style=\"fill: none; stroke-dasharray: 5.55,2.4; stroke-dashoffset: 0; stroke: #ff7f0e; stroke-width: 1.5\"/>\n   </g>\n   <g id=\"line2d_109\">\n    <path d=\"M 49.633125 20.516695 \nL 69.163125 16.82664 \nL 88.693125 16.658911 \nL 108.223125 14.590243 \nL 127.753125 17.27392 \nL 147.283125 21.411254 \nL 166.813125 13.5 \nL 186.343125 14.464446 \n\" clip-path=\"url(#p74b5bf4557)\" style=\"fill: none; stroke-dasharray: 9.6,2.4,1.5,2.4; stroke-dashoffset: 0; stroke: #2ca02c; stroke-width: 1.5\"/>\n   </g>\n   <g id=\"line2d_110\">\n    <path d=\"M 34.954394 63.1613 \nL 44.698573 93.746976 \nL 54.442752 103.86026 \nL 64.186931 106.402557 \nL 73.93111 113.517122 \nL 83.675289 113.21405 \nL 93.419468 119.903281 \nL 103.163647 119.034757 \nL 112.907826 125.115016 \nL 122.652006 124.369082 \nL 132.396185 129.478486 \nL 142.140364 128.629037 \nL 151.884543 133.18198 \nL 161.628722 132.071164 \nL 171.372901 136.002733 \nL 181.11708 134.495733 \nL 190.861259 138.382745 \nL 200.605438 137.325493 \n\" clip-path=\"url(#p74b5bf4557)\" style=\"fill: none; stroke: #1f77b4; stroke-width: 1.5; stroke-linecap: square\"/>\n   </g>\n   <g id=\"line2d_111\">\n    <path d=\"M 49.633125 90.685718 \nL 69.163125 99.902147 \nL 88.693125 100.217929 \nL 108.223125 104.927191 \nL 127.753125 98.23077 \nL 147.283125 80.728712 \nL 166.813125 103.085692 \nL 186.343125 98.986337 \nL 205.873125 98.50287 \n\" clip-path=\"url(#p74b5bf4557)\" style=\"fill: none; stroke-dasharray: 5.55,2.4; stroke-dashoffset: 0; stroke: #ff7f0e; stroke-width: 1.5\"/>\n   </g>\n   <g id=\"line2d_112\">\n    <path d=\"M 49.633125 20.516695 \nL 69.163125 16.82664 \nL 88.693125 16.658911 \nL 108.223125 14.590243 \nL 127.753125 17.27392 \nL 147.283125 21.411254 \nL 166.813125 13.5 \nL 186.343125 14.464446 \n\" clip-path=\"url(#p74b5bf4557)\" style=\"fill: none; stroke-dasharray: 9.6,2.4,1.5,2.4; stroke-dashoffset: 0; stroke: #2ca02c; stroke-width: 1.5\"/>\n   </g>\n   <g id=\"line2d_113\">\n    <path d=\"M 34.954394 63.1613 \nL 44.698573 93.746976 \nL 54.442752 103.86026 \nL 64.186931 106.402557 \nL 73.93111 113.517122 \nL 83.675289 113.21405 \nL 93.419468 119.903281 \nL 103.163647 119.034757 \nL 112.907826 125.115016 \nL 122.652006 124.369082 \nL 132.396185 129.478486 \nL 142.140364 128.629037 \nL 151.884543 133.18198 \nL 161.628722 132.071164 \nL 171.372901 136.002733 \nL 181.11708 134.495733 \nL 190.861259 138.382745 \nL 200.605438 137.325493 \n\" clip-path=\"url(#p74b5bf4557)\" style=\"fill: none; stroke: #1f77b4; stroke-width: 1.5; stroke-linecap: square\"/>\n   </g>\n   <g id=\"line2d_114\">\n    <path d=\"M 49.633125 90.685718 \nL 69.163125 99.902147 \nL 88.693125 100.217929 \nL 108.223125 104.927191 \nL 127.753125 98.23077 \nL 147.283125 80.728712 \nL 166.813125 103.085692 \nL 186.343125 98.986337 \nL 205.873125 98.50287 \n\" clip-path=\"url(#p74b5bf4557)\" style=\"fill: none; stroke-dasharray: 5.55,2.4; stroke-dashoffset: 0; stroke: #ff7f0e; stroke-width: 1.5\"/>\n   </g>\n   <g id=\"line2d_115\">\n    <path d=\"M 49.633125 20.516695 \nL 69.163125 16.82664 \nL 88.693125 16.658911 \nL 108.223125 14.590243 \nL 127.753125 17.27392 \nL 147.283125 21.411254 \nL 166.813125 13.5 \nL 186.343125 14.464446 \nL 205.873125 13.821482 \n\" clip-path=\"url(#p74b5bf4557)\" style=\"fill: none; stroke-dasharray: 9.6,2.4,1.5,2.4; stroke-dashoffset: 0; stroke: #2ca02c; stroke-width: 1.5\"/>\n   </g>\n   <g id=\"line2d_116\">\n    <path d=\"M 34.954394 63.1613 \nL 44.698573 93.746976 \nL 54.442752 103.86026 \nL 64.186931 106.402557 \nL 73.93111 113.517122 \nL 83.675289 113.21405 \nL 93.419468 119.903281 \nL 103.163647 119.034757 \nL 112.907826 125.115016 \nL 122.652006 124.369082 \nL 132.396185 129.478486 \nL 142.140364 128.629037 \nL 151.884543 133.18198 \nL 161.628722 132.071164 \nL 171.372901 136.002733 \nL 181.11708 134.495733 \nL 190.861259 138.382745 \nL 200.605438 137.325493 \nL 210.349618 139.5 \n\" clip-path=\"url(#p74b5bf4557)\" style=\"fill: none; stroke: #1f77b4; stroke-width: 1.5; stroke-linecap: square\"/>\n   </g>\n   <g id=\"line2d_117\">\n    <path d=\"M 49.633125 90.685718 \nL 69.163125 99.902147 \nL 88.693125 100.217929 \nL 108.223125 104.927191 \nL 127.753125 98.23077 \nL 147.283125 80.728712 \nL 166.813125 103.085692 \nL 186.343125 98.986337 \nL 205.873125 98.50287 \n\" clip-path=\"url(#p74b5bf4557)\" style=\"fill: none; stroke-dasharray: 5.55,2.4; stroke-dashoffset: 0; stroke: #ff7f0e; stroke-width: 1.5\"/>\n   </g>\n   <g id=\"line2d_118\">\n    <path d=\"M 49.633125 20.516695 \nL 69.163125 16.82664 \nL 88.693125 16.658911 \nL 108.223125 14.590243 \nL 127.753125 17.27392 \nL 147.283125 21.411254 \nL 166.813125 13.5 \nL 186.343125 14.464446 \nL 205.873125 13.821482 \n\" clip-path=\"url(#p74b5bf4557)\" style=\"fill: none; stroke-dasharray: 9.6,2.4,1.5,2.4; stroke-dashoffset: 0; stroke: #2ca02c; stroke-width: 1.5\"/>\n   </g>\n   <g id=\"line2d_119\">\n    <path d=\"M 34.954394 63.1613 \nL 44.698573 93.746976 \nL 54.442752 103.86026 \nL 64.186931 106.402557 \nL 73.93111 113.517122 \nL 83.675289 113.21405 \nL 93.419468 119.903281 \nL 103.163647 119.034757 \nL 112.907826 125.115016 \nL 122.652006 124.369082 \nL 132.396185 129.478486 \nL 142.140364 128.629037 \nL 151.884543 133.18198 \nL 161.628722 132.071164 \nL 171.372901 136.002733 \nL 181.11708 134.495733 \nL 190.861259 138.382745 \nL 200.605438 137.325493 \nL 210.349618 139.5 \nL 220.093797 138.90992 \n\" clip-path=\"url(#p74b5bf4557)\" style=\"fill: none; stroke: #1f77b4; stroke-width: 1.5; stroke-linecap: square\"/>\n   </g>\n   <g id=\"line2d_120\">\n    <path d=\"M 49.633125 90.685718 \nL 69.163125 99.902147 \nL 88.693125 100.217929 \nL 108.223125 104.927191 \nL 127.753125 98.23077 \nL 147.283125 80.728712 \nL 166.813125 103.085692 \nL 186.343125 98.986337 \nL 205.873125 98.50287 \n\" clip-path=\"url(#p74b5bf4557)\" style=\"fill: none; stroke-dasharray: 5.55,2.4; stroke-dashoffset: 0; stroke: #ff7f0e; stroke-width: 1.5\"/>\n   </g>\n   <g id=\"line2d_121\">\n    <path d=\"M 49.633125 20.516695 \nL 69.163125 16.82664 \nL 88.693125 16.658911 \nL 108.223125 14.590243 \nL 127.753125 17.27392 \nL 147.283125 21.411254 \nL 166.813125 13.5 \nL 186.343125 14.464446 \nL 205.873125 13.821482 \n\" clip-path=\"url(#p74b5bf4557)\" style=\"fill: none; stroke-dasharray: 9.6,2.4,1.5,2.4; stroke-dashoffset: 0; stroke: #2ca02c; stroke-width: 1.5\"/>\n   </g>\n   <g id=\"line2d_122\">\n    <path d=\"M 34.954394 63.1613 \nL 44.698573 93.746976 \nL 54.442752 103.86026 \nL 64.186931 106.402557 \nL 73.93111 113.517122 \nL 83.675289 113.21405 \nL 93.419468 119.903281 \nL 103.163647 119.034757 \nL 112.907826 125.115016 \nL 122.652006 124.369082 \nL 132.396185 129.478486 \nL 142.140364 128.629037 \nL 151.884543 133.18198 \nL 161.628722 132.071164 \nL 171.372901 136.002733 \nL 181.11708 134.495733 \nL 190.861259 138.382745 \nL 200.605438 137.325493 \nL 210.349618 139.5 \nL 220.093797 138.90992 \n\" clip-path=\"url(#p74b5bf4557)\" style=\"fill: none; stroke: #1f77b4; stroke-width: 1.5; stroke-linecap: square\"/>\n   </g>\n   <g id=\"line2d_123\">\n    <path d=\"M 49.633125 90.685718 \nL 69.163125 99.902147 \nL 88.693125 100.217929 \nL 108.223125 104.927191 \nL 127.753125 98.23077 \nL 147.283125 80.728712 \nL 166.813125 103.085692 \nL 186.343125 98.986337 \nL 205.873125 98.50287 \nL 225.403125 89.140247 \n\" clip-path=\"url(#p74b5bf4557)\" style=\"fill: none; stroke-dasharray: 5.55,2.4; stroke-dashoffset: 0; stroke: #ff7f0e; stroke-width: 1.5\"/>\n   </g>\n   <g id=\"line2d_124\">\n    <path d=\"M 49.633125 20.516695 \nL 69.163125 16.82664 \nL 88.693125 16.658911 \nL 108.223125 14.590243 \nL 127.753125 17.27392 \nL 147.283125 21.411254 \nL 166.813125 13.5 \nL 186.343125 14.464446 \nL 205.873125 13.821482 \n\" clip-path=\"url(#p74b5bf4557)\" style=\"fill: none; stroke-dasharray: 9.6,2.4,1.5,2.4; stroke-dashoffset: 0; stroke: #2ca02c; stroke-width: 1.5\"/>\n   </g>\n   <g id=\"line2d_125\">\n    <path d=\"M 34.954394 63.1613 \nL 44.698573 93.746976 \nL 54.442752 103.86026 \nL 64.186931 106.402557 \nL 73.93111 113.517122 \nL 83.675289 113.21405 \nL 93.419468 119.903281 \nL 103.163647 119.034757 \nL 112.907826 125.115016 \nL 122.652006 124.369082 \nL 132.396185 129.478486 \nL 142.140364 128.629037 \nL 151.884543 133.18198 \nL 161.628722 132.071164 \nL 171.372901 136.002733 \nL 181.11708 134.495733 \nL 190.861259 138.382745 \nL 200.605438 137.325493 \nL 210.349618 139.5 \nL 220.093797 138.90992 \n\" clip-path=\"url(#p74b5bf4557)\" style=\"fill: none; stroke: #1f77b4; stroke-width: 1.5; stroke-linecap: square\"/>\n   </g>\n   <g id=\"line2d_126\">\n    <path d=\"M 49.633125 90.685718 \nL 69.163125 99.902147 \nL 88.693125 100.217929 \nL 108.223125 104.927191 \nL 127.753125 98.23077 \nL 147.283125 80.728712 \nL 166.813125 103.085692 \nL 186.343125 98.986337 \nL 205.873125 98.50287 \nL 225.403125 89.140247 \n\" clip-path=\"url(#p74b5bf4557)\" style=\"fill: none; stroke-dasharray: 5.55,2.4; stroke-dashoffset: 0; stroke: #ff7f0e; stroke-width: 1.5\"/>\n   </g>\n   <g id=\"line2d_127\">\n    <path d=\"M 49.633125 20.516695 \nL 69.163125 16.82664 \nL 88.693125 16.658911 \nL 108.223125 14.590243 \nL 127.753125 17.27392 \nL 147.283125 21.411254 \nL 166.813125 13.5 \nL 186.343125 14.464446 \nL 205.873125 13.821482 \nL 225.403125 15.750374 \n\" clip-path=\"url(#p74b5bf4557)\" style=\"fill: none; stroke-dasharray: 9.6,2.4,1.5,2.4; stroke-dashoffset: 0; stroke: #2ca02c; stroke-width: 1.5\"/>\n   </g>\n   <g id=\"patch_3\">\n    <path d=\"M 30.103125 145.8 \nL 30.103125 7.2 \n\" style=\"fill: none; stroke: #000000; stroke-width: 0.8; stroke-linejoin: miter; stroke-linecap: square\"/>\n   </g>\n   <g id=\"patch_4\">\n    <path d=\"M 225.403125 145.8 \nL 225.403125 7.2 \n\" style=\"fill: none; stroke: #000000; stroke-width: 0.8; stroke-linejoin: miter; stroke-linecap: square\"/>\n   </g>\n   <g id=\"patch_5\">\n    <path d=\"M 30.103125 145.8 \nL 225.403125 145.8 \n\" style=\"fill: none; stroke: #000000; stroke-width: 0.8; stroke-linejoin: miter; stroke-linecap: square\"/>\n   </g>\n   <g id=\"patch_6\">\n    <path d=\"M 30.103125 7.2 \nL 225.403125 7.2 \n\" style=\"fill: none; stroke: #000000; stroke-width: 0.8; stroke-linejoin: miter; stroke-linecap: square\"/>\n   </g>\n   <g id=\"legend_1\">\n    <g id=\"patch_7\">\n     <path d=\"M 138.8125 100.434375 \nL 218.403125 100.434375 \nQ 220.403125 100.434375 220.403125 98.434375 \nL 220.403125 54.565625 \nQ 220.403125 52.565625 218.403125 52.565625 \nL 138.8125 52.565625 \nQ 136.8125 52.565625 136.8125 54.565625 \nL 136.8125 98.434375 \nQ 136.8125 100.434375 138.8125 100.434375 \nz\n\" style=\"fill: #ffffff; opacity: 0.8; stroke: #cccccc; stroke-linejoin: miter\"/>\n    </g>\n    <g id=\"line2d_128\">\n     <path d=\"M 140.8125 60.664063 \nL 150.8125 60.664063 \nL 160.8125 60.664063 \n\" style=\"fill: none; stroke: #1f77b4; stroke-width: 1.5; stroke-linecap: square\"/>\n    </g>\n    <g id=\"text_13\">\n     <!-- train_loss -->\n     <g transform=\"translate(168.8125 64.164063) scale(0.1 -0.1)\">\n      <defs>\n       <path id=\"DejaVuSans-74\" d=\"M 1172 4494 \nL 1172 3500 \nL 2356 3500 \nL 2356 3053 \nL 1172 3053 \nL 1172 1153 \nQ 1172 725 1289 603 \nQ 1406 481 1766 481 \nL 2356 481 \nL 2356 0 \nL 1766 0 \nQ 1100 0 847 248 \nQ 594 497 594 1153 \nL 594 3053 \nL 172 3053 \nL 172 3500 \nL 594 3500 \nL 594 4494 \nL 1172 4494 \nz\n\" transform=\"scale(0.015625)\"/>\n       <path id=\"DejaVuSans-72\" d=\"M 2631 2963 \nQ 2534 3019 2420 3045 \nQ 2306 3072 2169 3072 \nQ 1681 3072 1420 2755 \nQ 1159 2438 1159 1844 \nL 1159 0 \nL 581 0 \nL 581 3500 \nL 1159 3500 \nL 1159 2956 \nQ 1341 3275 1631 3429 \nQ 1922 3584 2338 3584 \nQ 2397 3584 2469 3576 \nQ 2541 3569 2628 3553 \nL 2631 2963 \nz\n\" transform=\"scale(0.015625)\"/>\n       <path id=\"DejaVuSans-61\" d=\"M 2194 1759 \nQ 1497 1759 1228 1600 \nQ 959 1441 959 1056 \nQ 959 750 1161 570 \nQ 1363 391 1709 391 \nQ 2188 391 2477 730 \nQ 2766 1069 2766 1631 \nL 2766 1759 \nL 2194 1759 \nz\nM 3341 1997 \nL 3341 0 \nL 2766 0 \nL 2766 531 \nQ 2569 213 2275 61 \nQ 1981 -91 1556 -91 \nQ 1019 -91 701 211 \nQ 384 513 384 1019 \nQ 384 1609 779 1909 \nQ 1175 2209 1959 2209 \nL 2766 2209 \nL 2766 2266 \nQ 2766 2663 2505 2880 \nQ 2244 3097 1772 3097 \nQ 1472 3097 1187 3025 \nQ 903 2953 641 2809 \nL 641 3341 \nQ 956 3463 1253 3523 \nQ 1550 3584 1831 3584 \nQ 2591 3584 2966 3190 \nQ 3341 2797 3341 1997 \nz\n\" transform=\"scale(0.015625)\"/>\n       <path id=\"DejaVuSans-69\" d=\"M 603 3500 \nL 1178 3500 \nL 1178 0 \nL 603 0 \nL 603 3500 \nz\nM 603 4863 \nL 1178 4863 \nL 1178 4134 \nL 603 4134 \nL 603 4863 \nz\n\" transform=\"scale(0.015625)\"/>\n       <path id=\"DejaVuSans-6e\" d=\"M 3513 2113 \nL 3513 0 \nL 2938 0 \nL 2938 2094 \nQ 2938 2591 2744 2837 \nQ 2550 3084 2163 3084 \nQ 1697 3084 1428 2787 \nQ 1159 2491 1159 1978 \nL 1159 0 \nL 581 0 \nL 581 3500 \nL 1159 3500 \nL 1159 2956 \nQ 1366 3272 1645 3428 \nQ 1925 3584 2291 3584 \nQ 2894 3584 3203 3211 \nQ 3513 2838 3513 2113 \nz\n\" transform=\"scale(0.015625)\"/>\n       <path id=\"DejaVuSans-5f\" d=\"M 3263 -1063 \nL 3263 -1509 \nL -63 -1509 \nL -63 -1063 \nL 3263 -1063 \nz\n\" transform=\"scale(0.015625)\"/>\n       <path id=\"DejaVuSans-6c\" d=\"M 603 4863 \nL 1178 4863 \nL 1178 0 \nL 603 0 \nL 603 4863 \nz\n\" transform=\"scale(0.015625)\"/>\n       <path id=\"DejaVuSans-73\" d=\"M 2834 3397 \nL 2834 2853 \nQ 2591 2978 2328 3040 \nQ 2066 3103 1784 3103 \nQ 1356 3103 1142 2972 \nQ 928 2841 928 2578 \nQ 928 2378 1081 2264 \nQ 1234 2150 1697 2047 \nL 1894 2003 \nQ 2506 1872 2764 1633 \nQ 3022 1394 3022 966 \nQ 3022 478 2636 193 \nQ 2250 -91 1575 -91 \nQ 1294 -91 989 -36 \nQ 684 19 347 128 \nL 347 722 \nQ 666 556 975 473 \nQ 1284 391 1588 391 \nQ 1994 391 2212 530 \nQ 2431 669 2431 922 \nQ 2431 1156 2273 1281 \nQ 2116 1406 1581 1522 \nL 1381 1569 \nQ 847 1681 609 1914 \nQ 372 2147 372 2553 \nQ 372 3047 722 3315 \nQ 1072 3584 1716 3584 \nQ 2034 3584 2315 3537 \nQ 2597 3491 2834 3397 \nz\n\" transform=\"scale(0.015625)\"/>\n      </defs>\n      <use xlink:href=\"#DejaVuSans-74\"/>\n      <use xlink:href=\"#DejaVuSans-72\" x=\"39.208984\"/>\n      <use xlink:href=\"#DejaVuSans-61\" x=\"80.322266\"/>\n      <use xlink:href=\"#DejaVuSans-69\" x=\"141.601562\"/>\n      <use xlink:href=\"#DejaVuSans-6e\" x=\"169.384766\"/>\n      <use xlink:href=\"#DejaVuSans-5f\" x=\"232.763672\"/>\n      <use xlink:href=\"#DejaVuSans-6c\" x=\"282.763672\"/>\n      <use xlink:href=\"#DejaVuSans-6f\" x=\"310.546875\"/>\n      <use xlink:href=\"#DejaVuSans-73\" x=\"371.728516\"/>\n      <use xlink:href=\"#DejaVuSans-73\" x=\"423.828125\"/>\n     </g>\n    </g>\n    <g id=\"line2d_129\">\n     <path d=\"M 140.8125 75.620313 \nL 150.8125 75.620313 \nL 160.8125 75.620313 \n\" style=\"fill: none; stroke-dasharray: 5.55,2.4; stroke-dashoffset: 0; stroke: #ff7f0e; stroke-width: 1.5\"/>\n    </g>\n    <g id=\"text_14\">\n     <!-- val_loss -->\n     <g transform=\"translate(168.8125 79.120313) scale(0.1 -0.1)\">\n      <defs>\n       <path id=\"DejaVuSans-76\" d=\"M 191 3500 \nL 800 3500 \nL 1894 563 \nL 2988 3500 \nL 3597 3500 \nL 2284 0 \nL 1503 0 \nL 191 3500 \nz\n\" transform=\"scale(0.015625)\"/>\n      </defs>\n      <use xlink:href=\"#DejaVuSans-76\"/>\n      <use xlink:href=\"#DejaVuSans-61\" x=\"59.179688\"/>\n      <use xlink:href=\"#DejaVuSans-6c\" x=\"120.458984\"/>\n      <use xlink:href=\"#DejaVuSans-5f\" x=\"148.242188\"/>\n      <use xlink:href=\"#DejaVuSans-6c\" x=\"198.242188\"/>\n      <use xlink:href=\"#DejaVuSans-6f\" x=\"226.025391\"/>\n      <use xlink:href=\"#DejaVuSans-73\" x=\"287.207031\"/>\n      <use xlink:href=\"#DejaVuSans-73\" x=\"339.306641\"/>\n     </g>\n    </g>\n    <g id=\"line2d_130\">\n     <path d=\"M 140.8125 90.576563 \nL 150.8125 90.576563 \nL 160.8125 90.576563 \n\" style=\"fill: none; stroke-dasharray: 9.6,2.4,1.5,2.4; stroke-dashoffset: 0; stroke: #2ca02c; stroke-width: 1.5\"/>\n    </g>\n    <g id=\"text_15\">\n     <!-- val_acc -->\n     <g transform=\"translate(168.8125 94.076563) scale(0.1 -0.1)\">\n      <use xlink:href=\"#DejaVuSans-76\"/>\n      <use xlink:href=\"#DejaVuSans-61\" x=\"59.179688\"/>\n      <use xlink:href=\"#DejaVuSans-6c\" x=\"120.458984\"/>\n      <use xlink:href=\"#DejaVuSans-5f\" x=\"148.242188\"/>\n      <use xlink:href=\"#DejaVuSans-61\" x=\"198.242188\"/>\n      <use xlink:href=\"#DejaVuSans-63\" x=\"259.521484\"/>\n      <use xlink:href=\"#DejaVuSans-63\" x=\"314.501953\"/>\n     </g>\n    </g>\n   </g>\n  </g>\n </g>\n <defs>\n  <clipPath id=\"p74b5bf4557\">\n   <rect x=\"30.103125\" y=\"7.2\" width=\"195.3\" height=\"138.6\"/>\n  </clipPath>\n </defs>\n</svg>\n"
          },
          "metadata": {}
        }
      ]
    }
  ]
}